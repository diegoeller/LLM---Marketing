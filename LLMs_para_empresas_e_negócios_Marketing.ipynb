{
  "nbformat": 4,
  "nbformat_minor": 0,
  "metadata": {
    "colab": {
      "provenance": [],
      "gpuType": "T4",
      "include_colab_link": true
    },
    "kernelspec": {
      "name": "python3",
      "display_name": "Python 3"
    },
    "language_info": {
      "name": "python"
    },
    "accelerator": "GPU",
    "widgets": {
      "application/vnd.jupyter.widget-state+json": {
        "b82908996c1745b088225fb821ce03b1": {
          "model_module": "@jupyter-widgets/controls",
          "model_name": "TextModel",
          "model_module_version": "1.5.0",
          "state": {
            "_dom_classes": [],
            "_model_module": "@jupyter-widgets/controls",
            "_model_module_version": "1.5.0",
            "_model_name": "TextModel",
            "_view_count": null,
            "_view_module": "@jupyter-widgets/controls",
            "_view_module_version": "1.5.0",
            "_view_name": "TextView",
            "continuous_update": true,
            "description": "Tema:",
            "description_tooltip": null,
            "disabled": false,
            "layout": "IPY_MODEL_87f9ca1131af49f09e3910731ed64e84",
            "placeholder": "Ex: saúde mental, alimentação saudável, prevenção, etc.",
            "style": "IPY_MODEL_20357e9abff44918bdf26cffe356dde5",
            "value": ""
          }
        },
        "87f9ca1131af49f09e3910731ed64e84": {
          "model_module": "@jupyter-widgets/base",
          "model_name": "LayoutModel",
          "model_module_version": "1.2.0",
          "state": {
            "_model_module": "@jupyter-widgets/base",
            "_model_module_version": "1.2.0",
            "_model_name": "LayoutModel",
            "_view_count": null,
            "_view_module": "@jupyter-widgets/base",
            "_view_module_version": "1.2.0",
            "_view_name": "LayoutView",
            "align_content": null,
            "align_items": null,
            "align_self": null,
            "border": null,
            "bottom": null,
            "display": null,
            "flex": null,
            "flex_flow": null,
            "grid_area": null,
            "grid_auto_columns": null,
            "grid_auto_flow": null,
            "grid_auto_rows": null,
            "grid_column": null,
            "grid_gap": null,
            "grid_row": null,
            "grid_template_areas": null,
            "grid_template_columns": null,
            "grid_template_rows": null,
            "height": null,
            "justify_content": null,
            "justify_items": null,
            "left": null,
            "margin": null,
            "max_height": null,
            "max_width": null,
            "min_height": null,
            "min_width": null,
            "object_fit": null,
            "object_position": null,
            "order": null,
            "overflow": null,
            "overflow_x": null,
            "overflow_y": null,
            "padding": null,
            "right": null,
            "top": null,
            "visibility": null,
            "width": null
          }
        },
        "20357e9abff44918bdf26cffe356dde5": {
          "model_module": "@jupyter-widgets/controls",
          "model_name": "DescriptionStyleModel",
          "model_module_version": "1.5.0",
          "state": {
            "_model_module": "@jupyter-widgets/controls",
            "_model_module_version": "1.5.0",
            "_model_name": "DescriptionStyleModel",
            "_view_count": null,
            "_view_module": "@jupyter-widgets/base",
            "_view_module_version": "1.2.0",
            "_view_name": "StyleView",
            "description_width": ""
          }
        },
        "e5281950e3ef44bfb2b052eca49efa2a": {
          "model_module": "@jupyter-widgets/controls",
          "model_name": "TextModel",
          "model_module_version": "1.5.0",
          "state": {
            "_dom_classes": [],
            "_model_module": "@jupyter-widgets/controls",
            "_model_module_version": "1.5.0",
            "_model_name": "TextModel",
            "_view_count": null,
            "_view_module": "@jupyter-widgets/controls",
            "_view_module_version": "1.5.0",
            "_view_name": "TextView",
            "continuous_update": true,
            "description": "Tema:",
            "description_tooltip": null,
            "disabled": false,
            "layout": "IPY_MODEL_30945f297b954cc194109719aab67933",
            "placeholder": "Ex: saúde mental, alimentação saudável, prevenção, etc.",
            "style": "IPY_MODEL_a041035316bf4aef8a899591a72d38dc",
            "value": "exercícios físicos"
          }
        },
        "30945f297b954cc194109719aab67933": {
          "model_module": "@jupyter-widgets/base",
          "model_name": "LayoutModel",
          "model_module_version": "1.2.0",
          "state": {
            "_model_module": "@jupyter-widgets/base",
            "_model_module_version": "1.2.0",
            "_model_name": "LayoutModel",
            "_view_count": null,
            "_view_module": "@jupyter-widgets/base",
            "_view_module_version": "1.2.0",
            "_view_name": "LayoutView",
            "align_content": null,
            "align_items": null,
            "align_self": null,
            "border": null,
            "bottom": null,
            "display": null,
            "flex": null,
            "flex_flow": null,
            "grid_area": null,
            "grid_auto_columns": null,
            "grid_auto_flow": null,
            "grid_auto_rows": null,
            "grid_column": null,
            "grid_gap": null,
            "grid_row": null,
            "grid_template_areas": null,
            "grid_template_columns": null,
            "grid_template_rows": null,
            "height": null,
            "justify_content": null,
            "justify_items": null,
            "left": null,
            "margin": null,
            "max_height": null,
            "max_width": null,
            "min_height": null,
            "min_width": null,
            "object_fit": null,
            "object_position": null,
            "order": null,
            "overflow": null,
            "overflow_x": null,
            "overflow_y": null,
            "padding": null,
            "right": null,
            "top": null,
            "visibility": null,
            "width": "500px"
          }
        },
        "a041035316bf4aef8a899591a72d38dc": {
          "model_module": "@jupyter-widgets/controls",
          "model_name": "DescriptionStyleModel",
          "model_module_version": "1.5.0",
          "state": {
            "_model_module": "@jupyter-widgets/controls",
            "_model_module_version": "1.5.0",
            "_model_name": "DescriptionStyleModel",
            "_view_count": null,
            "_view_module": "@jupyter-widgets/base",
            "_view_module_version": "1.2.0",
            "_view_name": "StyleView",
            "description_width": ""
          }
        },
        "f7aaddce82f04242adeff28aae5f2b88": {
          "model_module": "@jupyter-widgets/controls",
          "model_name": "DropdownModel",
          "model_module_version": "1.5.0",
          "state": {
            "_dom_classes": [],
            "_model_module": "@jupyter-widgets/controls",
            "_model_module_version": "1.5.0",
            "_model_name": "DropdownModel",
            "_options_labels": [
              "Instagram",
              "Facebook",
              "LinkedIn",
              "Blog",
              "E-mail"
            ],
            "_view_count": null,
            "_view_module": "@jupyter-widgets/controls",
            "_view_module_version": "1.5.0",
            "_view_name": "DropdownView",
            "description": "Plataforma",
            "description_tooltip": null,
            "disabled": false,
            "index": 3,
            "layout": "IPY_MODEL_5c164db1d5614f91ab891afef725749d",
            "style": "IPY_MODEL_658612f1638d42228fa6becb713f1c45"
          }
        },
        "5c164db1d5614f91ab891afef725749d": {
          "model_module": "@jupyter-widgets/base",
          "model_name": "LayoutModel",
          "model_module_version": "1.2.0",
          "state": {
            "_model_module": "@jupyter-widgets/base",
            "_model_module_version": "1.2.0",
            "_model_name": "LayoutModel",
            "_view_count": null,
            "_view_module": "@jupyter-widgets/base",
            "_view_module_version": "1.2.0",
            "_view_name": "LayoutView",
            "align_content": null,
            "align_items": null,
            "align_self": null,
            "border": null,
            "bottom": null,
            "display": null,
            "flex": null,
            "flex_flow": null,
            "grid_area": null,
            "grid_auto_columns": null,
            "grid_auto_flow": null,
            "grid_auto_rows": null,
            "grid_column": null,
            "grid_gap": null,
            "grid_row": null,
            "grid_template_areas": null,
            "grid_template_columns": null,
            "grid_template_rows": null,
            "height": null,
            "justify_content": null,
            "justify_items": null,
            "left": null,
            "margin": null,
            "max_height": null,
            "max_width": null,
            "min_height": null,
            "min_width": null,
            "object_fit": null,
            "object_position": null,
            "order": null,
            "overflow": null,
            "overflow_x": null,
            "overflow_y": null,
            "padding": null,
            "right": null,
            "top": null,
            "visibility": null,
            "width": "250px"
          }
        },
        "658612f1638d42228fa6becb713f1c45": {
          "model_module": "@jupyter-widgets/controls",
          "model_name": "DescriptionStyleModel",
          "model_module_version": "1.5.0",
          "state": {
            "_model_module": "@jupyter-widgets/controls",
            "_model_module_version": "1.5.0",
            "_model_name": "DescriptionStyleModel",
            "_view_count": null,
            "_view_module": "@jupyter-widgets/base",
            "_view_module_version": "1.2.0",
            "_view_name": "StyleView",
            "description_width": ""
          }
        },
        "03da9484d33d40669a48b9b57f9f6339": {
          "model_module": "@jupyter-widgets/controls",
          "model_name": "DropdownModel",
          "model_module_version": "1.5.0",
          "state": {
            "_dom_classes": [],
            "_model_module": "@jupyter-widgets/controls",
            "_model_module_version": "1.5.0",
            "_model_name": "DropdownModel",
            "_options_labels": [
              "Normal",
              "Informativo",
              "Inspirador",
              "Urgente",
              "Informal"
            ],
            "_view_count": null,
            "_view_module": "@jupyter-widgets/controls",
            "_view_module_version": "1.5.0",
            "_view_name": "DropdownView",
            "description": "Tom:",
            "description_tooltip": null,
            "disabled": false,
            "index": 1,
            "layout": "IPY_MODEL_3851e16b5d514ef48697ab91c2542b53",
            "style": "IPY_MODEL_4aa9e15b38a14836b87471157d8d6694"
          }
        },
        "3851e16b5d514ef48697ab91c2542b53": {
          "model_module": "@jupyter-widgets/base",
          "model_name": "LayoutModel",
          "model_module_version": "1.2.0",
          "state": {
            "_model_module": "@jupyter-widgets/base",
            "_model_module_version": "1.2.0",
            "_model_name": "LayoutModel",
            "_view_count": null,
            "_view_module": "@jupyter-widgets/base",
            "_view_module_version": "1.2.0",
            "_view_name": "LayoutView",
            "align_content": null,
            "align_items": null,
            "align_self": null,
            "border": null,
            "bottom": null,
            "display": null,
            "flex": null,
            "flex_flow": null,
            "grid_area": null,
            "grid_auto_columns": null,
            "grid_auto_flow": null,
            "grid_auto_rows": null,
            "grid_column": null,
            "grid_gap": null,
            "grid_row": null,
            "grid_template_areas": null,
            "grid_template_columns": null,
            "grid_template_rows": null,
            "height": null,
            "justify_content": null,
            "justify_items": null,
            "left": null,
            "margin": null,
            "max_height": null,
            "max_width": null,
            "min_height": null,
            "min_width": null,
            "object_fit": null,
            "object_position": null,
            "order": null,
            "overflow": null,
            "overflow_x": null,
            "overflow_y": null,
            "padding": null,
            "right": null,
            "top": null,
            "visibility": null,
            "width": "250px"
          }
        },
        "4aa9e15b38a14836b87471157d8d6694": {
          "model_module": "@jupyter-widgets/controls",
          "model_name": "DescriptionStyleModel",
          "model_module_version": "1.5.0",
          "state": {
            "_model_module": "@jupyter-widgets/controls",
            "_model_module_version": "1.5.0",
            "_model_name": "DescriptionStyleModel",
            "_view_count": null,
            "_view_module": "@jupyter-widgets/base",
            "_view_module_version": "1.2.0",
            "_view_name": "StyleView",
            "description_width": ""
          }
        },
        "35c822efc83f428bab147d7b361adee4": {
          "model_module": "@jupyter-widgets/controls",
          "model_name": "DropdownModel",
          "model_module_version": "1.5.0",
          "state": {
            "_dom_classes": [],
            "_model_module": "@jupyter-widgets/controls",
            "_model_module_version": "1.5.0",
            "_model_name": "DropdownModel",
            "_options_labels": [
              "Curto",
              "Médio",
              "Longo"
            ],
            "_view_count": null,
            "_view_module": "@jupyter-widgets/controls",
            "_view_module_version": "1.5.0",
            "_view_name": "DropdownView",
            "description": "Tamanho:",
            "description_tooltip": null,
            "disabled": false,
            "index": 1,
            "layout": "IPY_MODEL_7fbcd3b2ecd047eb8572a1c1d5a2a752",
            "style": "IPY_MODEL_972e640f708b478a893f0526aeb9ff21"
          }
        },
        "7fbcd3b2ecd047eb8572a1c1d5a2a752": {
          "model_module": "@jupyter-widgets/base",
          "model_name": "LayoutModel",
          "model_module_version": "1.2.0",
          "state": {
            "_model_module": "@jupyter-widgets/base",
            "_model_module_version": "1.2.0",
            "_model_name": "LayoutModel",
            "_view_count": null,
            "_view_module": "@jupyter-widgets/base",
            "_view_module_version": "1.2.0",
            "_view_name": "LayoutView",
            "align_content": null,
            "align_items": null,
            "align_self": null,
            "border": null,
            "bottom": null,
            "display": null,
            "flex": null,
            "flex_flow": null,
            "grid_area": null,
            "grid_auto_columns": null,
            "grid_auto_flow": null,
            "grid_auto_rows": null,
            "grid_column": null,
            "grid_gap": null,
            "grid_row": null,
            "grid_template_areas": null,
            "grid_template_columns": null,
            "grid_template_rows": null,
            "height": null,
            "justify_content": null,
            "justify_items": null,
            "left": null,
            "margin": null,
            "max_height": null,
            "max_width": null,
            "min_height": null,
            "min_width": null,
            "object_fit": null,
            "object_position": null,
            "order": null,
            "overflow": null,
            "overflow_x": null,
            "overflow_y": null,
            "padding": null,
            "right": null,
            "top": null,
            "visibility": null,
            "width": "250px"
          }
        },
        "972e640f708b478a893f0526aeb9ff21": {
          "model_module": "@jupyter-widgets/controls",
          "model_name": "DescriptionStyleModel",
          "model_module_version": "1.5.0",
          "state": {
            "_model_module": "@jupyter-widgets/controls",
            "_model_module_version": "1.5.0",
            "_model_name": "DescriptionStyleModel",
            "_view_count": null,
            "_view_module": "@jupyter-widgets/base",
            "_view_module_version": "1.2.0",
            "_view_name": "StyleView",
            "description_width": ""
          }
        },
        "24e9895441c44510b423c662c3adb5f4": {
          "model_module": "@jupyter-widgets/controls",
          "model_name": "DropdownModel",
          "model_module_version": "1.5.0",
          "state": {
            "_dom_classes": [],
            "_model_module": "@jupyter-widgets/controls",
            "_model_module_version": "1.5.0",
            "_model_name": "DropdownModel",
            "_options_labels": [
              "Geral",
              "Jovens adultos",
              "Famílias",
              "Idosos",
              "Adolescentes"
            ],
            "_view_count": null,
            "_view_module": "@jupyter-widgets/controls",
            "_view_module_version": "1.5.0",
            "_view_name": "DropdownView",
            "description": "Público-alvo:",
            "description_tooltip": null,
            "disabled": false,
            "index": 1,
            "layout": "IPY_MODEL_2ff84728d30244ffa07f61cb98c6522e",
            "style": "IPY_MODEL_28d7a1ea376d4146a189dd711aff9f95"
          }
        },
        "2ff84728d30244ffa07f61cb98c6522e": {
          "model_module": "@jupyter-widgets/base",
          "model_name": "LayoutModel",
          "model_module_version": "1.2.0",
          "state": {
            "_model_module": "@jupyter-widgets/base",
            "_model_module_version": "1.2.0",
            "_model_name": "LayoutModel",
            "_view_count": null,
            "_view_module": "@jupyter-widgets/base",
            "_view_module_version": "1.2.0",
            "_view_name": "LayoutView",
            "align_content": null,
            "align_items": null,
            "align_self": null,
            "border": null,
            "bottom": null,
            "display": null,
            "flex": null,
            "flex_flow": null,
            "grid_area": null,
            "grid_auto_columns": null,
            "grid_auto_flow": null,
            "grid_auto_rows": null,
            "grid_column": null,
            "grid_gap": null,
            "grid_row": null,
            "grid_template_areas": null,
            "grid_template_columns": null,
            "grid_template_rows": null,
            "height": null,
            "justify_content": null,
            "justify_items": null,
            "left": null,
            "margin": null,
            "max_height": null,
            "max_width": null,
            "min_height": null,
            "min_width": null,
            "object_fit": null,
            "object_position": null,
            "order": null,
            "overflow": null,
            "overflow_x": null,
            "overflow_y": null,
            "padding": null,
            "right": null,
            "top": null,
            "visibility": null,
            "width": "250px"
          }
        },
        "28d7a1ea376d4146a189dd711aff9f95": {
          "model_module": "@jupyter-widgets/controls",
          "model_name": "DescriptionStyleModel",
          "model_module_version": "1.5.0",
          "state": {
            "_model_module": "@jupyter-widgets/controls",
            "_model_module_version": "1.5.0",
            "_model_name": "DescriptionStyleModel",
            "_view_count": null,
            "_view_module": "@jupyter-widgets/base",
            "_view_module_version": "1.2.0",
            "_view_name": "StyleView",
            "description_width": ""
          }
        },
        "434d2a35af6446bfad4cf3767619a0bc": {
          "model_module": "@jupyter-widgets/controls",
          "model_name": "CheckboxModel",
          "model_module_version": "1.5.0",
          "state": {
            "_dom_classes": [],
            "_model_module": "@jupyter-widgets/controls",
            "_model_module_version": "1.5.0",
            "_model_name": "CheckboxModel",
            "_view_count": null,
            "_view_module": "@jupyter-widgets/controls",
            "_view_module_version": "1.5.0",
            "_view_name": "CheckboxView",
            "description": "Incluir CTA",
            "description_tooltip": null,
            "disabled": false,
            "indent": true,
            "layout": "IPY_MODEL_17aafbc1e07c49efb4937c6e62410a06",
            "style": "IPY_MODEL_a09e5d5ee6774abf801a165f01db1fa4",
            "value": false
          }
        },
        "17aafbc1e07c49efb4937c6e62410a06": {
          "model_module": "@jupyter-widgets/base",
          "model_name": "LayoutModel",
          "model_module_version": "1.2.0",
          "state": {
            "_model_module": "@jupyter-widgets/base",
            "_model_module_version": "1.2.0",
            "_model_name": "LayoutModel",
            "_view_count": null,
            "_view_module": "@jupyter-widgets/base",
            "_view_module_version": "1.2.0",
            "_view_name": "LayoutView",
            "align_content": null,
            "align_items": null,
            "align_self": null,
            "border": null,
            "bottom": null,
            "display": null,
            "flex": null,
            "flex_flow": null,
            "grid_area": null,
            "grid_auto_columns": null,
            "grid_auto_flow": null,
            "grid_auto_rows": null,
            "grid_column": null,
            "grid_gap": null,
            "grid_row": null,
            "grid_template_areas": null,
            "grid_template_columns": null,
            "grid_template_rows": null,
            "height": null,
            "justify_content": null,
            "justify_items": null,
            "left": null,
            "margin": null,
            "max_height": null,
            "max_width": null,
            "min_height": null,
            "min_width": null,
            "object_fit": null,
            "object_position": null,
            "order": null,
            "overflow": null,
            "overflow_x": null,
            "overflow_y": null,
            "padding": null,
            "right": null,
            "top": null,
            "visibility": null,
            "width": null
          }
        },
        "a09e5d5ee6774abf801a165f01db1fa4": {
          "model_module": "@jupyter-widgets/controls",
          "model_name": "DescriptionStyleModel",
          "model_module_version": "1.5.0",
          "state": {
            "_model_module": "@jupyter-widgets/controls",
            "_model_module_version": "1.5.0",
            "_model_name": "DescriptionStyleModel",
            "_view_count": null,
            "_view_module": "@jupyter-widgets/base",
            "_view_module_version": "1.2.0",
            "_view_name": "StyleView",
            "description_width": ""
          }
        },
        "72a3eeecca9b4302994493ebe3356fe1": {
          "model_module": "@jupyter-widgets/controls",
          "model_name": "TextareaModel",
          "model_module_version": "1.5.0",
          "state": {
            "_dom_classes": [],
            "_model_module": "@jupyter-widgets/controls",
            "_model_module_version": "1.5.0",
            "_model_name": "TextareaModel",
            "_view_count": null,
            "_view_module": "@jupyter-widgets/controls",
            "_view_module_version": "1.5.0",
            "_view_name": "TextareaView",
            "continuous_update": true,
            "description": "Palavras-chave (SEO)",
            "description_tooltip": null,
            "disabled": false,
            "layout": "IPY_MODEL_c4a4f764309346a2b6e38e370603dd9d",
            "placeholder": "Ex: bem-estar, medicina preventiva...",
            "rows": null,
            "style": "IPY_MODEL_550689b8af4f4c4bad9c993ea4b77f08",
            "value": "musculação"
          }
        },
        "c4a4f764309346a2b6e38e370603dd9d": {
          "model_module": "@jupyter-widgets/base",
          "model_name": "LayoutModel",
          "model_module_version": "1.2.0",
          "state": {
            "_model_module": "@jupyter-widgets/base",
            "_model_module_version": "1.2.0",
            "_model_name": "LayoutModel",
            "_view_count": null,
            "_view_module": "@jupyter-widgets/base",
            "_view_module_version": "1.2.0",
            "_view_name": "LayoutView",
            "align_content": null,
            "align_items": null,
            "align_self": null,
            "border": null,
            "bottom": null,
            "display": null,
            "flex": null,
            "flex_flow": null,
            "grid_area": null,
            "grid_auto_columns": null,
            "grid_auto_flow": null,
            "grid_auto_rows": null,
            "grid_column": null,
            "grid_gap": null,
            "grid_row": null,
            "grid_template_areas": null,
            "grid_template_columns": null,
            "grid_template_rows": null,
            "height": "50px",
            "justify_content": null,
            "justify_items": null,
            "left": null,
            "margin": null,
            "max_height": null,
            "max_width": null,
            "min_height": null,
            "min_width": null,
            "object_fit": null,
            "object_position": null,
            "order": null,
            "overflow": null,
            "overflow_x": null,
            "overflow_y": null,
            "padding": null,
            "right": null,
            "top": null,
            "visibility": null,
            "width": "500px"
          }
        },
        "550689b8af4f4c4bad9c993ea4b77f08": {
          "model_module": "@jupyter-widgets/controls",
          "model_name": "DescriptionStyleModel",
          "model_module_version": "1.5.0",
          "state": {
            "_model_module": "@jupyter-widgets/controls",
            "_model_module_version": "1.5.0",
            "_model_name": "DescriptionStyleModel",
            "_view_count": null,
            "_view_module": "@jupyter-widgets/base",
            "_view_module_version": "1.2.0",
            "_view_name": "StyleView",
            "description_width": ""
          }
        },
        "87dddf3a5c8b4f43aaac0845264a3e69": {
          "model_module": "@jupyter-widgets/controls",
          "model_name": "ButtonModel",
          "model_module_version": "1.5.0",
          "state": {
            "_dom_classes": [],
            "_model_module": "@jupyter-widgets/controls",
            "_model_module_version": "1.5.0",
            "_model_name": "ButtonModel",
            "_view_count": null,
            "_view_module": "@jupyter-widgets/controls",
            "_view_module_version": "1.5.0",
            "_view_name": "ButtonView",
            "button_style": "",
            "description": "Gerar conteúdo",
            "disabled": false,
            "icon": "",
            "layout": "IPY_MODEL_2f71e9a065164d72bc2a2fbaf8f4afb2",
            "style": "IPY_MODEL_2d28f3d14ad34beba91993ff9ac74ef5",
            "tooltip": ""
          }
        },
        "2f71e9a065164d72bc2a2fbaf8f4afb2": {
          "model_module": "@jupyter-widgets/base",
          "model_name": "LayoutModel",
          "model_module_version": "1.2.0",
          "state": {
            "_model_module": "@jupyter-widgets/base",
            "_model_module_version": "1.2.0",
            "_model_name": "LayoutModel",
            "_view_count": null,
            "_view_module": "@jupyter-widgets/base",
            "_view_module_version": "1.2.0",
            "_view_name": "LayoutView",
            "align_content": null,
            "align_items": null,
            "align_self": null,
            "border": null,
            "bottom": null,
            "display": null,
            "flex": null,
            "flex_flow": null,
            "grid_area": null,
            "grid_auto_columns": null,
            "grid_auto_flow": null,
            "grid_auto_rows": null,
            "grid_column": null,
            "grid_gap": null,
            "grid_row": null,
            "grid_template_areas": null,
            "grid_template_columns": null,
            "grid_template_rows": null,
            "height": null,
            "justify_content": null,
            "justify_items": null,
            "left": null,
            "margin": null,
            "max_height": null,
            "max_width": null,
            "min_height": null,
            "min_width": null,
            "object_fit": null,
            "object_position": null,
            "order": null,
            "overflow": null,
            "overflow_x": null,
            "overflow_y": null,
            "padding": null,
            "right": null,
            "top": null,
            "visibility": null,
            "width": null
          }
        },
        "2d28f3d14ad34beba91993ff9ac74ef5": {
          "model_module": "@jupyter-widgets/controls",
          "model_name": "ButtonStyleModel",
          "model_module_version": "1.5.0",
          "state": {
            "_model_module": "@jupyter-widgets/controls",
            "_model_module_version": "1.5.0",
            "_model_name": "ButtonStyleModel",
            "_view_count": null,
            "_view_module": "@jupyter-widgets/base",
            "_view_module_version": "1.2.0",
            "_view_name": "StyleView",
            "button_color": null,
            "font_weight": ""
          }
        },
        "62d273e323484f3b996757b4e8d9695a": {
          "model_module": "@jupyter-widgets/output",
          "model_name": "OutputModel",
          "model_module_version": "1.0.0",
          "state": {
            "_dom_classes": [],
            "_model_module": "@jupyter-widgets/output",
            "_model_module_version": "1.0.0",
            "_model_name": "OutputModel",
            "_view_count": null,
            "_view_module": "@jupyter-widgets/output",
            "_view_module_version": "1.0.0",
            "_view_name": "OutputView",
            "layout": "IPY_MODEL_ca33ef5640a64ae2bd79dcb8159dcf08",
            "msg_id": "",
            "outputs": []
          }
        },
        "ca33ef5640a64ae2bd79dcb8159dcf08": {
          "model_module": "@jupyter-widgets/base",
          "model_name": "LayoutModel",
          "model_module_version": "1.2.0",
          "state": {
            "_model_module": "@jupyter-widgets/base",
            "_model_module_version": "1.2.0",
            "_model_name": "LayoutModel",
            "_view_count": null,
            "_view_module": "@jupyter-widgets/base",
            "_view_module_version": "1.2.0",
            "_view_name": "LayoutView",
            "align_content": null,
            "align_items": null,
            "align_self": null,
            "border": null,
            "bottom": null,
            "display": null,
            "flex": null,
            "flex_flow": null,
            "grid_area": null,
            "grid_auto_columns": null,
            "grid_auto_flow": null,
            "grid_auto_rows": null,
            "grid_column": null,
            "grid_gap": null,
            "grid_row": null,
            "grid_template_areas": null,
            "grid_template_columns": null,
            "grid_template_rows": null,
            "height": null,
            "justify_content": null,
            "justify_items": null,
            "left": null,
            "margin": null,
            "max_height": null,
            "max_width": null,
            "min_height": null,
            "min_width": null,
            "object_fit": null,
            "object_position": null,
            "order": null,
            "overflow": null,
            "overflow_x": null,
            "overflow_y": null,
            "padding": null,
            "right": null,
            "top": null,
            "visibility": null,
            "width": null
          }
        },
        "c384f46bdcc74b96866873484d274584": {
          "model_module": "@jupyter-widgets/controls",
          "model_name": "VBoxModel",
          "model_module_version": "1.5.0",
          "state": {
            "_dom_classes": [],
            "_model_module": "@jupyter-widgets/controls",
            "_model_module_version": "1.5.0",
            "_model_name": "VBoxModel",
            "_view_count": null,
            "_view_module": "@jupyter-widgets/controls",
            "_view_module_version": "1.5.0",
            "_view_name": "VBoxView",
            "box_style": "",
            "children": [
              "IPY_MODEL_e5281950e3ef44bfb2b052eca49efa2a",
              "IPY_MODEL_f7aaddce82f04242adeff28aae5f2b88",
              "IPY_MODEL_03da9484d33d40669a48b9b57f9f6339",
              "IPY_MODEL_35c822efc83f428bab147d7b361adee4",
              "IPY_MODEL_24e9895441c44510b423c662c3adb5f4",
              "IPY_MODEL_434d2a35af6446bfad4cf3767619a0bc",
              "IPY_MODEL_c78c8f498dd84df1a87aaf2696e0c0d9",
              "IPY_MODEL_72a3eeecca9b4302994493ebe3356fe1",
              "IPY_MODEL_87dddf3a5c8b4f43aaac0845264a3e69",
              "IPY_MODEL_62d273e323484f3b996757b4e8d9695a"
            ],
            "layout": "IPY_MODEL_3294487e89fd484b8f53dd12c2ab9b78"
          }
        },
        "c78c8f498dd84df1a87aaf2696e0c0d9": {
          "model_module": "@jupyter-widgets/controls",
          "model_name": "CheckboxModel",
          "model_module_version": "1.5.0",
          "state": {
            "_dom_classes": [],
            "_model_module": "@jupyter-widgets/controls",
            "_model_module_version": "1.5.0",
            "_model_name": "CheckboxModel",
            "_view_count": null,
            "_view_module": "@jupyter-widgets/controls",
            "_view_module_version": "1.5.0",
            "_view_name": "CheckboxView",
            "description": "Retornar Hashtags",
            "description_tooltip": null,
            "disabled": false,
            "indent": true,
            "layout": "IPY_MODEL_dec957a1eb6048d4aecfe3e4ab9f5d05",
            "style": "IPY_MODEL_fc7792dd0a304a72be813994ec909df1",
            "value": false
          }
        },
        "3294487e89fd484b8f53dd12c2ab9b78": {
          "model_module": "@jupyter-widgets/base",
          "model_name": "LayoutModel",
          "model_module_version": "1.2.0",
          "state": {
            "_model_module": "@jupyter-widgets/base",
            "_model_module_version": "1.2.0",
            "_model_name": "LayoutModel",
            "_view_count": null,
            "_view_module": "@jupyter-widgets/base",
            "_view_module_version": "1.2.0",
            "_view_name": "LayoutView",
            "align_content": null,
            "align_items": null,
            "align_self": null,
            "border": null,
            "bottom": null,
            "display": null,
            "flex": null,
            "flex_flow": null,
            "grid_area": null,
            "grid_auto_columns": null,
            "grid_auto_flow": null,
            "grid_auto_rows": null,
            "grid_column": null,
            "grid_gap": null,
            "grid_row": null,
            "grid_template_areas": null,
            "grid_template_columns": null,
            "grid_template_rows": null,
            "height": null,
            "justify_content": null,
            "justify_items": null,
            "left": null,
            "margin": null,
            "max_height": null,
            "max_width": null,
            "min_height": null,
            "min_width": null,
            "object_fit": null,
            "object_position": null,
            "order": null,
            "overflow": null,
            "overflow_x": null,
            "overflow_y": null,
            "padding": null,
            "right": null,
            "top": null,
            "visibility": null,
            "width": null
          }
        },
        "dec957a1eb6048d4aecfe3e4ab9f5d05": {
          "model_module": "@jupyter-widgets/base",
          "model_name": "LayoutModel",
          "model_module_version": "1.2.0",
          "state": {
            "_model_module": "@jupyter-widgets/base",
            "_model_module_version": "1.2.0",
            "_model_name": "LayoutModel",
            "_view_count": null,
            "_view_module": "@jupyter-widgets/base",
            "_view_module_version": "1.2.0",
            "_view_name": "LayoutView",
            "align_content": null,
            "align_items": null,
            "align_self": null,
            "border": null,
            "bottom": null,
            "display": null,
            "flex": null,
            "flex_flow": null,
            "grid_area": null,
            "grid_auto_columns": null,
            "grid_auto_flow": null,
            "grid_auto_rows": null,
            "grid_column": null,
            "grid_gap": null,
            "grid_row": null,
            "grid_template_areas": null,
            "grid_template_columns": null,
            "grid_template_rows": null,
            "height": null,
            "justify_content": null,
            "justify_items": null,
            "left": null,
            "margin": null,
            "max_height": null,
            "max_width": null,
            "min_height": null,
            "min_width": null,
            "object_fit": null,
            "object_position": null,
            "order": null,
            "overflow": null,
            "overflow_x": null,
            "overflow_y": null,
            "padding": null,
            "right": null,
            "top": null,
            "visibility": null,
            "width": null
          }
        },
        "fc7792dd0a304a72be813994ec909df1": {
          "model_module": "@jupyter-widgets/controls",
          "model_name": "DescriptionStyleModel",
          "model_module_version": "1.5.0",
          "state": {
            "_model_module": "@jupyter-widgets/controls",
            "_model_module_version": "1.5.0",
            "_model_name": "DescriptionStyleModel",
            "_view_count": null,
            "_view_module": "@jupyter-widgets/base",
            "_view_module_version": "1.2.0",
            "_view_name": "StyleView",
            "description_width": ""
          }
        },
        "18494ed34ae44722b81cb2330002a72d": {
          "model_module": "@jupyter-widgets/controls",
          "model_name": "VBoxModel",
          "model_module_version": "1.5.0",
          "state": {
            "_dom_classes": [],
            "_model_module": "@jupyter-widgets/controls",
            "_model_module_version": "1.5.0",
            "_model_name": "VBoxModel",
            "_view_count": null,
            "_view_module": "@jupyter-widgets/controls",
            "_view_module_version": "1.5.0",
            "_view_name": "VBoxView",
            "box_style": "",
            "children": [
              "IPY_MODEL_e5281950e3ef44bfb2b052eca49efa2a",
              "IPY_MODEL_f7aaddce82f04242adeff28aae5f2b88",
              "IPY_MODEL_03da9484d33d40669a48b9b57f9f6339",
              "IPY_MODEL_35c822efc83f428bab147d7b361adee4",
              "IPY_MODEL_24e9895441c44510b423c662c3adb5f4",
              "IPY_MODEL_434d2a35af6446bfad4cf3767619a0bc",
              "IPY_MODEL_c78c8f498dd84df1a87aaf2696e0c0d9",
              "IPY_MODEL_72a3eeecca9b4302994493ebe3356fe1",
              "IPY_MODEL_87dddf3a5c8b4f43aaac0845264a3e69",
              "IPY_MODEL_62d273e323484f3b996757b4e8d9695a"
            ],
            "layout": "IPY_MODEL_4cdc2bec8aa1405aa673f2c0a75969aa"
          }
        },
        "4cdc2bec8aa1405aa673f2c0a75969aa": {
          "model_module": "@jupyter-widgets/base",
          "model_name": "LayoutModel",
          "model_module_version": "1.2.0",
          "state": {
            "_model_module": "@jupyter-widgets/base",
            "_model_module_version": "1.2.0",
            "_model_name": "LayoutModel",
            "_view_count": null,
            "_view_module": "@jupyter-widgets/base",
            "_view_module_version": "1.2.0",
            "_view_name": "LayoutView",
            "align_content": null,
            "align_items": null,
            "align_self": null,
            "border": null,
            "bottom": null,
            "display": null,
            "flex": null,
            "flex_flow": null,
            "grid_area": null,
            "grid_auto_columns": null,
            "grid_auto_flow": null,
            "grid_auto_rows": null,
            "grid_column": null,
            "grid_gap": null,
            "grid_row": null,
            "grid_template_areas": null,
            "grid_template_columns": null,
            "grid_template_rows": null,
            "height": null,
            "justify_content": null,
            "justify_items": null,
            "left": null,
            "margin": null,
            "max_height": null,
            "max_width": null,
            "min_height": null,
            "min_width": null,
            "object_fit": null,
            "object_position": null,
            "order": null,
            "overflow": null,
            "overflow_x": null,
            "overflow_y": null,
            "padding": null,
            "right": null,
            "top": null,
            "visibility": null,
            "width": null
          }
        },
        "33b9b281bb5a4991ae67828f52eedcde": {
          "model_module": "@jupyter-widgets/controls",
          "model_name": "VBoxModel",
          "model_module_version": "1.5.0",
          "state": {
            "_dom_classes": [],
            "_model_module": "@jupyter-widgets/controls",
            "_model_module_version": "1.5.0",
            "_model_name": "VBoxModel",
            "_view_count": null,
            "_view_module": "@jupyter-widgets/controls",
            "_view_module_version": "1.5.0",
            "_view_name": "VBoxView",
            "box_style": "",
            "children": [
              "IPY_MODEL_e5281950e3ef44bfb2b052eca49efa2a",
              "IPY_MODEL_f7aaddce82f04242adeff28aae5f2b88",
              "IPY_MODEL_03da9484d33d40669a48b9b57f9f6339",
              "IPY_MODEL_35c822efc83f428bab147d7b361adee4",
              "IPY_MODEL_24e9895441c44510b423c662c3adb5f4",
              "IPY_MODEL_434d2a35af6446bfad4cf3767619a0bc",
              "IPY_MODEL_c78c8f498dd84df1a87aaf2696e0c0d9",
              "IPY_MODEL_72a3eeecca9b4302994493ebe3356fe1",
              "IPY_MODEL_6c27c2b511044823a2e65b2269bbf75e",
              "IPY_MODEL_4936ff9d01c14351aba463c2a9f2bd36"
            ],
            "layout": "IPY_MODEL_6cfb0417d1c94de386e58e0a5aa7a9ee"
          }
        },
        "6c27c2b511044823a2e65b2269bbf75e": {
          "model_module": "@jupyter-widgets/controls",
          "model_name": "ButtonModel",
          "model_module_version": "1.5.0",
          "state": {
            "_dom_classes": [],
            "_model_module": "@jupyter-widgets/controls",
            "_model_module_version": "1.5.0",
            "_model_name": "ButtonModel",
            "_view_count": null,
            "_view_module": "@jupyter-widgets/controls",
            "_view_module_version": "1.5.0",
            "_view_name": "ButtonView",
            "button_style": "",
            "description": "Gerar conteúdo",
            "disabled": false,
            "icon": "",
            "layout": "IPY_MODEL_28576360a3234c198dfe1e0348fdc8e2",
            "style": "IPY_MODEL_c5e17ffd38904fcd8d9cecf729bf30aa",
            "tooltip": ""
          }
        },
        "4936ff9d01c14351aba463c2a9f2bd36": {
          "model_module": "@jupyter-widgets/output",
          "model_name": "OutputModel",
          "model_module_version": "1.0.0",
          "state": {
            "_dom_classes": [],
            "_model_module": "@jupyter-widgets/output",
            "_model_module_version": "1.0.0",
            "_model_name": "OutputModel",
            "_view_count": null,
            "_view_module": "@jupyter-widgets/output",
            "_view_module_version": "1.0.0",
            "_view_name": "OutputView",
            "layout": "IPY_MODEL_7e5ac92966794c96966b6f3c97b3dee2",
            "msg_id": "",
            "outputs": [
              {
                "output_type": "display_data",
                "data": {
                  "text/plain": "<IPython.core.display.Markdown object>",
                  "text/markdown": "Exercícios físicos são essenciais para manter uma boa saúde e bem-estar. Além de ajudar a controlar o peso, os exercícios físicos também fortalecem os ossos e músculos, melhoram a flexibilidade e a coordenação motora. A musculação, em particular, é uma excelente opção para quem procura melhorar a sua saúde física, pois trabalha grupos musculares específicos, contribuindo para um aumento da força e resistência. Além disso, os exercícios físicos regulares podem ainda ajudar a reduzir o estresse e a ansiedade, melhorando a qualidade de vida em geral."
                },
                "metadata": {}
              }
            ]
          }
        },
        "6cfb0417d1c94de386e58e0a5aa7a9ee": {
          "model_module": "@jupyter-widgets/base",
          "model_name": "LayoutModel",
          "model_module_version": "1.2.0",
          "state": {
            "_model_module": "@jupyter-widgets/base",
            "_model_module_version": "1.2.0",
            "_model_name": "LayoutModel",
            "_view_count": null,
            "_view_module": "@jupyter-widgets/base",
            "_view_module_version": "1.2.0",
            "_view_name": "LayoutView",
            "align_content": null,
            "align_items": null,
            "align_self": null,
            "border": null,
            "bottom": null,
            "display": null,
            "flex": null,
            "flex_flow": null,
            "grid_area": null,
            "grid_auto_columns": null,
            "grid_auto_flow": null,
            "grid_auto_rows": null,
            "grid_column": null,
            "grid_gap": null,
            "grid_row": null,
            "grid_template_areas": null,
            "grid_template_columns": null,
            "grid_template_rows": null,
            "height": null,
            "justify_content": null,
            "justify_items": null,
            "left": null,
            "margin": null,
            "max_height": null,
            "max_width": null,
            "min_height": null,
            "min_width": null,
            "object_fit": null,
            "object_position": null,
            "order": null,
            "overflow": null,
            "overflow_x": null,
            "overflow_y": null,
            "padding": null,
            "right": null,
            "top": null,
            "visibility": null,
            "width": null
          }
        },
        "28576360a3234c198dfe1e0348fdc8e2": {
          "model_module": "@jupyter-widgets/base",
          "model_name": "LayoutModel",
          "model_module_version": "1.2.0",
          "state": {
            "_model_module": "@jupyter-widgets/base",
            "_model_module_version": "1.2.0",
            "_model_name": "LayoutModel",
            "_view_count": null,
            "_view_module": "@jupyter-widgets/base",
            "_view_module_version": "1.2.0",
            "_view_name": "LayoutView",
            "align_content": null,
            "align_items": null,
            "align_self": null,
            "border": null,
            "bottom": null,
            "display": null,
            "flex": null,
            "flex_flow": null,
            "grid_area": null,
            "grid_auto_columns": null,
            "grid_auto_flow": null,
            "grid_auto_rows": null,
            "grid_column": null,
            "grid_gap": null,
            "grid_row": null,
            "grid_template_areas": null,
            "grid_template_columns": null,
            "grid_template_rows": null,
            "height": null,
            "justify_content": null,
            "justify_items": null,
            "left": null,
            "margin": null,
            "max_height": null,
            "max_width": null,
            "min_height": null,
            "min_width": null,
            "object_fit": null,
            "object_position": null,
            "order": null,
            "overflow": null,
            "overflow_x": null,
            "overflow_y": null,
            "padding": null,
            "right": null,
            "top": null,
            "visibility": null,
            "width": null
          }
        },
        "c5e17ffd38904fcd8d9cecf729bf30aa": {
          "model_module": "@jupyter-widgets/controls",
          "model_name": "ButtonStyleModel",
          "model_module_version": "1.5.0",
          "state": {
            "_model_module": "@jupyter-widgets/controls",
            "_model_module_version": "1.5.0",
            "_model_name": "ButtonStyleModel",
            "_view_count": null,
            "_view_module": "@jupyter-widgets/base",
            "_view_module_version": "1.2.0",
            "_view_name": "StyleView",
            "button_color": null,
            "font_weight": ""
          }
        },
        "7e5ac92966794c96966b6f3c97b3dee2": {
          "model_module": "@jupyter-widgets/base",
          "model_name": "LayoutModel",
          "model_module_version": "1.2.0",
          "state": {
            "_model_module": "@jupyter-widgets/base",
            "_model_module_version": "1.2.0",
            "_model_name": "LayoutModel",
            "_view_count": null,
            "_view_module": "@jupyter-widgets/base",
            "_view_module_version": "1.2.0",
            "_view_name": "LayoutView",
            "align_content": null,
            "align_items": null,
            "align_self": null,
            "border": null,
            "bottom": null,
            "display": null,
            "flex": null,
            "flex_flow": null,
            "grid_area": null,
            "grid_auto_columns": null,
            "grid_auto_flow": null,
            "grid_auto_rows": null,
            "grid_column": null,
            "grid_gap": null,
            "grid_row": null,
            "grid_template_areas": null,
            "grid_template_columns": null,
            "grid_template_rows": null,
            "height": null,
            "justify_content": null,
            "justify_items": null,
            "left": null,
            "margin": null,
            "max_height": null,
            "max_width": null,
            "min_height": null,
            "min_width": null,
            "object_fit": null,
            "object_position": null,
            "order": null,
            "overflow": null,
            "overflow_x": null,
            "overflow_y": null,
            "padding": null,
            "right": null,
            "top": null,
            "visibility": null,
            "width": null
          }
        },
        "2828a53a80f840d4b0c7e129fe927771": {
          "model_module": "@jupyter-widgets/controls",
          "model_name": "VBoxModel",
          "model_module_version": "1.5.0",
          "state": {
            "_dom_classes": [],
            "_model_module": "@jupyter-widgets/controls",
            "_model_module_version": "1.5.0",
            "_model_name": "VBoxModel",
            "_view_count": null,
            "_view_module": "@jupyter-widgets/controls",
            "_view_module_version": "1.5.0",
            "_view_name": "VBoxView",
            "box_style": "",
            "children": [
              "IPY_MODEL_e5281950e3ef44bfb2b052eca49efa2a",
              "IPY_MODEL_f7aaddce82f04242adeff28aae5f2b88",
              "IPY_MODEL_03da9484d33d40669a48b9b57f9f6339",
              "IPY_MODEL_50deacb7bfde47efaa936040507f4da7",
              "IPY_MODEL_24e9895441c44510b423c662c3adb5f4",
              "IPY_MODEL_434d2a35af6446bfad4cf3767619a0bc",
              "IPY_MODEL_c78c8f498dd84df1a87aaf2696e0c0d9",
              "IPY_MODEL_72a3eeecca9b4302994493ebe3356fe1",
              "IPY_MODEL_6c27c2b511044823a2e65b2269bbf75e",
              "IPY_MODEL_4936ff9d01c14351aba463c2a9f2bd36"
            ],
            "layout": "IPY_MODEL_001bfd027b0d47d39da271c3d6f32476"
          }
        },
        "50deacb7bfde47efaa936040507f4da7": {
          "model_module": "@jupyter-widgets/controls",
          "model_name": "DropdownModel",
          "model_module_version": "1.5.0",
          "state": {
            "_dom_classes": [],
            "_model_module": "@jupyter-widgets/controls",
            "_model_module_version": "1.5.0",
            "_model_name": "DropdownModel",
            "_options_labels": [
              "Curto",
              "Médio",
              "Longo",
              "1 parágrafo",
              "1 página"
            ],
            "_view_count": null,
            "_view_module": "@jupyter-widgets/controls",
            "_view_module_version": "1.5.0",
            "_view_name": "DropdownView",
            "description": "Tamanho",
            "description_tooltip": null,
            "disabled": false,
            "index": 3,
            "layout": "IPY_MODEL_d19b0b84093f49d6812735365a501fce",
            "style": "IPY_MODEL_78d0619f58aa46b8ad338aab08361a5b"
          }
        },
        "001bfd027b0d47d39da271c3d6f32476": {
          "model_module": "@jupyter-widgets/base",
          "model_name": "LayoutModel",
          "model_module_version": "1.2.0",
          "state": {
            "_model_module": "@jupyter-widgets/base",
            "_model_module_version": "1.2.0",
            "_model_name": "LayoutModel",
            "_view_count": null,
            "_view_module": "@jupyter-widgets/base",
            "_view_module_version": "1.2.0",
            "_view_name": "LayoutView",
            "align_content": null,
            "align_items": null,
            "align_self": null,
            "border": null,
            "bottom": null,
            "display": null,
            "flex": null,
            "flex_flow": null,
            "grid_area": null,
            "grid_auto_columns": null,
            "grid_auto_flow": null,
            "grid_auto_rows": null,
            "grid_column": null,
            "grid_gap": null,
            "grid_row": null,
            "grid_template_areas": null,
            "grid_template_columns": null,
            "grid_template_rows": null,
            "height": null,
            "justify_content": null,
            "justify_items": null,
            "left": null,
            "margin": null,
            "max_height": null,
            "max_width": null,
            "min_height": null,
            "min_width": null,
            "object_fit": null,
            "object_position": null,
            "order": null,
            "overflow": null,
            "overflow_x": null,
            "overflow_y": null,
            "padding": null,
            "right": null,
            "top": null,
            "visibility": null,
            "width": null
          }
        },
        "d19b0b84093f49d6812735365a501fce": {
          "model_module": "@jupyter-widgets/base",
          "model_name": "LayoutModel",
          "model_module_version": "1.2.0",
          "state": {
            "_model_module": "@jupyter-widgets/base",
            "_model_module_version": "1.2.0",
            "_model_name": "LayoutModel",
            "_view_count": null,
            "_view_module": "@jupyter-widgets/base",
            "_view_module_version": "1.2.0",
            "_view_name": "LayoutView",
            "align_content": null,
            "align_items": null,
            "align_self": null,
            "border": null,
            "bottom": null,
            "display": null,
            "flex": null,
            "flex_flow": null,
            "grid_area": null,
            "grid_auto_columns": null,
            "grid_auto_flow": null,
            "grid_auto_rows": null,
            "grid_column": null,
            "grid_gap": null,
            "grid_row": null,
            "grid_template_areas": null,
            "grid_template_columns": null,
            "grid_template_rows": null,
            "height": null,
            "justify_content": null,
            "justify_items": null,
            "left": null,
            "margin": null,
            "max_height": null,
            "max_width": null,
            "min_height": null,
            "min_width": null,
            "object_fit": null,
            "object_position": null,
            "order": null,
            "overflow": null,
            "overflow_x": null,
            "overflow_y": null,
            "padding": null,
            "right": null,
            "top": null,
            "visibility": null,
            "width": "250px"
          }
        },
        "78d0619f58aa46b8ad338aab08361a5b": {
          "model_module": "@jupyter-widgets/controls",
          "model_name": "DescriptionStyleModel",
          "model_module_version": "1.5.0",
          "state": {
            "_model_module": "@jupyter-widgets/controls",
            "_model_module_version": "1.5.0",
            "_model_name": "DescriptionStyleModel",
            "_view_count": null,
            "_view_module": "@jupyter-widgets/base",
            "_view_module_version": "1.2.0",
            "_view_name": "StyleView",
            "description_width": ""
          }
        },
        "ecb91f6867404d0cb11670965005a0ee": {
          "model_module": "@jupyter-widgets/controls",
          "model_name": "HBoxModel",
          "model_module_version": "1.5.0",
          "state": {
            "_dom_classes": [],
            "_model_module": "@jupyter-widgets/controls",
            "_model_module_version": "1.5.0",
            "_model_name": "HBoxModel",
            "_view_count": null,
            "_view_module": "@jupyter-widgets/controls",
            "_view_module_version": "1.5.0",
            "_view_name": "HBoxView",
            "box_style": "",
            "children": [
              "IPY_MODEL_dacd3a55769549099181ce89f57df0a1",
              "IPY_MODEL_9e71667d85b644eca9f16e7d127c2ff0",
              "IPY_MODEL_f1678697d0e5448d93cf0796d360bac5"
            ],
            "layout": "IPY_MODEL_8f0a1730c5bf43f6a2fae75624630f32"
          }
        },
        "dacd3a55769549099181ce89f57df0a1": {
          "model_module": "@jupyter-widgets/controls",
          "model_name": "HTMLModel",
          "model_module_version": "1.5.0",
          "state": {
            "_dom_classes": [],
            "_model_module": "@jupyter-widgets/controls",
            "_model_module_version": "1.5.0",
            "_model_name": "HTMLModel",
            "_view_count": null,
            "_view_module": "@jupyter-widgets/controls",
            "_view_module_version": "1.5.0",
            "_view_name": "HTMLView",
            "description": "",
            "description_tooltip": null,
            "layout": "IPY_MODEL_acd8e3b6b71541688f0bfc6de215a97e",
            "placeholder": "​",
            "style": "IPY_MODEL_0b57e8fd0e964dd098282c0ffd07eb9b",
            "value": "config.json: 100%"
          }
        },
        "9e71667d85b644eca9f16e7d127c2ff0": {
          "model_module": "@jupyter-widgets/controls",
          "model_name": "FloatProgressModel",
          "model_module_version": "1.5.0",
          "state": {
            "_dom_classes": [],
            "_model_module": "@jupyter-widgets/controls",
            "_model_module_version": "1.5.0",
            "_model_name": "FloatProgressModel",
            "_view_count": null,
            "_view_module": "@jupyter-widgets/controls",
            "_view_module_version": "1.5.0",
            "_view_name": "ProgressView",
            "bar_style": "success",
            "description": "",
            "description_tooltip": null,
            "layout": "IPY_MODEL_a12cb640bfd940779f8b2bf450a21974",
            "max": 967,
            "min": 0,
            "orientation": "horizontal",
            "style": "IPY_MODEL_7508fb7506214f8aa5ffbd9092b233bd",
            "value": 967
          }
        },
        "f1678697d0e5448d93cf0796d360bac5": {
          "model_module": "@jupyter-widgets/controls",
          "model_name": "HTMLModel",
          "model_module_version": "1.5.0",
          "state": {
            "_dom_classes": [],
            "_model_module": "@jupyter-widgets/controls",
            "_model_module_version": "1.5.0",
            "_model_name": "HTMLModel",
            "_view_count": null,
            "_view_module": "@jupyter-widgets/controls",
            "_view_module_version": "1.5.0",
            "_view_name": "HTMLView",
            "description": "",
            "description_tooltip": null,
            "layout": "IPY_MODEL_c2e3375c2a344f54bc2767d54460a4f3",
            "placeholder": "​",
            "style": "IPY_MODEL_65b7a42a469a4afab60217d75707be66",
            "value": " 967/967 [00:00&lt;00:00, 55.9kB/s]"
          }
        },
        "8f0a1730c5bf43f6a2fae75624630f32": {
          "model_module": "@jupyter-widgets/base",
          "model_name": "LayoutModel",
          "model_module_version": "1.2.0",
          "state": {
            "_model_module": "@jupyter-widgets/base",
            "_model_module_version": "1.2.0",
            "_model_name": "LayoutModel",
            "_view_count": null,
            "_view_module": "@jupyter-widgets/base",
            "_view_module_version": "1.2.0",
            "_view_name": "LayoutView",
            "align_content": null,
            "align_items": null,
            "align_self": null,
            "border": null,
            "bottom": null,
            "display": null,
            "flex": null,
            "flex_flow": null,
            "grid_area": null,
            "grid_auto_columns": null,
            "grid_auto_flow": null,
            "grid_auto_rows": null,
            "grid_column": null,
            "grid_gap": null,
            "grid_row": null,
            "grid_template_areas": null,
            "grid_template_columns": null,
            "grid_template_rows": null,
            "height": null,
            "justify_content": null,
            "justify_items": null,
            "left": null,
            "margin": null,
            "max_height": null,
            "max_width": null,
            "min_height": null,
            "min_width": null,
            "object_fit": null,
            "object_position": null,
            "order": null,
            "overflow": null,
            "overflow_x": null,
            "overflow_y": null,
            "padding": null,
            "right": null,
            "top": null,
            "visibility": null,
            "width": null
          }
        },
        "acd8e3b6b71541688f0bfc6de215a97e": {
          "model_module": "@jupyter-widgets/base",
          "model_name": "LayoutModel",
          "model_module_version": "1.2.0",
          "state": {
            "_model_module": "@jupyter-widgets/base",
            "_model_module_version": "1.2.0",
            "_model_name": "LayoutModel",
            "_view_count": null,
            "_view_module": "@jupyter-widgets/base",
            "_view_module_version": "1.2.0",
            "_view_name": "LayoutView",
            "align_content": null,
            "align_items": null,
            "align_self": null,
            "border": null,
            "bottom": null,
            "display": null,
            "flex": null,
            "flex_flow": null,
            "grid_area": null,
            "grid_auto_columns": null,
            "grid_auto_flow": null,
            "grid_auto_rows": null,
            "grid_column": null,
            "grid_gap": null,
            "grid_row": null,
            "grid_template_areas": null,
            "grid_template_columns": null,
            "grid_template_rows": null,
            "height": null,
            "justify_content": null,
            "justify_items": null,
            "left": null,
            "margin": null,
            "max_height": null,
            "max_width": null,
            "min_height": null,
            "min_width": null,
            "object_fit": null,
            "object_position": null,
            "order": null,
            "overflow": null,
            "overflow_x": null,
            "overflow_y": null,
            "padding": null,
            "right": null,
            "top": null,
            "visibility": null,
            "width": null
          }
        },
        "0b57e8fd0e964dd098282c0ffd07eb9b": {
          "model_module": "@jupyter-widgets/controls",
          "model_name": "DescriptionStyleModel",
          "model_module_version": "1.5.0",
          "state": {
            "_model_module": "@jupyter-widgets/controls",
            "_model_module_version": "1.5.0",
            "_model_name": "DescriptionStyleModel",
            "_view_count": null,
            "_view_module": "@jupyter-widgets/base",
            "_view_module_version": "1.2.0",
            "_view_name": "StyleView",
            "description_width": ""
          }
        },
        "a12cb640bfd940779f8b2bf450a21974": {
          "model_module": "@jupyter-widgets/base",
          "model_name": "LayoutModel",
          "model_module_version": "1.2.0",
          "state": {
            "_model_module": "@jupyter-widgets/base",
            "_model_module_version": "1.2.0",
            "_model_name": "LayoutModel",
            "_view_count": null,
            "_view_module": "@jupyter-widgets/base",
            "_view_module_version": "1.2.0",
            "_view_name": "LayoutView",
            "align_content": null,
            "align_items": null,
            "align_self": null,
            "border": null,
            "bottom": null,
            "display": null,
            "flex": null,
            "flex_flow": null,
            "grid_area": null,
            "grid_auto_columns": null,
            "grid_auto_flow": null,
            "grid_auto_rows": null,
            "grid_column": null,
            "grid_gap": null,
            "grid_row": null,
            "grid_template_areas": null,
            "grid_template_columns": null,
            "grid_template_rows": null,
            "height": null,
            "justify_content": null,
            "justify_items": null,
            "left": null,
            "margin": null,
            "max_height": null,
            "max_width": null,
            "min_height": null,
            "min_width": null,
            "object_fit": null,
            "object_position": null,
            "order": null,
            "overflow": null,
            "overflow_x": null,
            "overflow_y": null,
            "padding": null,
            "right": null,
            "top": null,
            "visibility": null,
            "width": null
          }
        },
        "7508fb7506214f8aa5ffbd9092b233bd": {
          "model_module": "@jupyter-widgets/controls",
          "model_name": "ProgressStyleModel",
          "model_module_version": "1.5.0",
          "state": {
            "_model_module": "@jupyter-widgets/controls",
            "_model_module_version": "1.5.0",
            "_model_name": "ProgressStyleModel",
            "_view_count": null,
            "_view_module": "@jupyter-widgets/base",
            "_view_module_version": "1.2.0",
            "_view_name": "StyleView",
            "bar_color": null,
            "description_width": ""
          }
        },
        "c2e3375c2a344f54bc2767d54460a4f3": {
          "model_module": "@jupyter-widgets/base",
          "model_name": "LayoutModel",
          "model_module_version": "1.2.0",
          "state": {
            "_model_module": "@jupyter-widgets/base",
            "_model_module_version": "1.2.0",
            "_model_name": "LayoutModel",
            "_view_count": null,
            "_view_module": "@jupyter-widgets/base",
            "_view_module_version": "1.2.0",
            "_view_name": "LayoutView",
            "align_content": null,
            "align_items": null,
            "align_self": null,
            "border": null,
            "bottom": null,
            "display": null,
            "flex": null,
            "flex_flow": null,
            "grid_area": null,
            "grid_auto_columns": null,
            "grid_auto_flow": null,
            "grid_auto_rows": null,
            "grid_column": null,
            "grid_gap": null,
            "grid_row": null,
            "grid_template_areas": null,
            "grid_template_columns": null,
            "grid_template_rows": null,
            "height": null,
            "justify_content": null,
            "justify_items": null,
            "left": null,
            "margin": null,
            "max_height": null,
            "max_width": null,
            "min_height": null,
            "min_width": null,
            "object_fit": null,
            "object_position": null,
            "order": null,
            "overflow": null,
            "overflow_x": null,
            "overflow_y": null,
            "padding": null,
            "right": null,
            "top": null,
            "visibility": null,
            "width": null
          }
        },
        "65b7a42a469a4afab60217d75707be66": {
          "model_module": "@jupyter-widgets/controls",
          "model_name": "DescriptionStyleModel",
          "model_module_version": "1.5.0",
          "state": {
            "_model_module": "@jupyter-widgets/controls",
            "_model_module_version": "1.5.0",
            "_model_name": "DescriptionStyleModel",
            "_view_count": null,
            "_view_module": "@jupyter-widgets/base",
            "_view_module_version": "1.2.0",
            "_view_name": "StyleView",
            "description_width": ""
          }
        },
        "125f706fb1be4179a066a436ba0f5d19": {
          "model_module": "@jupyter-widgets/controls",
          "model_name": "HBoxModel",
          "model_module_version": "1.5.0",
          "state": {
            "_dom_classes": [],
            "_model_module": "@jupyter-widgets/controls",
            "_model_module_version": "1.5.0",
            "_model_name": "HBoxModel",
            "_view_count": null,
            "_view_module": "@jupyter-widgets/controls",
            "_view_module_version": "1.5.0",
            "_view_name": "HBoxView",
            "box_style": "",
            "children": [
              "IPY_MODEL_309541a45c294a86902d14e718319f08",
              "IPY_MODEL_065017734d044fe09f89ddf863a21844",
              "IPY_MODEL_a3b82ddbb32c4f2fbb41d8dae475f0ce"
            ],
            "layout": "IPY_MODEL_662f616363504bcd83f4ea9a609556cb"
          }
        },
        "309541a45c294a86902d14e718319f08": {
          "model_module": "@jupyter-widgets/controls",
          "model_name": "HTMLModel",
          "model_module_version": "1.5.0",
          "state": {
            "_dom_classes": [],
            "_model_module": "@jupyter-widgets/controls",
            "_model_module_version": "1.5.0",
            "_model_name": "HTMLModel",
            "_view_count": null,
            "_view_module": "@jupyter-widgets/controls",
            "_view_module_version": "1.5.0",
            "_view_name": "HTMLView",
            "description": "",
            "description_tooltip": null,
            "layout": "IPY_MODEL_4f4a9427c5de4cbbaf477a3963c79a46",
            "placeholder": "​",
            "style": "IPY_MODEL_07548f27a0fc41718b48523a2c55762f",
            "value": "model.safetensors.index.json: 100%"
          }
        },
        "065017734d044fe09f89ddf863a21844": {
          "model_module": "@jupyter-widgets/controls",
          "model_name": "FloatProgressModel",
          "model_module_version": "1.5.0",
          "state": {
            "_dom_classes": [],
            "_model_module": "@jupyter-widgets/controls",
            "_model_module_version": "1.5.0",
            "_model_name": "FloatProgressModel",
            "_view_count": null,
            "_view_module": "@jupyter-widgets/controls",
            "_view_module_version": "1.5.0",
            "_view_name": "ProgressView",
            "bar_style": "success",
            "description": "",
            "description_tooltip": null,
            "layout": "IPY_MODEL_609c85dc45aa42fe9c47521bdfd61408",
            "max": 16533,
            "min": 0,
            "orientation": "horizontal",
            "style": "IPY_MODEL_cc4133b6605e40d6bee8c15c006e0f62",
            "value": 16533
          }
        },
        "a3b82ddbb32c4f2fbb41d8dae475f0ce": {
          "model_module": "@jupyter-widgets/controls",
          "model_name": "HTMLModel",
          "model_module_version": "1.5.0",
          "state": {
            "_dom_classes": [],
            "_model_module": "@jupyter-widgets/controls",
            "_model_module_version": "1.5.0",
            "_model_name": "HTMLModel",
            "_view_count": null,
            "_view_module": "@jupyter-widgets/controls",
            "_view_module_version": "1.5.0",
            "_view_name": "HTMLView",
            "description": "",
            "description_tooltip": null,
            "layout": "IPY_MODEL_1ab26fdb81b44f04994b6c7bbb19034b",
            "placeholder": "​",
            "style": "IPY_MODEL_e4ac8721298445a69b1a277fc6676a2c",
            "value": " 16.5k/16.5k [00:00&lt;00:00, 1.11MB/s]"
          }
        },
        "662f616363504bcd83f4ea9a609556cb": {
          "model_module": "@jupyter-widgets/base",
          "model_name": "LayoutModel",
          "model_module_version": "1.2.0",
          "state": {
            "_model_module": "@jupyter-widgets/base",
            "_model_module_version": "1.2.0",
            "_model_name": "LayoutModel",
            "_view_count": null,
            "_view_module": "@jupyter-widgets/base",
            "_view_module_version": "1.2.0",
            "_view_name": "LayoutView",
            "align_content": null,
            "align_items": null,
            "align_self": null,
            "border": null,
            "bottom": null,
            "display": null,
            "flex": null,
            "flex_flow": null,
            "grid_area": null,
            "grid_auto_columns": null,
            "grid_auto_flow": null,
            "grid_auto_rows": null,
            "grid_column": null,
            "grid_gap": null,
            "grid_row": null,
            "grid_template_areas": null,
            "grid_template_columns": null,
            "grid_template_rows": null,
            "height": null,
            "justify_content": null,
            "justify_items": null,
            "left": null,
            "margin": null,
            "max_height": null,
            "max_width": null,
            "min_height": null,
            "min_width": null,
            "object_fit": null,
            "object_position": null,
            "order": null,
            "overflow": null,
            "overflow_x": null,
            "overflow_y": null,
            "padding": null,
            "right": null,
            "top": null,
            "visibility": null,
            "width": null
          }
        },
        "4f4a9427c5de4cbbaf477a3963c79a46": {
          "model_module": "@jupyter-widgets/base",
          "model_name": "LayoutModel",
          "model_module_version": "1.2.0",
          "state": {
            "_model_module": "@jupyter-widgets/base",
            "_model_module_version": "1.2.0",
            "_model_name": "LayoutModel",
            "_view_count": null,
            "_view_module": "@jupyter-widgets/base",
            "_view_module_version": "1.2.0",
            "_view_name": "LayoutView",
            "align_content": null,
            "align_items": null,
            "align_self": null,
            "border": null,
            "bottom": null,
            "display": null,
            "flex": null,
            "flex_flow": null,
            "grid_area": null,
            "grid_auto_columns": null,
            "grid_auto_flow": null,
            "grid_auto_rows": null,
            "grid_column": null,
            "grid_gap": null,
            "grid_row": null,
            "grid_template_areas": null,
            "grid_template_columns": null,
            "grid_template_rows": null,
            "height": null,
            "justify_content": null,
            "justify_items": null,
            "left": null,
            "margin": null,
            "max_height": null,
            "max_width": null,
            "min_height": null,
            "min_width": null,
            "object_fit": null,
            "object_position": null,
            "order": null,
            "overflow": null,
            "overflow_x": null,
            "overflow_y": null,
            "padding": null,
            "right": null,
            "top": null,
            "visibility": null,
            "width": null
          }
        },
        "07548f27a0fc41718b48523a2c55762f": {
          "model_module": "@jupyter-widgets/controls",
          "model_name": "DescriptionStyleModel",
          "model_module_version": "1.5.0",
          "state": {
            "_model_module": "@jupyter-widgets/controls",
            "_model_module_version": "1.5.0",
            "_model_name": "DescriptionStyleModel",
            "_view_count": null,
            "_view_module": "@jupyter-widgets/base",
            "_view_module_version": "1.2.0",
            "_view_name": "StyleView",
            "description_width": ""
          }
        },
        "609c85dc45aa42fe9c47521bdfd61408": {
          "model_module": "@jupyter-widgets/base",
          "model_name": "LayoutModel",
          "model_module_version": "1.2.0",
          "state": {
            "_model_module": "@jupyter-widgets/base",
            "_model_module_version": "1.2.0",
            "_model_name": "LayoutModel",
            "_view_count": null,
            "_view_module": "@jupyter-widgets/base",
            "_view_module_version": "1.2.0",
            "_view_name": "LayoutView",
            "align_content": null,
            "align_items": null,
            "align_self": null,
            "border": null,
            "bottom": null,
            "display": null,
            "flex": null,
            "flex_flow": null,
            "grid_area": null,
            "grid_auto_columns": null,
            "grid_auto_flow": null,
            "grid_auto_rows": null,
            "grid_column": null,
            "grid_gap": null,
            "grid_row": null,
            "grid_template_areas": null,
            "grid_template_columns": null,
            "grid_template_rows": null,
            "height": null,
            "justify_content": null,
            "justify_items": null,
            "left": null,
            "margin": null,
            "max_height": null,
            "max_width": null,
            "min_height": null,
            "min_width": null,
            "object_fit": null,
            "object_position": null,
            "order": null,
            "overflow": null,
            "overflow_x": null,
            "overflow_y": null,
            "padding": null,
            "right": null,
            "top": null,
            "visibility": null,
            "width": null
          }
        },
        "cc4133b6605e40d6bee8c15c006e0f62": {
          "model_module": "@jupyter-widgets/controls",
          "model_name": "ProgressStyleModel",
          "model_module_version": "1.5.0",
          "state": {
            "_model_module": "@jupyter-widgets/controls",
            "_model_module_version": "1.5.0",
            "_model_name": "ProgressStyleModel",
            "_view_count": null,
            "_view_module": "@jupyter-widgets/base",
            "_view_module_version": "1.2.0",
            "_view_name": "StyleView",
            "bar_color": null,
            "description_width": ""
          }
        },
        "1ab26fdb81b44f04994b6c7bbb19034b": {
          "model_module": "@jupyter-widgets/base",
          "model_name": "LayoutModel",
          "model_module_version": "1.2.0",
          "state": {
            "_model_module": "@jupyter-widgets/base",
            "_model_module_version": "1.2.0",
            "_model_name": "LayoutModel",
            "_view_count": null,
            "_view_module": "@jupyter-widgets/base",
            "_view_module_version": "1.2.0",
            "_view_name": "LayoutView",
            "align_content": null,
            "align_items": null,
            "align_self": null,
            "border": null,
            "bottom": null,
            "display": null,
            "flex": null,
            "flex_flow": null,
            "grid_area": null,
            "grid_auto_columns": null,
            "grid_auto_flow": null,
            "grid_auto_rows": null,
            "grid_column": null,
            "grid_gap": null,
            "grid_row": null,
            "grid_template_areas": null,
            "grid_template_columns": null,
            "grid_template_rows": null,
            "height": null,
            "justify_content": null,
            "justify_items": null,
            "left": null,
            "margin": null,
            "max_height": null,
            "max_width": null,
            "min_height": null,
            "min_width": null,
            "object_fit": null,
            "object_position": null,
            "order": null,
            "overflow": null,
            "overflow_x": null,
            "overflow_y": null,
            "padding": null,
            "right": null,
            "top": null,
            "visibility": null,
            "width": null
          }
        },
        "e4ac8721298445a69b1a277fc6676a2c": {
          "model_module": "@jupyter-widgets/controls",
          "model_name": "DescriptionStyleModel",
          "model_module_version": "1.5.0",
          "state": {
            "_model_module": "@jupyter-widgets/controls",
            "_model_module_version": "1.5.0",
            "_model_name": "DescriptionStyleModel",
            "_view_count": null,
            "_view_module": "@jupyter-widgets/base",
            "_view_module_version": "1.2.0",
            "_view_name": "StyleView",
            "description_width": ""
          }
        },
        "2f6ba2ecdf7c486c876971621b3753ed": {
          "model_module": "@jupyter-widgets/controls",
          "model_name": "HBoxModel",
          "model_module_version": "1.5.0",
          "state": {
            "_dom_classes": [],
            "_model_module": "@jupyter-widgets/controls",
            "_model_module_version": "1.5.0",
            "_model_name": "HBoxModel",
            "_view_count": null,
            "_view_module": "@jupyter-widgets/controls",
            "_view_module_version": "1.5.0",
            "_view_name": "HBoxView",
            "box_style": "",
            "children": [
              "IPY_MODEL_5c5eb2dd451f428195c006f5358151a8",
              "IPY_MODEL_a7f0f58dd30144589aac8b2b2feb4898",
              "IPY_MODEL_a29f2f867404488c8bf2297c78efc581"
            ],
            "layout": "IPY_MODEL_bb69e88b0e7a4925a6ca7d763a2b82ff"
          }
        },
        "5c5eb2dd451f428195c006f5358151a8": {
          "model_module": "@jupyter-widgets/controls",
          "model_name": "HTMLModel",
          "model_module_version": "1.5.0",
          "state": {
            "_dom_classes": [],
            "_model_module": "@jupyter-widgets/controls",
            "_model_module_version": "1.5.0",
            "_model_name": "HTMLModel",
            "_view_count": null,
            "_view_module": "@jupyter-widgets/controls",
            "_view_module_version": "1.5.0",
            "_view_name": "HTMLView",
            "description": "",
            "description_tooltip": null,
            "layout": "IPY_MODEL_2f89692faa794bc78970c24515ed57c1",
            "placeholder": "​",
            "style": "IPY_MODEL_46a2bca9294c40f79e1195ea8a097fe7",
            "value": "Fetching 2 files: 100%"
          }
        },
        "a7f0f58dd30144589aac8b2b2feb4898": {
          "model_module": "@jupyter-widgets/controls",
          "model_name": "FloatProgressModel",
          "model_module_version": "1.5.0",
          "state": {
            "_dom_classes": [],
            "_model_module": "@jupyter-widgets/controls",
            "_model_module_version": "1.5.0",
            "_model_name": "FloatProgressModel",
            "_view_count": null,
            "_view_module": "@jupyter-widgets/controls",
            "_view_module_version": "1.5.0",
            "_view_name": "ProgressView",
            "bar_style": "success",
            "description": "",
            "description_tooltip": null,
            "layout": "IPY_MODEL_db5d449a095248369c8fee21b316e2f9",
            "max": 2,
            "min": 0,
            "orientation": "horizontal",
            "style": "IPY_MODEL_56a50a005abe48b9b6a1db959785016e",
            "value": 2
          }
        },
        "a29f2f867404488c8bf2297c78efc581": {
          "model_module": "@jupyter-widgets/controls",
          "model_name": "HTMLModel",
          "model_module_version": "1.5.0",
          "state": {
            "_dom_classes": [],
            "_model_module": "@jupyter-widgets/controls",
            "_model_module_version": "1.5.0",
            "_model_name": "HTMLModel",
            "_view_count": null,
            "_view_module": "@jupyter-widgets/controls",
            "_view_module_version": "1.5.0",
            "_view_name": "HTMLView",
            "description": "",
            "description_tooltip": null,
            "layout": "IPY_MODEL_6c7d2b7dd95c4de1933f175c7dacd441",
            "placeholder": "​",
            "style": "IPY_MODEL_458701ec289046f78213a2d3635a7106",
            "value": " 2/2 [00:42&lt;00:00, 42.99s/it]"
          }
        },
        "bb69e88b0e7a4925a6ca7d763a2b82ff": {
          "model_module": "@jupyter-widgets/base",
          "model_name": "LayoutModel",
          "model_module_version": "1.2.0",
          "state": {
            "_model_module": "@jupyter-widgets/base",
            "_model_module_version": "1.2.0",
            "_model_name": "LayoutModel",
            "_view_count": null,
            "_view_module": "@jupyter-widgets/base",
            "_view_module_version": "1.2.0",
            "_view_name": "LayoutView",
            "align_content": null,
            "align_items": null,
            "align_self": null,
            "border": null,
            "bottom": null,
            "display": null,
            "flex": null,
            "flex_flow": null,
            "grid_area": null,
            "grid_auto_columns": null,
            "grid_auto_flow": null,
            "grid_auto_rows": null,
            "grid_column": null,
            "grid_gap": null,
            "grid_row": null,
            "grid_template_areas": null,
            "grid_template_columns": null,
            "grid_template_rows": null,
            "height": null,
            "justify_content": null,
            "justify_items": null,
            "left": null,
            "margin": null,
            "max_height": null,
            "max_width": null,
            "min_height": null,
            "min_width": null,
            "object_fit": null,
            "object_position": null,
            "order": null,
            "overflow": null,
            "overflow_x": null,
            "overflow_y": null,
            "padding": null,
            "right": null,
            "top": null,
            "visibility": null,
            "width": null
          }
        },
        "2f89692faa794bc78970c24515ed57c1": {
          "model_module": "@jupyter-widgets/base",
          "model_name": "LayoutModel",
          "model_module_version": "1.2.0",
          "state": {
            "_model_module": "@jupyter-widgets/base",
            "_model_module_version": "1.2.0",
            "_model_name": "LayoutModel",
            "_view_count": null,
            "_view_module": "@jupyter-widgets/base",
            "_view_module_version": "1.2.0",
            "_view_name": "LayoutView",
            "align_content": null,
            "align_items": null,
            "align_self": null,
            "border": null,
            "bottom": null,
            "display": null,
            "flex": null,
            "flex_flow": null,
            "grid_area": null,
            "grid_auto_columns": null,
            "grid_auto_flow": null,
            "grid_auto_rows": null,
            "grid_column": null,
            "grid_gap": null,
            "grid_row": null,
            "grid_template_areas": null,
            "grid_template_columns": null,
            "grid_template_rows": null,
            "height": null,
            "justify_content": null,
            "justify_items": null,
            "left": null,
            "margin": null,
            "max_height": null,
            "max_width": null,
            "min_height": null,
            "min_width": null,
            "object_fit": null,
            "object_position": null,
            "order": null,
            "overflow": null,
            "overflow_x": null,
            "overflow_y": null,
            "padding": null,
            "right": null,
            "top": null,
            "visibility": null,
            "width": null
          }
        },
        "46a2bca9294c40f79e1195ea8a097fe7": {
          "model_module": "@jupyter-widgets/controls",
          "model_name": "DescriptionStyleModel",
          "model_module_version": "1.5.0",
          "state": {
            "_model_module": "@jupyter-widgets/controls",
            "_model_module_version": "1.5.0",
            "_model_name": "DescriptionStyleModel",
            "_view_count": null,
            "_view_module": "@jupyter-widgets/base",
            "_view_module_version": "1.2.0",
            "_view_name": "StyleView",
            "description_width": ""
          }
        },
        "db5d449a095248369c8fee21b316e2f9": {
          "model_module": "@jupyter-widgets/base",
          "model_name": "LayoutModel",
          "model_module_version": "1.2.0",
          "state": {
            "_model_module": "@jupyter-widgets/base",
            "_model_module_version": "1.2.0",
            "_model_name": "LayoutModel",
            "_view_count": null,
            "_view_module": "@jupyter-widgets/base",
            "_view_module_version": "1.2.0",
            "_view_name": "LayoutView",
            "align_content": null,
            "align_items": null,
            "align_self": null,
            "border": null,
            "bottom": null,
            "display": null,
            "flex": null,
            "flex_flow": null,
            "grid_area": null,
            "grid_auto_columns": null,
            "grid_auto_flow": null,
            "grid_auto_rows": null,
            "grid_column": null,
            "grid_gap": null,
            "grid_row": null,
            "grid_template_areas": null,
            "grid_template_columns": null,
            "grid_template_rows": null,
            "height": null,
            "justify_content": null,
            "justify_items": null,
            "left": null,
            "margin": null,
            "max_height": null,
            "max_width": null,
            "min_height": null,
            "min_width": null,
            "object_fit": null,
            "object_position": null,
            "order": null,
            "overflow": null,
            "overflow_x": null,
            "overflow_y": null,
            "padding": null,
            "right": null,
            "top": null,
            "visibility": null,
            "width": null
          }
        },
        "56a50a005abe48b9b6a1db959785016e": {
          "model_module": "@jupyter-widgets/controls",
          "model_name": "ProgressStyleModel",
          "model_module_version": "1.5.0",
          "state": {
            "_model_module": "@jupyter-widgets/controls",
            "_model_module_version": "1.5.0",
            "_model_name": "ProgressStyleModel",
            "_view_count": null,
            "_view_module": "@jupyter-widgets/base",
            "_view_module_version": "1.2.0",
            "_view_name": "StyleView",
            "bar_color": null,
            "description_width": ""
          }
        },
        "6c7d2b7dd95c4de1933f175c7dacd441": {
          "model_module": "@jupyter-widgets/base",
          "model_name": "LayoutModel",
          "model_module_version": "1.2.0",
          "state": {
            "_model_module": "@jupyter-widgets/base",
            "_model_module_version": "1.2.0",
            "_model_name": "LayoutModel",
            "_view_count": null,
            "_view_module": "@jupyter-widgets/base",
            "_view_module_version": "1.2.0",
            "_view_name": "LayoutView",
            "align_content": null,
            "align_items": null,
            "align_self": null,
            "border": null,
            "bottom": null,
            "display": null,
            "flex": null,
            "flex_flow": null,
            "grid_area": null,
            "grid_auto_columns": null,
            "grid_auto_flow": null,
            "grid_auto_rows": null,
            "grid_column": null,
            "grid_gap": null,
            "grid_row": null,
            "grid_template_areas": null,
            "grid_template_columns": null,
            "grid_template_rows": null,
            "height": null,
            "justify_content": null,
            "justify_items": null,
            "left": null,
            "margin": null,
            "max_height": null,
            "max_width": null,
            "min_height": null,
            "min_width": null,
            "object_fit": null,
            "object_position": null,
            "order": null,
            "overflow": null,
            "overflow_x": null,
            "overflow_y": null,
            "padding": null,
            "right": null,
            "top": null,
            "visibility": null,
            "width": null
          }
        },
        "458701ec289046f78213a2d3635a7106": {
          "model_module": "@jupyter-widgets/controls",
          "model_name": "DescriptionStyleModel",
          "model_module_version": "1.5.0",
          "state": {
            "_model_module": "@jupyter-widgets/controls",
            "_model_module_version": "1.5.0",
            "_model_name": "DescriptionStyleModel",
            "_view_count": null,
            "_view_module": "@jupyter-widgets/base",
            "_view_module_version": "1.2.0",
            "_view_name": "StyleView",
            "description_width": ""
          }
        },
        "53de0c37f94149b1aea1cc87bf6f7a72": {
          "model_module": "@jupyter-widgets/controls",
          "model_name": "HBoxModel",
          "model_module_version": "1.5.0",
          "state": {
            "_dom_classes": [],
            "_model_module": "@jupyter-widgets/controls",
            "_model_module_version": "1.5.0",
            "_model_name": "HBoxModel",
            "_view_count": null,
            "_view_module": "@jupyter-widgets/controls",
            "_view_module_version": "1.5.0",
            "_view_name": "HBoxView",
            "box_style": "",
            "children": [
              "IPY_MODEL_446aaa4eda894750b46f11f7c67a9043",
              "IPY_MODEL_607a2c6b5305453b81fba8adbb713e89",
              "IPY_MODEL_a35c824487cd44459dc273254c666011"
            ],
            "layout": "IPY_MODEL_a7dc3359110c413cb8121d29772d2cf5"
          }
        },
        "446aaa4eda894750b46f11f7c67a9043": {
          "model_module": "@jupyter-widgets/controls",
          "model_name": "HTMLModel",
          "model_module_version": "1.5.0",
          "state": {
            "_dom_classes": [],
            "_model_module": "@jupyter-widgets/controls",
            "_model_module_version": "1.5.0",
            "_model_name": "HTMLModel",
            "_view_count": null,
            "_view_module": "@jupyter-widgets/controls",
            "_view_module_version": "1.5.0",
            "_view_name": "HTMLView",
            "description": "",
            "description_tooltip": null,
            "layout": "IPY_MODEL_0bbbf51c36b44fda9c74450302befa30",
            "placeholder": "​",
            "style": "IPY_MODEL_2777bd86d4c64333a386c4a6de4cbd11",
            "value": "model-00001-of-00002.safetensors: 100%"
          }
        },
        "607a2c6b5305453b81fba8adbb713e89": {
          "model_module": "@jupyter-widgets/controls",
          "model_name": "FloatProgressModel",
          "model_module_version": "1.5.0",
          "state": {
            "_dom_classes": [],
            "_model_module": "@jupyter-widgets/controls",
            "_model_module_version": "1.5.0",
            "_model_name": "FloatProgressModel",
            "_view_count": null,
            "_view_module": "@jupyter-widgets/controls",
            "_view_module_version": "1.5.0",
            "_view_name": "ProgressView",
            "bar_style": "success",
            "description": "",
            "description_tooltip": null,
            "layout": "IPY_MODEL_0a885f73c06548018b1a2292b2ac4289",
            "max": 4972489328,
            "min": 0,
            "orientation": "horizontal",
            "style": "IPY_MODEL_260f311c7e3d4db7bf94620c6d2773b2",
            "value": 4972489328
          }
        },
        "a35c824487cd44459dc273254c666011": {
          "model_module": "@jupyter-widgets/controls",
          "model_name": "HTMLModel",
          "model_module_version": "1.5.0",
          "state": {
            "_dom_classes": [],
            "_model_module": "@jupyter-widgets/controls",
            "_model_module_version": "1.5.0",
            "_model_name": "HTMLModel",
            "_view_count": null,
            "_view_module": "@jupyter-widgets/controls",
            "_view_module_version": "1.5.0",
            "_view_name": "HTMLView",
            "description": "",
            "description_tooltip": null,
            "layout": "IPY_MODEL_e1c8ede58e2147da9774e76577210771",
            "placeholder": "​",
            "style": "IPY_MODEL_03ae5ab8b7a249528ad9366bb5280e7d",
            "value": " 4.97G/4.97G [00:42&lt;00:00, 253MB/s]"
          }
        },
        "a7dc3359110c413cb8121d29772d2cf5": {
          "model_module": "@jupyter-widgets/base",
          "model_name": "LayoutModel",
          "model_module_version": "1.2.0",
          "state": {
            "_model_module": "@jupyter-widgets/base",
            "_model_module_version": "1.2.0",
            "_model_name": "LayoutModel",
            "_view_count": null,
            "_view_module": "@jupyter-widgets/base",
            "_view_module_version": "1.2.0",
            "_view_name": "LayoutView",
            "align_content": null,
            "align_items": null,
            "align_self": null,
            "border": null,
            "bottom": null,
            "display": null,
            "flex": null,
            "flex_flow": null,
            "grid_area": null,
            "grid_auto_columns": null,
            "grid_auto_flow": null,
            "grid_auto_rows": null,
            "grid_column": null,
            "grid_gap": null,
            "grid_row": null,
            "grid_template_areas": null,
            "grid_template_columns": null,
            "grid_template_rows": null,
            "height": null,
            "justify_content": null,
            "justify_items": null,
            "left": null,
            "margin": null,
            "max_height": null,
            "max_width": null,
            "min_height": null,
            "min_width": null,
            "object_fit": null,
            "object_position": null,
            "order": null,
            "overflow": null,
            "overflow_x": null,
            "overflow_y": null,
            "padding": null,
            "right": null,
            "top": null,
            "visibility": null,
            "width": null
          }
        },
        "0bbbf51c36b44fda9c74450302befa30": {
          "model_module": "@jupyter-widgets/base",
          "model_name": "LayoutModel",
          "model_module_version": "1.2.0",
          "state": {
            "_model_module": "@jupyter-widgets/base",
            "_model_module_version": "1.2.0",
            "_model_name": "LayoutModel",
            "_view_count": null,
            "_view_module": "@jupyter-widgets/base",
            "_view_module_version": "1.2.0",
            "_view_name": "LayoutView",
            "align_content": null,
            "align_items": null,
            "align_self": null,
            "border": null,
            "bottom": null,
            "display": null,
            "flex": null,
            "flex_flow": null,
            "grid_area": null,
            "grid_auto_columns": null,
            "grid_auto_flow": null,
            "grid_auto_rows": null,
            "grid_column": null,
            "grid_gap": null,
            "grid_row": null,
            "grid_template_areas": null,
            "grid_template_columns": null,
            "grid_template_rows": null,
            "height": null,
            "justify_content": null,
            "justify_items": null,
            "left": null,
            "margin": null,
            "max_height": null,
            "max_width": null,
            "min_height": null,
            "min_width": null,
            "object_fit": null,
            "object_position": null,
            "order": null,
            "overflow": null,
            "overflow_x": null,
            "overflow_y": null,
            "padding": null,
            "right": null,
            "top": null,
            "visibility": null,
            "width": null
          }
        },
        "2777bd86d4c64333a386c4a6de4cbd11": {
          "model_module": "@jupyter-widgets/controls",
          "model_name": "DescriptionStyleModel",
          "model_module_version": "1.5.0",
          "state": {
            "_model_module": "@jupyter-widgets/controls",
            "_model_module_version": "1.5.0",
            "_model_name": "DescriptionStyleModel",
            "_view_count": null,
            "_view_module": "@jupyter-widgets/base",
            "_view_module_version": "1.2.0",
            "_view_name": "StyleView",
            "description_width": ""
          }
        },
        "0a885f73c06548018b1a2292b2ac4289": {
          "model_module": "@jupyter-widgets/base",
          "model_name": "LayoutModel",
          "model_module_version": "1.2.0",
          "state": {
            "_model_module": "@jupyter-widgets/base",
            "_model_module_version": "1.2.0",
            "_model_name": "LayoutModel",
            "_view_count": null,
            "_view_module": "@jupyter-widgets/base",
            "_view_module_version": "1.2.0",
            "_view_name": "LayoutView",
            "align_content": null,
            "align_items": null,
            "align_self": null,
            "border": null,
            "bottom": null,
            "display": null,
            "flex": null,
            "flex_flow": null,
            "grid_area": null,
            "grid_auto_columns": null,
            "grid_auto_flow": null,
            "grid_auto_rows": null,
            "grid_column": null,
            "grid_gap": null,
            "grid_row": null,
            "grid_template_areas": null,
            "grid_template_columns": null,
            "grid_template_rows": null,
            "height": null,
            "justify_content": null,
            "justify_items": null,
            "left": null,
            "margin": null,
            "max_height": null,
            "max_width": null,
            "min_height": null,
            "min_width": null,
            "object_fit": null,
            "object_position": null,
            "order": null,
            "overflow": null,
            "overflow_x": null,
            "overflow_y": null,
            "padding": null,
            "right": null,
            "top": null,
            "visibility": null,
            "width": null
          }
        },
        "260f311c7e3d4db7bf94620c6d2773b2": {
          "model_module": "@jupyter-widgets/controls",
          "model_name": "ProgressStyleModel",
          "model_module_version": "1.5.0",
          "state": {
            "_model_module": "@jupyter-widgets/controls",
            "_model_module_version": "1.5.0",
            "_model_name": "ProgressStyleModel",
            "_view_count": null,
            "_view_module": "@jupyter-widgets/base",
            "_view_module_version": "1.2.0",
            "_view_name": "StyleView",
            "bar_color": null,
            "description_width": ""
          }
        },
        "e1c8ede58e2147da9774e76577210771": {
          "model_module": "@jupyter-widgets/base",
          "model_name": "LayoutModel",
          "model_module_version": "1.2.0",
          "state": {
            "_model_module": "@jupyter-widgets/base",
            "_model_module_version": "1.2.0",
            "_model_name": "LayoutModel",
            "_view_count": null,
            "_view_module": "@jupyter-widgets/base",
            "_view_module_version": "1.2.0",
            "_view_name": "LayoutView",
            "align_content": null,
            "align_items": null,
            "align_self": null,
            "border": null,
            "bottom": null,
            "display": null,
            "flex": null,
            "flex_flow": null,
            "grid_area": null,
            "grid_auto_columns": null,
            "grid_auto_flow": null,
            "grid_auto_rows": null,
            "grid_column": null,
            "grid_gap": null,
            "grid_row": null,
            "grid_template_areas": null,
            "grid_template_columns": null,
            "grid_template_rows": null,
            "height": null,
            "justify_content": null,
            "justify_items": null,
            "left": null,
            "margin": null,
            "max_height": null,
            "max_width": null,
            "min_height": null,
            "min_width": null,
            "object_fit": null,
            "object_position": null,
            "order": null,
            "overflow": null,
            "overflow_x": null,
            "overflow_y": null,
            "padding": null,
            "right": null,
            "top": null,
            "visibility": null,
            "width": null
          }
        },
        "03ae5ab8b7a249528ad9366bb5280e7d": {
          "model_module": "@jupyter-widgets/controls",
          "model_name": "DescriptionStyleModel",
          "model_module_version": "1.5.0",
          "state": {
            "_model_module": "@jupyter-widgets/controls",
            "_model_module_version": "1.5.0",
            "_model_name": "DescriptionStyleModel",
            "_view_count": null,
            "_view_module": "@jupyter-widgets/base",
            "_view_module_version": "1.2.0",
            "_view_name": "StyleView",
            "description_width": ""
          }
        },
        "d70775e89d9943e4aba09f687fe7872d": {
          "model_module": "@jupyter-widgets/controls",
          "model_name": "HBoxModel",
          "model_module_version": "1.5.0",
          "state": {
            "_dom_classes": [],
            "_model_module": "@jupyter-widgets/controls",
            "_model_module_version": "1.5.0",
            "_model_name": "HBoxModel",
            "_view_count": null,
            "_view_module": "@jupyter-widgets/controls",
            "_view_module_version": "1.5.0",
            "_view_name": "HBoxView",
            "box_style": "",
            "children": [
              "IPY_MODEL_e4f0689e08a64073a3379e38ca886806",
              "IPY_MODEL_cabf4494b3d348e59e9bdcff200b4412",
              "IPY_MODEL_96a4f52b2078449580d7b47f33b3a163"
            ],
            "layout": "IPY_MODEL_51710fe6615542ed8b97db94e47e8131"
          }
        },
        "e4f0689e08a64073a3379e38ca886806": {
          "model_module": "@jupyter-widgets/controls",
          "model_name": "HTMLModel",
          "model_module_version": "1.5.0",
          "state": {
            "_dom_classes": [],
            "_model_module": "@jupyter-widgets/controls",
            "_model_module_version": "1.5.0",
            "_model_name": "HTMLModel",
            "_view_count": null,
            "_view_module": "@jupyter-widgets/controls",
            "_view_module_version": "1.5.0",
            "_view_name": "HTMLView",
            "description": "",
            "description_tooltip": null,
            "layout": "IPY_MODEL_c33cd6caf55b4d35ab6f3c855f8aaf9a",
            "placeholder": "​",
            "style": "IPY_MODEL_9bb0717e3acc427cbd393bf23675ce04",
            "value": "model-00002-of-00002.safetensors: 100%"
          }
        },
        "cabf4494b3d348e59e9bdcff200b4412": {
          "model_module": "@jupyter-widgets/controls",
          "model_name": "FloatProgressModel",
          "model_module_version": "1.5.0",
          "state": {
            "_dom_classes": [],
            "_model_module": "@jupyter-widgets/controls",
            "_model_module_version": "1.5.0",
            "_model_name": "FloatProgressModel",
            "_view_count": null,
            "_view_module": "@jupyter-widgets/controls",
            "_view_module_version": "1.5.0",
            "_view_name": "ProgressView",
            "bar_style": "success",
            "description": "",
            "description_tooltip": null,
            "layout": "IPY_MODEL_b18d1c15818c4c738e30a4be396a07fc",
            "max": 2669692552,
            "min": 0,
            "orientation": "horizontal",
            "style": "IPY_MODEL_b2f68071ff6649f3b4ddead81c52f25a",
            "value": 2669692552
          }
        },
        "96a4f52b2078449580d7b47f33b3a163": {
          "model_module": "@jupyter-widgets/controls",
          "model_name": "HTMLModel",
          "model_module_version": "1.5.0",
          "state": {
            "_dom_classes": [],
            "_model_module": "@jupyter-widgets/controls",
            "_model_module_version": "1.5.0",
            "_model_name": "HTMLModel",
            "_view_count": null,
            "_view_module": "@jupyter-widgets/controls",
            "_view_module_version": "1.5.0",
            "_view_name": "HTMLView",
            "description": "",
            "description_tooltip": null,
            "layout": "IPY_MODEL_8026c1f0555e46a5b067ce8f04750d5b",
            "placeholder": "​",
            "style": "IPY_MODEL_074f35335ed04a78b0c2022bead6ce26",
            "value": " 2.67G/2.67G [00:37&lt;00:00, 80.3MB/s]"
          }
        },
        "51710fe6615542ed8b97db94e47e8131": {
          "model_module": "@jupyter-widgets/base",
          "model_name": "LayoutModel",
          "model_module_version": "1.2.0",
          "state": {
            "_model_module": "@jupyter-widgets/base",
            "_model_module_version": "1.2.0",
            "_model_name": "LayoutModel",
            "_view_count": null,
            "_view_module": "@jupyter-widgets/base",
            "_view_module_version": "1.2.0",
            "_view_name": "LayoutView",
            "align_content": null,
            "align_items": null,
            "align_self": null,
            "border": null,
            "bottom": null,
            "display": null,
            "flex": null,
            "flex_flow": null,
            "grid_area": null,
            "grid_auto_columns": null,
            "grid_auto_flow": null,
            "grid_auto_rows": null,
            "grid_column": null,
            "grid_gap": null,
            "grid_row": null,
            "grid_template_areas": null,
            "grid_template_columns": null,
            "grid_template_rows": null,
            "height": null,
            "justify_content": null,
            "justify_items": null,
            "left": null,
            "margin": null,
            "max_height": null,
            "max_width": null,
            "min_height": null,
            "min_width": null,
            "object_fit": null,
            "object_position": null,
            "order": null,
            "overflow": null,
            "overflow_x": null,
            "overflow_y": null,
            "padding": null,
            "right": null,
            "top": null,
            "visibility": null,
            "width": null
          }
        },
        "c33cd6caf55b4d35ab6f3c855f8aaf9a": {
          "model_module": "@jupyter-widgets/base",
          "model_name": "LayoutModel",
          "model_module_version": "1.2.0",
          "state": {
            "_model_module": "@jupyter-widgets/base",
            "_model_module_version": "1.2.0",
            "_model_name": "LayoutModel",
            "_view_count": null,
            "_view_module": "@jupyter-widgets/base",
            "_view_module_version": "1.2.0",
            "_view_name": "LayoutView",
            "align_content": null,
            "align_items": null,
            "align_self": null,
            "border": null,
            "bottom": null,
            "display": null,
            "flex": null,
            "flex_flow": null,
            "grid_area": null,
            "grid_auto_columns": null,
            "grid_auto_flow": null,
            "grid_auto_rows": null,
            "grid_column": null,
            "grid_gap": null,
            "grid_row": null,
            "grid_template_areas": null,
            "grid_template_columns": null,
            "grid_template_rows": null,
            "height": null,
            "justify_content": null,
            "justify_items": null,
            "left": null,
            "margin": null,
            "max_height": null,
            "max_width": null,
            "min_height": null,
            "min_width": null,
            "object_fit": null,
            "object_position": null,
            "order": null,
            "overflow": null,
            "overflow_x": null,
            "overflow_y": null,
            "padding": null,
            "right": null,
            "top": null,
            "visibility": null,
            "width": null
          }
        },
        "9bb0717e3acc427cbd393bf23675ce04": {
          "model_module": "@jupyter-widgets/controls",
          "model_name": "DescriptionStyleModel",
          "model_module_version": "1.5.0",
          "state": {
            "_model_module": "@jupyter-widgets/controls",
            "_model_module_version": "1.5.0",
            "_model_name": "DescriptionStyleModel",
            "_view_count": null,
            "_view_module": "@jupyter-widgets/base",
            "_view_module_version": "1.2.0",
            "_view_name": "StyleView",
            "description_width": ""
          }
        },
        "b18d1c15818c4c738e30a4be396a07fc": {
          "model_module": "@jupyter-widgets/base",
          "model_name": "LayoutModel",
          "model_module_version": "1.2.0",
          "state": {
            "_model_module": "@jupyter-widgets/base",
            "_model_module_version": "1.2.0",
            "_model_name": "LayoutModel",
            "_view_count": null,
            "_view_module": "@jupyter-widgets/base",
            "_view_module_version": "1.2.0",
            "_view_name": "LayoutView",
            "align_content": null,
            "align_items": null,
            "align_self": null,
            "border": null,
            "bottom": null,
            "display": null,
            "flex": null,
            "flex_flow": null,
            "grid_area": null,
            "grid_auto_columns": null,
            "grid_auto_flow": null,
            "grid_auto_rows": null,
            "grid_column": null,
            "grid_gap": null,
            "grid_row": null,
            "grid_template_areas": null,
            "grid_template_columns": null,
            "grid_template_rows": null,
            "height": null,
            "justify_content": null,
            "justify_items": null,
            "left": null,
            "margin": null,
            "max_height": null,
            "max_width": null,
            "min_height": null,
            "min_width": null,
            "object_fit": null,
            "object_position": null,
            "order": null,
            "overflow": null,
            "overflow_x": null,
            "overflow_y": null,
            "padding": null,
            "right": null,
            "top": null,
            "visibility": null,
            "width": null
          }
        },
        "b2f68071ff6649f3b4ddead81c52f25a": {
          "model_module": "@jupyter-widgets/controls",
          "model_name": "ProgressStyleModel",
          "model_module_version": "1.5.0",
          "state": {
            "_model_module": "@jupyter-widgets/controls",
            "_model_module_version": "1.5.0",
            "_model_name": "ProgressStyleModel",
            "_view_count": null,
            "_view_module": "@jupyter-widgets/base",
            "_view_module_version": "1.2.0",
            "_view_name": "StyleView",
            "bar_color": null,
            "description_width": ""
          }
        },
        "8026c1f0555e46a5b067ce8f04750d5b": {
          "model_module": "@jupyter-widgets/base",
          "model_name": "LayoutModel",
          "model_module_version": "1.2.0",
          "state": {
            "_model_module": "@jupyter-widgets/base",
            "_model_module_version": "1.2.0",
            "_model_name": "LayoutModel",
            "_view_count": null,
            "_view_module": "@jupyter-widgets/base",
            "_view_module_version": "1.2.0",
            "_view_name": "LayoutView",
            "align_content": null,
            "align_items": null,
            "align_self": null,
            "border": null,
            "bottom": null,
            "display": null,
            "flex": null,
            "flex_flow": null,
            "grid_area": null,
            "grid_auto_columns": null,
            "grid_auto_flow": null,
            "grid_auto_rows": null,
            "grid_column": null,
            "grid_gap": null,
            "grid_row": null,
            "grid_template_areas": null,
            "grid_template_columns": null,
            "grid_template_rows": null,
            "height": null,
            "justify_content": null,
            "justify_items": null,
            "left": null,
            "margin": null,
            "max_height": null,
            "max_width": null,
            "min_height": null,
            "min_width": null,
            "object_fit": null,
            "object_position": null,
            "order": null,
            "overflow": null,
            "overflow_x": null,
            "overflow_y": null,
            "padding": null,
            "right": null,
            "top": null,
            "visibility": null,
            "width": null
          }
        },
        "074f35335ed04a78b0c2022bead6ce26": {
          "model_module": "@jupyter-widgets/controls",
          "model_name": "DescriptionStyleModel",
          "model_module_version": "1.5.0",
          "state": {
            "_model_module": "@jupyter-widgets/controls",
            "_model_module_version": "1.5.0",
            "_model_name": "DescriptionStyleModel",
            "_view_count": null,
            "_view_module": "@jupyter-widgets/base",
            "_view_module_version": "1.2.0",
            "_view_name": "StyleView",
            "description_width": ""
          }
        },
        "22299a1691934605b74581be8f943be5": {
          "model_module": "@jupyter-widgets/controls",
          "model_name": "HBoxModel",
          "model_module_version": "1.5.0",
          "state": {
            "_dom_classes": [],
            "_model_module": "@jupyter-widgets/controls",
            "_model_module_version": "1.5.0",
            "_model_name": "HBoxModel",
            "_view_count": null,
            "_view_module": "@jupyter-widgets/controls",
            "_view_module_version": "1.5.0",
            "_view_name": "HBoxView",
            "box_style": "",
            "children": [
              "IPY_MODEL_0df1a4ea2ae24135ba1d8136c9faee22",
              "IPY_MODEL_865ec37b3aa24bcd874ddac77ab6c17d",
              "IPY_MODEL_b84fc5bfaead48a7a8eeba8c8c6ac94c"
            ],
            "layout": "IPY_MODEL_a270702a336a4f24ab022fba9aacef5d"
          }
        },
        "0df1a4ea2ae24135ba1d8136c9faee22": {
          "model_module": "@jupyter-widgets/controls",
          "model_name": "HTMLModel",
          "model_module_version": "1.5.0",
          "state": {
            "_dom_classes": [],
            "_model_module": "@jupyter-widgets/controls",
            "_model_module_version": "1.5.0",
            "_model_name": "HTMLModel",
            "_view_count": null,
            "_view_module": "@jupyter-widgets/controls",
            "_view_module_version": "1.5.0",
            "_view_name": "HTMLView",
            "description": "",
            "description_tooltip": null,
            "layout": "IPY_MODEL_57bd1c45b4534fb884c4e79ea5a93b95",
            "placeholder": "​",
            "style": "IPY_MODEL_4bff9ee6c8ce49b5a43eab2853a10fd6",
            "value": "Loading checkpoint shards: 100%"
          }
        },
        "865ec37b3aa24bcd874ddac77ab6c17d": {
          "model_module": "@jupyter-widgets/controls",
          "model_name": "FloatProgressModel",
          "model_module_version": "1.5.0",
          "state": {
            "_dom_classes": [],
            "_model_module": "@jupyter-widgets/controls",
            "_model_module_version": "1.5.0",
            "_model_name": "FloatProgressModel",
            "_view_count": null,
            "_view_module": "@jupyter-widgets/controls",
            "_view_module_version": "1.5.0",
            "_view_name": "ProgressView",
            "bar_style": "success",
            "description": "",
            "description_tooltip": null,
            "layout": "IPY_MODEL_6efe024007ca427db3ed35510dcc2571",
            "max": 2,
            "min": 0,
            "orientation": "horizontal",
            "style": "IPY_MODEL_47285988f8ca4e728e7d1f6d55853275",
            "value": 2
          }
        },
        "b84fc5bfaead48a7a8eeba8c8c6ac94c": {
          "model_module": "@jupyter-widgets/controls",
          "model_name": "HTMLModel",
          "model_module_version": "1.5.0",
          "state": {
            "_dom_classes": [],
            "_model_module": "@jupyter-widgets/controls",
            "_model_module_version": "1.5.0",
            "_model_name": "HTMLModel",
            "_view_count": null,
            "_view_module": "@jupyter-widgets/controls",
            "_view_module_version": "1.5.0",
            "_view_name": "HTMLView",
            "description": "",
            "description_tooltip": null,
            "layout": "IPY_MODEL_8468dfd0255f417d81e4d8f33ed3c2e7",
            "placeholder": "​",
            "style": "IPY_MODEL_faf86d257c744f65b59bc94ab30b5167",
            "value": " 2/2 [00:37&lt;00:00, 17.89s/it]"
          }
        },
        "a270702a336a4f24ab022fba9aacef5d": {
          "model_module": "@jupyter-widgets/base",
          "model_name": "LayoutModel",
          "model_module_version": "1.2.0",
          "state": {
            "_model_module": "@jupyter-widgets/base",
            "_model_module_version": "1.2.0",
            "_model_name": "LayoutModel",
            "_view_count": null,
            "_view_module": "@jupyter-widgets/base",
            "_view_module_version": "1.2.0",
            "_view_name": "LayoutView",
            "align_content": null,
            "align_items": null,
            "align_self": null,
            "border": null,
            "bottom": null,
            "display": null,
            "flex": null,
            "flex_flow": null,
            "grid_area": null,
            "grid_auto_columns": null,
            "grid_auto_flow": null,
            "grid_auto_rows": null,
            "grid_column": null,
            "grid_gap": null,
            "grid_row": null,
            "grid_template_areas": null,
            "grid_template_columns": null,
            "grid_template_rows": null,
            "height": null,
            "justify_content": null,
            "justify_items": null,
            "left": null,
            "margin": null,
            "max_height": null,
            "max_width": null,
            "min_height": null,
            "min_width": null,
            "object_fit": null,
            "object_position": null,
            "order": null,
            "overflow": null,
            "overflow_x": null,
            "overflow_y": null,
            "padding": null,
            "right": null,
            "top": null,
            "visibility": null,
            "width": null
          }
        },
        "57bd1c45b4534fb884c4e79ea5a93b95": {
          "model_module": "@jupyter-widgets/base",
          "model_name": "LayoutModel",
          "model_module_version": "1.2.0",
          "state": {
            "_model_module": "@jupyter-widgets/base",
            "_model_module_version": "1.2.0",
            "_model_name": "LayoutModel",
            "_view_count": null,
            "_view_module": "@jupyter-widgets/base",
            "_view_module_version": "1.2.0",
            "_view_name": "LayoutView",
            "align_content": null,
            "align_items": null,
            "align_self": null,
            "border": null,
            "bottom": null,
            "display": null,
            "flex": null,
            "flex_flow": null,
            "grid_area": null,
            "grid_auto_columns": null,
            "grid_auto_flow": null,
            "grid_auto_rows": null,
            "grid_column": null,
            "grid_gap": null,
            "grid_row": null,
            "grid_template_areas": null,
            "grid_template_columns": null,
            "grid_template_rows": null,
            "height": null,
            "justify_content": null,
            "justify_items": null,
            "left": null,
            "margin": null,
            "max_height": null,
            "max_width": null,
            "min_height": null,
            "min_width": null,
            "object_fit": null,
            "object_position": null,
            "order": null,
            "overflow": null,
            "overflow_x": null,
            "overflow_y": null,
            "padding": null,
            "right": null,
            "top": null,
            "visibility": null,
            "width": null
          }
        },
        "4bff9ee6c8ce49b5a43eab2853a10fd6": {
          "model_module": "@jupyter-widgets/controls",
          "model_name": "DescriptionStyleModel",
          "model_module_version": "1.5.0",
          "state": {
            "_model_module": "@jupyter-widgets/controls",
            "_model_module_version": "1.5.0",
            "_model_name": "DescriptionStyleModel",
            "_view_count": null,
            "_view_module": "@jupyter-widgets/base",
            "_view_module_version": "1.2.0",
            "_view_name": "StyleView",
            "description_width": ""
          }
        },
        "6efe024007ca427db3ed35510dcc2571": {
          "model_module": "@jupyter-widgets/base",
          "model_name": "LayoutModel",
          "model_module_version": "1.2.0",
          "state": {
            "_model_module": "@jupyter-widgets/base",
            "_model_module_version": "1.2.0",
            "_model_name": "LayoutModel",
            "_view_count": null,
            "_view_module": "@jupyter-widgets/base",
            "_view_module_version": "1.2.0",
            "_view_name": "LayoutView",
            "align_content": null,
            "align_items": null,
            "align_self": null,
            "border": null,
            "bottom": null,
            "display": null,
            "flex": null,
            "flex_flow": null,
            "grid_area": null,
            "grid_auto_columns": null,
            "grid_auto_flow": null,
            "grid_auto_rows": null,
            "grid_column": null,
            "grid_gap": null,
            "grid_row": null,
            "grid_template_areas": null,
            "grid_template_columns": null,
            "grid_template_rows": null,
            "height": null,
            "justify_content": null,
            "justify_items": null,
            "left": null,
            "margin": null,
            "max_height": null,
            "max_width": null,
            "min_height": null,
            "min_width": null,
            "object_fit": null,
            "object_position": null,
            "order": null,
            "overflow": null,
            "overflow_x": null,
            "overflow_y": null,
            "padding": null,
            "right": null,
            "top": null,
            "visibility": null,
            "width": null
          }
        },
        "47285988f8ca4e728e7d1f6d55853275": {
          "model_module": "@jupyter-widgets/controls",
          "model_name": "ProgressStyleModel",
          "model_module_version": "1.5.0",
          "state": {
            "_model_module": "@jupyter-widgets/controls",
            "_model_module_version": "1.5.0",
            "_model_name": "ProgressStyleModel",
            "_view_count": null,
            "_view_module": "@jupyter-widgets/base",
            "_view_module_version": "1.2.0",
            "_view_name": "StyleView",
            "bar_color": null,
            "description_width": ""
          }
        },
        "8468dfd0255f417d81e4d8f33ed3c2e7": {
          "model_module": "@jupyter-widgets/base",
          "model_name": "LayoutModel",
          "model_module_version": "1.2.0",
          "state": {
            "_model_module": "@jupyter-widgets/base",
            "_model_module_version": "1.2.0",
            "_model_name": "LayoutModel",
            "_view_count": null,
            "_view_module": "@jupyter-widgets/base",
            "_view_module_version": "1.2.0",
            "_view_name": "LayoutView",
            "align_content": null,
            "align_items": null,
            "align_self": null,
            "border": null,
            "bottom": null,
            "display": null,
            "flex": null,
            "flex_flow": null,
            "grid_area": null,
            "grid_auto_columns": null,
            "grid_auto_flow": null,
            "grid_auto_rows": null,
            "grid_column": null,
            "grid_gap": null,
            "grid_row": null,
            "grid_template_areas": null,
            "grid_template_columns": null,
            "grid_template_rows": null,
            "height": null,
            "justify_content": null,
            "justify_items": null,
            "left": null,
            "margin": null,
            "max_height": null,
            "max_width": null,
            "min_height": null,
            "min_width": null,
            "object_fit": null,
            "object_position": null,
            "order": null,
            "overflow": null,
            "overflow_x": null,
            "overflow_y": null,
            "padding": null,
            "right": null,
            "top": null,
            "visibility": null,
            "width": null
          }
        },
        "faf86d257c744f65b59bc94ab30b5167": {
          "model_module": "@jupyter-widgets/controls",
          "model_name": "DescriptionStyleModel",
          "model_module_version": "1.5.0",
          "state": {
            "_model_module": "@jupyter-widgets/controls",
            "_model_module_version": "1.5.0",
            "_model_name": "DescriptionStyleModel",
            "_view_count": null,
            "_view_module": "@jupyter-widgets/base",
            "_view_module_version": "1.2.0",
            "_view_name": "StyleView",
            "description_width": ""
          }
        },
        "9f67aea113a846e3a9f823c1182c65e7": {
          "model_module": "@jupyter-widgets/controls",
          "model_name": "HBoxModel",
          "model_module_version": "1.5.0",
          "state": {
            "_dom_classes": [],
            "_model_module": "@jupyter-widgets/controls",
            "_model_module_version": "1.5.0",
            "_model_name": "HBoxModel",
            "_view_count": null,
            "_view_module": "@jupyter-widgets/controls",
            "_view_module_version": "1.5.0",
            "_view_name": "HBoxView",
            "box_style": "",
            "children": [
              "IPY_MODEL_483cfa697933493884eecc343292fd3e",
              "IPY_MODEL_700544c81c874534acb1fe6757271ab9",
              "IPY_MODEL_2d6b5d4e73194743ac5d96f2bc87e368"
            ],
            "layout": "IPY_MODEL_123e0ab523a949e1b6d5996faeb37b63"
          }
        },
        "483cfa697933493884eecc343292fd3e": {
          "model_module": "@jupyter-widgets/controls",
          "model_name": "HTMLModel",
          "model_module_version": "1.5.0",
          "state": {
            "_dom_classes": [],
            "_model_module": "@jupyter-widgets/controls",
            "_model_module_version": "1.5.0",
            "_model_name": "HTMLModel",
            "_view_count": null,
            "_view_module": "@jupyter-widgets/controls",
            "_view_module_version": "1.5.0",
            "_view_name": "HTMLView",
            "description": "",
            "description_tooltip": null,
            "layout": "IPY_MODEL_89460334a96f4aa397fd11d825292779",
            "placeholder": "​",
            "style": "IPY_MODEL_a203e7b275414d39973f0a29efb3e2fe",
            "value": "generation_config.json: 100%"
          }
        },
        "700544c81c874534acb1fe6757271ab9": {
          "model_module": "@jupyter-widgets/controls",
          "model_name": "FloatProgressModel",
          "model_module_version": "1.5.0",
          "state": {
            "_dom_classes": [],
            "_model_module": "@jupyter-widgets/controls",
            "_model_module_version": "1.5.0",
            "_model_name": "FloatProgressModel",
            "_view_count": null,
            "_view_module": "@jupyter-widgets/controls",
            "_view_module_version": "1.5.0",
            "_view_name": "ProgressView",
            "bar_style": "success",
            "description": "",
            "description_tooltip": null,
            "layout": "IPY_MODEL_46b7e7edcc1e4e7aa1cd9a7e06ea94de",
            "max": 181,
            "min": 0,
            "orientation": "horizontal",
            "style": "IPY_MODEL_5a5e95f524b840b0852ff5360921e355",
            "value": 181
          }
        },
        "2d6b5d4e73194743ac5d96f2bc87e368": {
          "model_module": "@jupyter-widgets/controls",
          "model_name": "HTMLModel",
          "model_module_version": "1.5.0",
          "state": {
            "_dom_classes": [],
            "_model_module": "@jupyter-widgets/controls",
            "_model_module_version": "1.5.0",
            "_model_name": "HTMLModel",
            "_view_count": null,
            "_view_module": "@jupyter-widgets/controls",
            "_view_module_version": "1.5.0",
            "_view_name": "HTMLView",
            "description": "",
            "description_tooltip": null,
            "layout": "IPY_MODEL_8fba1447a97b41d7b7fbd52b8ac0ca30",
            "placeholder": "​",
            "style": "IPY_MODEL_7fcc449fd15f4cdcb37d0a0f19336ca3",
            "value": " 181/181 [00:00&lt;00:00, 16.0kB/s]"
          }
        },
        "123e0ab523a949e1b6d5996faeb37b63": {
          "model_module": "@jupyter-widgets/base",
          "model_name": "LayoutModel",
          "model_module_version": "1.2.0",
          "state": {
            "_model_module": "@jupyter-widgets/base",
            "_model_module_version": "1.2.0",
            "_model_name": "LayoutModel",
            "_view_count": null,
            "_view_module": "@jupyter-widgets/base",
            "_view_module_version": "1.2.0",
            "_view_name": "LayoutView",
            "align_content": null,
            "align_items": null,
            "align_self": null,
            "border": null,
            "bottom": null,
            "display": null,
            "flex": null,
            "flex_flow": null,
            "grid_area": null,
            "grid_auto_columns": null,
            "grid_auto_flow": null,
            "grid_auto_rows": null,
            "grid_column": null,
            "grid_gap": null,
            "grid_row": null,
            "grid_template_areas": null,
            "grid_template_columns": null,
            "grid_template_rows": null,
            "height": null,
            "justify_content": null,
            "justify_items": null,
            "left": null,
            "margin": null,
            "max_height": null,
            "max_width": null,
            "min_height": null,
            "min_width": null,
            "object_fit": null,
            "object_position": null,
            "order": null,
            "overflow": null,
            "overflow_x": null,
            "overflow_y": null,
            "padding": null,
            "right": null,
            "top": null,
            "visibility": null,
            "width": null
          }
        },
        "89460334a96f4aa397fd11d825292779": {
          "model_module": "@jupyter-widgets/base",
          "model_name": "LayoutModel",
          "model_module_version": "1.2.0",
          "state": {
            "_model_module": "@jupyter-widgets/base",
            "_model_module_version": "1.2.0",
            "_model_name": "LayoutModel",
            "_view_count": null,
            "_view_module": "@jupyter-widgets/base",
            "_view_module_version": "1.2.0",
            "_view_name": "LayoutView",
            "align_content": null,
            "align_items": null,
            "align_self": null,
            "border": null,
            "bottom": null,
            "display": null,
            "flex": null,
            "flex_flow": null,
            "grid_area": null,
            "grid_auto_columns": null,
            "grid_auto_flow": null,
            "grid_auto_rows": null,
            "grid_column": null,
            "grid_gap": null,
            "grid_row": null,
            "grid_template_areas": null,
            "grid_template_columns": null,
            "grid_template_rows": null,
            "height": null,
            "justify_content": null,
            "justify_items": null,
            "left": null,
            "margin": null,
            "max_height": null,
            "max_width": null,
            "min_height": null,
            "min_width": null,
            "object_fit": null,
            "object_position": null,
            "order": null,
            "overflow": null,
            "overflow_x": null,
            "overflow_y": null,
            "padding": null,
            "right": null,
            "top": null,
            "visibility": null,
            "width": null
          }
        },
        "a203e7b275414d39973f0a29efb3e2fe": {
          "model_module": "@jupyter-widgets/controls",
          "model_name": "DescriptionStyleModel",
          "model_module_version": "1.5.0",
          "state": {
            "_model_module": "@jupyter-widgets/controls",
            "_model_module_version": "1.5.0",
            "_model_name": "DescriptionStyleModel",
            "_view_count": null,
            "_view_module": "@jupyter-widgets/base",
            "_view_module_version": "1.2.0",
            "_view_name": "StyleView",
            "description_width": ""
          }
        },
        "46b7e7edcc1e4e7aa1cd9a7e06ea94de": {
          "model_module": "@jupyter-widgets/base",
          "model_name": "LayoutModel",
          "model_module_version": "1.2.0",
          "state": {
            "_model_module": "@jupyter-widgets/base",
            "_model_module_version": "1.2.0",
            "_model_name": "LayoutModel",
            "_view_count": null,
            "_view_module": "@jupyter-widgets/base",
            "_view_module_version": "1.2.0",
            "_view_name": "LayoutView",
            "align_content": null,
            "align_items": null,
            "align_self": null,
            "border": null,
            "bottom": null,
            "display": null,
            "flex": null,
            "flex_flow": null,
            "grid_area": null,
            "grid_auto_columns": null,
            "grid_auto_flow": null,
            "grid_auto_rows": null,
            "grid_column": null,
            "grid_gap": null,
            "grid_row": null,
            "grid_template_areas": null,
            "grid_template_columns": null,
            "grid_template_rows": null,
            "height": null,
            "justify_content": null,
            "justify_items": null,
            "left": null,
            "margin": null,
            "max_height": null,
            "max_width": null,
            "min_height": null,
            "min_width": null,
            "object_fit": null,
            "object_position": null,
            "order": null,
            "overflow": null,
            "overflow_x": null,
            "overflow_y": null,
            "padding": null,
            "right": null,
            "top": null,
            "visibility": null,
            "width": null
          }
        },
        "5a5e95f524b840b0852ff5360921e355": {
          "model_module": "@jupyter-widgets/controls",
          "model_name": "ProgressStyleModel",
          "model_module_version": "1.5.0",
          "state": {
            "_model_module": "@jupyter-widgets/controls",
            "_model_module_version": "1.5.0",
            "_model_name": "ProgressStyleModel",
            "_view_count": null,
            "_view_module": "@jupyter-widgets/base",
            "_view_module_version": "1.2.0",
            "_view_name": "StyleView",
            "bar_color": null,
            "description_width": ""
          }
        },
        "8fba1447a97b41d7b7fbd52b8ac0ca30": {
          "model_module": "@jupyter-widgets/base",
          "model_name": "LayoutModel",
          "model_module_version": "1.2.0",
          "state": {
            "_model_module": "@jupyter-widgets/base",
            "_model_module_version": "1.2.0",
            "_model_name": "LayoutModel",
            "_view_count": null,
            "_view_module": "@jupyter-widgets/base",
            "_view_module_version": "1.2.0",
            "_view_name": "LayoutView",
            "align_content": null,
            "align_items": null,
            "align_self": null,
            "border": null,
            "bottom": null,
            "display": null,
            "flex": null,
            "flex_flow": null,
            "grid_area": null,
            "grid_auto_columns": null,
            "grid_auto_flow": null,
            "grid_auto_rows": null,
            "grid_column": null,
            "grid_gap": null,
            "grid_row": null,
            "grid_template_areas": null,
            "grid_template_columns": null,
            "grid_template_rows": null,
            "height": null,
            "justify_content": null,
            "justify_items": null,
            "left": null,
            "margin": null,
            "max_height": null,
            "max_width": null,
            "min_height": null,
            "min_width": null,
            "object_fit": null,
            "object_position": null,
            "order": null,
            "overflow": null,
            "overflow_x": null,
            "overflow_y": null,
            "padding": null,
            "right": null,
            "top": null,
            "visibility": null,
            "width": null
          }
        },
        "7fcc449fd15f4cdcb37d0a0f19336ca3": {
          "model_module": "@jupyter-widgets/controls",
          "model_name": "DescriptionStyleModel",
          "model_module_version": "1.5.0",
          "state": {
            "_model_module": "@jupyter-widgets/controls",
            "_model_module_version": "1.5.0",
            "_model_name": "DescriptionStyleModel",
            "_view_count": null,
            "_view_module": "@jupyter-widgets/base",
            "_view_module_version": "1.2.0",
            "_view_name": "StyleView",
            "description_width": ""
          }
        },
        "65bd4d961ee24ed0981f3cf2ade3f1f3": {
          "model_module": "@jupyter-widgets/controls",
          "model_name": "HBoxModel",
          "model_module_version": "1.5.0",
          "state": {
            "_dom_classes": [],
            "_model_module": "@jupyter-widgets/controls",
            "_model_module_version": "1.5.0",
            "_model_name": "HBoxModel",
            "_view_count": null,
            "_view_module": "@jupyter-widgets/controls",
            "_view_module_version": "1.5.0",
            "_view_name": "HBoxView",
            "box_style": "",
            "children": [
              "IPY_MODEL_4a3ff496ae59410caaba0cf32b27272c",
              "IPY_MODEL_5bd7d10ce3e543799ec40571b8ec6ecf",
              "IPY_MODEL_77f1ecdc6eb24dd19b411b4cd960a8e8"
            ],
            "layout": "IPY_MODEL_c3c2598010524741ae8e4e3bbe6451d6"
          }
        },
        "4a3ff496ae59410caaba0cf32b27272c": {
          "model_module": "@jupyter-widgets/controls",
          "model_name": "HTMLModel",
          "model_module_version": "1.5.0",
          "state": {
            "_dom_classes": [],
            "_model_module": "@jupyter-widgets/controls",
            "_model_module_version": "1.5.0",
            "_model_name": "HTMLModel",
            "_view_count": null,
            "_view_module": "@jupyter-widgets/controls",
            "_view_module_version": "1.5.0",
            "_view_name": "HTMLView",
            "description": "",
            "description_tooltip": null,
            "layout": "IPY_MODEL_909bd9047d6542fc97092e228fcc4548",
            "placeholder": "​",
            "style": "IPY_MODEL_4594d1ad8c1244c98ae2476f18e95de8",
            "value": "tokenizer_config.json: 100%"
          }
        },
        "5bd7d10ce3e543799ec40571b8ec6ecf": {
          "model_module": "@jupyter-widgets/controls",
          "model_name": "FloatProgressModel",
          "model_module_version": "1.5.0",
          "state": {
            "_dom_classes": [],
            "_model_module": "@jupyter-widgets/controls",
            "_model_module_version": "1.5.0",
            "_model_name": "FloatProgressModel",
            "_view_count": null,
            "_view_module": "@jupyter-widgets/controls",
            "_view_module_version": "1.5.0",
            "_view_name": "ProgressView",
            "bar_style": "success",
            "description": "",
            "description_tooltip": null,
            "layout": "IPY_MODEL_002bb6dc014c47638f46cf5a33506b43",
            "max": 3441,
            "min": 0,
            "orientation": "horizontal",
            "style": "IPY_MODEL_5b15966584e244808e87a69dd552a9b2",
            "value": 3441
          }
        },
        "77f1ecdc6eb24dd19b411b4cd960a8e8": {
          "model_module": "@jupyter-widgets/controls",
          "model_name": "HTMLModel",
          "model_module_version": "1.5.0",
          "state": {
            "_dom_classes": [],
            "_model_module": "@jupyter-widgets/controls",
            "_model_module_version": "1.5.0",
            "_model_name": "HTMLModel",
            "_view_count": null,
            "_view_module": "@jupyter-widgets/controls",
            "_view_module_version": "1.5.0",
            "_view_name": "HTMLView",
            "description": "",
            "description_tooltip": null,
            "layout": "IPY_MODEL_d647ed81e52844b282ccd5940e330bbb",
            "placeholder": "​",
            "style": "IPY_MODEL_757a66cb47d24f82803946a55230e5e7",
            "value": " 3.44k/3.44k [00:00&lt;00:00, 231kB/s]"
          }
        },
        "c3c2598010524741ae8e4e3bbe6451d6": {
          "model_module": "@jupyter-widgets/base",
          "model_name": "LayoutModel",
          "model_module_version": "1.2.0",
          "state": {
            "_model_module": "@jupyter-widgets/base",
            "_model_module_version": "1.2.0",
            "_model_name": "LayoutModel",
            "_view_count": null,
            "_view_module": "@jupyter-widgets/base",
            "_view_module_version": "1.2.0",
            "_view_name": "LayoutView",
            "align_content": null,
            "align_items": null,
            "align_self": null,
            "border": null,
            "bottom": null,
            "display": null,
            "flex": null,
            "flex_flow": null,
            "grid_area": null,
            "grid_auto_columns": null,
            "grid_auto_flow": null,
            "grid_auto_rows": null,
            "grid_column": null,
            "grid_gap": null,
            "grid_row": null,
            "grid_template_areas": null,
            "grid_template_columns": null,
            "grid_template_rows": null,
            "height": null,
            "justify_content": null,
            "justify_items": null,
            "left": null,
            "margin": null,
            "max_height": null,
            "max_width": null,
            "min_height": null,
            "min_width": null,
            "object_fit": null,
            "object_position": null,
            "order": null,
            "overflow": null,
            "overflow_x": null,
            "overflow_y": null,
            "padding": null,
            "right": null,
            "top": null,
            "visibility": null,
            "width": null
          }
        },
        "909bd9047d6542fc97092e228fcc4548": {
          "model_module": "@jupyter-widgets/base",
          "model_name": "LayoutModel",
          "model_module_version": "1.2.0",
          "state": {
            "_model_module": "@jupyter-widgets/base",
            "_model_module_version": "1.2.0",
            "_model_name": "LayoutModel",
            "_view_count": null,
            "_view_module": "@jupyter-widgets/base",
            "_view_module_version": "1.2.0",
            "_view_name": "LayoutView",
            "align_content": null,
            "align_items": null,
            "align_self": null,
            "border": null,
            "bottom": null,
            "display": null,
            "flex": null,
            "flex_flow": null,
            "grid_area": null,
            "grid_auto_columns": null,
            "grid_auto_flow": null,
            "grid_auto_rows": null,
            "grid_column": null,
            "grid_gap": null,
            "grid_row": null,
            "grid_template_areas": null,
            "grid_template_columns": null,
            "grid_template_rows": null,
            "height": null,
            "justify_content": null,
            "justify_items": null,
            "left": null,
            "margin": null,
            "max_height": null,
            "max_width": null,
            "min_height": null,
            "min_width": null,
            "object_fit": null,
            "object_position": null,
            "order": null,
            "overflow": null,
            "overflow_x": null,
            "overflow_y": null,
            "padding": null,
            "right": null,
            "top": null,
            "visibility": null,
            "width": null
          }
        },
        "4594d1ad8c1244c98ae2476f18e95de8": {
          "model_module": "@jupyter-widgets/controls",
          "model_name": "DescriptionStyleModel",
          "model_module_version": "1.5.0",
          "state": {
            "_model_module": "@jupyter-widgets/controls",
            "_model_module_version": "1.5.0",
            "_model_name": "DescriptionStyleModel",
            "_view_count": null,
            "_view_module": "@jupyter-widgets/base",
            "_view_module_version": "1.2.0",
            "_view_name": "StyleView",
            "description_width": ""
          }
        },
        "002bb6dc014c47638f46cf5a33506b43": {
          "model_module": "@jupyter-widgets/base",
          "model_name": "LayoutModel",
          "model_module_version": "1.2.0",
          "state": {
            "_model_module": "@jupyter-widgets/base",
            "_model_module_version": "1.2.0",
            "_model_name": "LayoutModel",
            "_view_count": null,
            "_view_module": "@jupyter-widgets/base",
            "_view_module_version": "1.2.0",
            "_view_name": "LayoutView",
            "align_content": null,
            "align_items": null,
            "align_self": null,
            "border": null,
            "bottom": null,
            "display": null,
            "flex": null,
            "flex_flow": null,
            "grid_area": null,
            "grid_auto_columns": null,
            "grid_auto_flow": null,
            "grid_auto_rows": null,
            "grid_column": null,
            "grid_gap": null,
            "grid_row": null,
            "grid_template_areas": null,
            "grid_template_columns": null,
            "grid_template_rows": null,
            "height": null,
            "justify_content": null,
            "justify_items": null,
            "left": null,
            "margin": null,
            "max_height": null,
            "max_width": null,
            "min_height": null,
            "min_width": null,
            "object_fit": null,
            "object_position": null,
            "order": null,
            "overflow": null,
            "overflow_x": null,
            "overflow_y": null,
            "padding": null,
            "right": null,
            "top": null,
            "visibility": null,
            "width": null
          }
        },
        "5b15966584e244808e87a69dd552a9b2": {
          "model_module": "@jupyter-widgets/controls",
          "model_name": "ProgressStyleModel",
          "model_module_version": "1.5.0",
          "state": {
            "_model_module": "@jupyter-widgets/controls",
            "_model_module_version": "1.5.0",
            "_model_name": "ProgressStyleModel",
            "_view_count": null,
            "_view_module": "@jupyter-widgets/base",
            "_view_module_version": "1.2.0",
            "_view_name": "StyleView",
            "bar_color": null,
            "description_width": ""
          }
        },
        "d647ed81e52844b282ccd5940e330bbb": {
          "model_module": "@jupyter-widgets/base",
          "model_name": "LayoutModel",
          "model_module_version": "1.2.0",
          "state": {
            "_model_module": "@jupyter-widgets/base",
            "_model_module_version": "1.2.0",
            "_model_name": "LayoutModel",
            "_view_count": null,
            "_view_module": "@jupyter-widgets/base",
            "_view_module_version": "1.2.0",
            "_view_name": "LayoutView",
            "align_content": null,
            "align_items": null,
            "align_self": null,
            "border": null,
            "bottom": null,
            "display": null,
            "flex": null,
            "flex_flow": null,
            "grid_area": null,
            "grid_auto_columns": null,
            "grid_auto_flow": null,
            "grid_auto_rows": null,
            "grid_column": null,
            "grid_gap": null,
            "grid_row": null,
            "grid_template_areas": null,
            "grid_template_columns": null,
            "grid_template_rows": null,
            "height": null,
            "justify_content": null,
            "justify_items": null,
            "left": null,
            "margin": null,
            "max_height": null,
            "max_width": null,
            "min_height": null,
            "min_width": null,
            "object_fit": null,
            "object_position": null,
            "order": null,
            "overflow": null,
            "overflow_x": null,
            "overflow_y": null,
            "padding": null,
            "right": null,
            "top": null,
            "visibility": null,
            "width": null
          }
        },
        "757a66cb47d24f82803946a55230e5e7": {
          "model_module": "@jupyter-widgets/controls",
          "model_name": "DescriptionStyleModel",
          "model_module_version": "1.5.0",
          "state": {
            "_model_module": "@jupyter-widgets/controls",
            "_model_module_version": "1.5.0",
            "_model_name": "DescriptionStyleModel",
            "_view_count": null,
            "_view_module": "@jupyter-widgets/base",
            "_view_module_version": "1.2.0",
            "_view_name": "StyleView",
            "description_width": ""
          }
        },
        "a24cb3e8df20403385fb446fb3e938f7": {
          "model_module": "@jupyter-widgets/controls",
          "model_name": "HBoxModel",
          "model_module_version": "1.5.0",
          "state": {
            "_dom_classes": [],
            "_model_module": "@jupyter-widgets/controls",
            "_model_module_version": "1.5.0",
            "_model_name": "HBoxModel",
            "_view_count": null,
            "_view_module": "@jupyter-widgets/controls",
            "_view_module_version": "1.5.0",
            "_view_name": "HBoxView",
            "box_style": "",
            "children": [
              "IPY_MODEL_b270baa3b6c24c7483e99510d2528e8a",
              "IPY_MODEL_4f8964a98058497b8062895413d74044",
              "IPY_MODEL_07fc6333cc1d4535957b014d1dbd3418"
            ],
            "layout": "IPY_MODEL_a781578c026b4b9795a3426064f01523"
          }
        },
        "b270baa3b6c24c7483e99510d2528e8a": {
          "model_module": "@jupyter-widgets/controls",
          "model_name": "HTMLModel",
          "model_module_version": "1.5.0",
          "state": {
            "_dom_classes": [],
            "_model_module": "@jupyter-widgets/controls",
            "_model_module_version": "1.5.0",
            "_model_name": "HTMLModel",
            "_view_count": null,
            "_view_module": "@jupyter-widgets/controls",
            "_view_module_version": "1.5.0",
            "_view_name": "HTMLView",
            "description": "",
            "description_tooltip": null,
            "layout": "IPY_MODEL_9b9c87765d1d462ab9c50cf2cbe6a9a4",
            "placeholder": "​",
            "style": "IPY_MODEL_73952bcf5bc24e209ec2f8300075aa5d",
            "value": "tokenizer.model: 100%"
          }
        },
        "4f8964a98058497b8062895413d74044": {
          "model_module": "@jupyter-widgets/controls",
          "model_name": "FloatProgressModel",
          "model_module_version": "1.5.0",
          "state": {
            "_dom_classes": [],
            "_model_module": "@jupyter-widgets/controls",
            "_model_module_version": "1.5.0",
            "_model_name": "FloatProgressModel",
            "_view_count": null,
            "_view_module": "@jupyter-widgets/controls",
            "_view_module_version": "1.5.0",
            "_view_name": "ProgressView",
            "bar_style": "success",
            "description": "",
            "description_tooltip": null,
            "layout": "IPY_MODEL_f709f6ac585646109ad3a31a003d819b",
            "max": 499723,
            "min": 0,
            "orientation": "horizontal",
            "style": "IPY_MODEL_927b370d5cd94a8c88ee04718224a743",
            "value": 499723
          }
        },
        "07fc6333cc1d4535957b014d1dbd3418": {
          "model_module": "@jupyter-widgets/controls",
          "model_name": "HTMLModel",
          "model_module_version": "1.5.0",
          "state": {
            "_dom_classes": [],
            "_model_module": "@jupyter-widgets/controls",
            "_model_module_version": "1.5.0",
            "_model_name": "HTMLModel",
            "_view_count": null,
            "_view_module": "@jupyter-widgets/controls",
            "_view_module_version": "1.5.0",
            "_view_name": "HTMLView",
            "description": "",
            "description_tooltip": null,
            "layout": "IPY_MODEL_b342547c01f9441d84057ee46d597163",
            "placeholder": "​",
            "style": "IPY_MODEL_06cbe86615b84402aba1d9e925e6f064",
            "value": " 500k/500k [00:00&lt;00:00, 4.01MB/s]"
          }
        },
        "a781578c026b4b9795a3426064f01523": {
          "model_module": "@jupyter-widgets/base",
          "model_name": "LayoutModel",
          "model_module_version": "1.2.0",
          "state": {
            "_model_module": "@jupyter-widgets/base",
            "_model_module_version": "1.2.0",
            "_model_name": "LayoutModel",
            "_view_count": null,
            "_view_module": "@jupyter-widgets/base",
            "_view_module_version": "1.2.0",
            "_view_name": "LayoutView",
            "align_content": null,
            "align_items": null,
            "align_self": null,
            "border": null,
            "bottom": null,
            "display": null,
            "flex": null,
            "flex_flow": null,
            "grid_area": null,
            "grid_auto_columns": null,
            "grid_auto_flow": null,
            "grid_auto_rows": null,
            "grid_column": null,
            "grid_gap": null,
            "grid_row": null,
            "grid_template_areas": null,
            "grid_template_columns": null,
            "grid_template_rows": null,
            "height": null,
            "justify_content": null,
            "justify_items": null,
            "left": null,
            "margin": null,
            "max_height": null,
            "max_width": null,
            "min_height": null,
            "min_width": null,
            "object_fit": null,
            "object_position": null,
            "order": null,
            "overflow": null,
            "overflow_x": null,
            "overflow_y": null,
            "padding": null,
            "right": null,
            "top": null,
            "visibility": null,
            "width": null
          }
        },
        "9b9c87765d1d462ab9c50cf2cbe6a9a4": {
          "model_module": "@jupyter-widgets/base",
          "model_name": "LayoutModel",
          "model_module_version": "1.2.0",
          "state": {
            "_model_module": "@jupyter-widgets/base",
            "_model_module_version": "1.2.0",
            "_model_name": "LayoutModel",
            "_view_count": null,
            "_view_module": "@jupyter-widgets/base",
            "_view_module_version": "1.2.0",
            "_view_name": "LayoutView",
            "align_content": null,
            "align_items": null,
            "align_self": null,
            "border": null,
            "bottom": null,
            "display": null,
            "flex": null,
            "flex_flow": null,
            "grid_area": null,
            "grid_auto_columns": null,
            "grid_auto_flow": null,
            "grid_auto_rows": null,
            "grid_column": null,
            "grid_gap": null,
            "grid_row": null,
            "grid_template_areas": null,
            "grid_template_columns": null,
            "grid_template_rows": null,
            "height": null,
            "justify_content": null,
            "justify_items": null,
            "left": null,
            "margin": null,
            "max_height": null,
            "max_width": null,
            "min_height": null,
            "min_width": null,
            "object_fit": null,
            "object_position": null,
            "order": null,
            "overflow": null,
            "overflow_x": null,
            "overflow_y": null,
            "padding": null,
            "right": null,
            "top": null,
            "visibility": null,
            "width": null
          }
        },
        "73952bcf5bc24e209ec2f8300075aa5d": {
          "model_module": "@jupyter-widgets/controls",
          "model_name": "DescriptionStyleModel",
          "model_module_version": "1.5.0",
          "state": {
            "_model_module": "@jupyter-widgets/controls",
            "_model_module_version": "1.5.0",
            "_model_name": "DescriptionStyleModel",
            "_view_count": null,
            "_view_module": "@jupyter-widgets/base",
            "_view_module_version": "1.2.0",
            "_view_name": "StyleView",
            "description_width": ""
          }
        },
        "f709f6ac585646109ad3a31a003d819b": {
          "model_module": "@jupyter-widgets/base",
          "model_name": "LayoutModel",
          "model_module_version": "1.2.0",
          "state": {
            "_model_module": "@jupyter-widgets/base",
            "_model_module_version": "1.2.0",
            "_model_name": "LayoutModel",
            "_view_count": null,
            "_view_module": "@jupyter-widgets/base",
            "_view_module_version": "1.2.0",
            "_view_name": "LayoutView",
            "align_content": null,
            "align_items": null,
            "align_self": null,
            "border": null,
            "bottom": null,
            "display": null,
            "flex": null,
            "flex_flow": null,
            "grid_area": null,
            "grid_auto_columns": null,
            "grid_auto_flow": null,
            "grid_auto_rows": null,
            "grid_column": null,
            "grid_gap": null,
            "grid_row": null,
            "grid_template_areas": null,
            "grid_template_columns": null,
            "grid_template_rows": null,
            "height": null,
            "justify_content": null,
            "justify_items": null,
            "left": null,
            "margin": null,
            "max_height": null,
            "max_width": null,
            "min_height": null,
            "min_width": null,
            "object_fit": null,
            "object_position": null,
            "order": null,
            "overflow": null,
            "overflow_x": null,
            "overflow_y": null,
            "padding": null,
            "right": null,
            "top": null,
            "visibility": null,
            "width": null
          }
        },
        "927b370d5cd94a8c88ee04718224a743": {
          "model_module": "@jupyter-widgets/controls",
          "model_name": "ProgressStyleModel",
          "model_module_version": "1.5.0",
          "state": {
            "_model_module": "@jupyter-widgets/controls",
            "_model_module_version": "1.5.0",
            "_model_name": "ProgressStyleModel",
            "_view_count": null,
            "_view_module": "@jupyter-widgets/base",
            "_view_module_version": "1.2.0",
            "_view_name": "StyleView",
            "bar_color": null,
            "description_width": ""
          }
        },
        "b342547c01f9441d84057ee46d597163": {
          "model_module": "@jupyter-widgets/base",
          "model_name": "LayoutModel",
          "model_module_version": "1.2.0",
          "state": {
            "_model_module": "@jupyter-widgets/base",
            "_model_module_version": "1.2.0",
            "_model_name": "LayoutModel",
            "_view_count": null,
            "_view_module": "@jupyter-widgets/base",
            "_view_module_version": "1.2.0",
            "_view_name": "LayoutView",
            "align_content": null,
            "align_items": null,
            "align_self": null,
            "border": null,
            "bottom": null,
            "display": null,
            "flex": null,
            "flex_flow": null,
            "grid_area": null,
            "grid_auto_columns": null,
            "grid_auto_flow": null,
            "grid_auto_rows": null,
            "grid_column": null,
            "grid_gap": null,
            "grid_row": null,
            "grid_template_areas": null,
            "grid_template_columns": null,
            "grid_template_rows": null,
            "height": null,
            "justify_content": null,
            "justify_items": null,
            "left": null,
            "margin": null,
            "max_height": null,
            "max_width": null,
            "min_height": null,
            "min_width": null,
            "object_fit": null,
            "object_position": null,
            "order": null,
            "overflow": null,
            "overflow_x": null,
            "overflow_y": null,
            "padding": null,
            "right": null,
            "top": null,
            "visibility": null,
            "width": null
          }
        },
        "06cbe86615b84402aba1d9e925e6f064": {
          "model_module": "@jupyter-widgets/controls",
          "model_name": "DescriptionStyleModel",
          "model_module_version": "1.5.0",
          "state": {
            "_model_module": "@jupyter-widgets/controls",
            "_model_module_version": "1.5.0",
            "_model_name": "DescriptionStyleModel",
            "_view_count": null,
            "_view_module": "@jupyter-widgets/base",
            "_view_module_version": "1.2.0",
            "_view_name": "StyleView",
            "description_width": ""
          }
        },
        "b7f5e71bb22f467680c79b8935d406e1": {
          "model_module": "@jupyter-widgets/controls",
          "model_name": "HBoxModel",
          "model_module_version": "1.5.0",
          "state": {
            "_dom_classes": [],
            "_model_module": "@jupyter-widgets/controls",
            "_model_module_version": "1.5.0",
            "_model_name": "HBoxModel",
            "_view_count": null,
            "_view_module": "@jupyter-widgets/controls",
            "_view_module_version": "1.5.0",
            "_view_name": "HBoxView",
            "box_style": "",
            "children": [
              "IPY_MODEL_35d1f048d2c8440fae763a764843ed3a",
              "IPY_MODEL_25a7ce90b4ce4d95a6e943da96bf0b19",
              "IPY_MODEL_581691ea793641fd89c470f97cb2ff54"
            ],
            "layout": "IPY_MODEL_aa2bf388f2d94a37b9961f3295ecfa13"
          }
        },
        "35d1f048d2c8440fae763a764843ed3a": {
          "model_module": "@jupyter-widgets/controls",
          "model_name": "HTMLModel",
          "model_module_version": "1.5.0",
          "state": {
            "_dom_classes": [],
            "_model_module": "@jupyter-widgets/controls",
            "_model_module_version": "1.5.0",
            "_model_name": "HTMLModel",
            "_view_count": null,
            "_view_module": "@jupyter-widgets/controls",
            "_view_module_version": "1.5.0",
            "_view_name": "HTMLView",
            "description": "",
            "description_tooltip": null,
            "layout": "IPY_MODEL_273334466786424bb263c10bf9dbca2c",
            "placeholder": "​",
            "style": "IPY_MODEL_e3deca46cad941a2b298555f6a95047a",
            "value": "tokenizer.json: 100%"
          }
        },
        "25a7ce90b4ce4d95a6e943da96bf0b19": {
          "model_module": "@jupyter-widgets/controls",
          "model_name": "FloatProgressModel",
          "model_module_version": "1.5.0",
          "state": {
            "_dom_classes": [],
            "_model_module": "@jupyter-widgets/controls",
            "_model_module_version": "1.5.0",
            "_model_name": "FloatProgressModel",
            "_view_count": null,
            "_view_module": "@jupyter-widgets/controls",
            "_view_module_version": "1.5.0",
            "_view_name": "ProgressView",
            "bar_style": "success",
            "description": "",
            "description_tooltip": null,
            "layout": "IPY_MODEL_488287478f1d4a0e832298a9a3baee42",
            "max": 1937869,
            "min": 0,
            "orientation": "horizontal",
            "style": "IPY_MODEL_a93b441b800147c88e9a02bbe3973970",
            "value": 1937869
          }
        },
        "581691ea793641fd89c470f97cb2ff54": {
          "model_module": "@jupyter-widgets/controls",
          "model_name": "HTMLModel",
          "model_module_version": "1.5.0",
          "state": {
            "_dom_classes": [],
            "_model_module": "@jupyter-widgets/controls",
            "_model_module_version": "1.5.0",
            "_model_name": "HTMLModel",
            "_view_count": null,
            "_view_module": "@jupyter-widgets/controls",
            "_view_module_version": "1.5.0",
            "_view_name": "HTMLView",
            "description": "",
            "description_tooltip": null,
            "layout": "IPY_MODEL_689e04cbdda14625bb4a1568db833568",
            "placeholder": "​",
            "style": "IPY_MODEL_7e0ce052aacf4167a645894d4e9266fe",
            "value": " 1.94M/1.94M [00:00&lt;00:00, 13.4MB/s]"
          }
        },
        "aa2bf388f2d94a37b9961f3295ecfa13": {
          "model_module": "@jupyter-widgets/base",
          "model_name": "LayoutModel",
          "model_module_version": "1.2.0",
          "state": {
            "_model_module": "@jupyter-widgets/base",
            "_model_module_version": "1.2.0",
            "_model_name": "LayoutModel",
            "_view_count": null,
            "_view_module": "@jupyter-widgets/base",
            "_view_module_version": "1.2.0",
            "_view_name": "LayoutView",
            "align_content": null,
            "align_items": null,
            "align_self": null,
            "border": null,
            "bottom": null,
            "display": null,
            "flex": null,
            "flex_flow": null,
            "grid_area": null,
            "grid_auto_columns": null,
            "grid_auto_flow": null,
            "grid_auto_rows": null,
            "grid_column": null,
            "grid_gap": null,
            "grid_row": null,
            "grid_template_areas": null,
            "grid_template_columns": null,
            "grid_template_rows": null,
            "height": null,
            "justify_content": null,
            "justify_items": null,
            "left": null,
            "margin": null,
            "max_height": null,
            "max_width": null,
            "min_height": null,
            "min_width": null,
            "object_fit": null,
            "object_position": null,
            "order": null,
            "overflow": null,
            "overflow_x": null,
            "overflow_y": null,
            "padding": null,
            "right": null,
            "top": null,
            "visibility": null,
            "width": null
          }
        },
        "273334466786424bb263c10bf9dbca2c": {
          "model_module": "@jupyter-widgets/base",
          "model_name": "LayoutModel",
          "model_module_version": "1.2.0",
          "state": {
            "_model_module": "@jupyter-widgets/base",
            "_model_module_version": "1.2.0",
            "_model_name": "LayoutModel",
            "_view_count": null,
            "_view_module": "@jupyter-widgets/base",
            "_view_module_version": "1.2.0",
            "_view_name": "LayoutView",
            "align_content": null,
            "align_items": null,
            "align_self": null,
            "border": null,
            "bottom": null,
            "display": null,
            "flex": null,
            "flex_flow": null,
            "grid_area": null,
            "grid_auto_columns": null,
            "grid_auto_flow": null,
            "grid_auto_rows": null,
            "grid_column": null,
            "grid_gap": null,
            "grid_row": null,
            "grid_template_areas": null,
            "grid_template_columns": null,
            "grid_template_rows": null,
            "height": null,
            "justify_content": null,
            "justify_items": null,
            "left": null,
            "margin": null,
            "max_height": null,
            "max_width": null,
            "min_height": null,
            "min_width": null,
            "object_fit": null,
            "object_position": null,
            "order": null,
            "overflow": null,
            "overflow_x": null,
            "overflow_y": null,
            "padding": null,
            "right": null,
            "top": null,
            "visibility": null,
            "width": null
          }
        },
        "e3deca46cad941a2b298555f6a95047a": {
          "model_module": "@jupyter-widgets/controls",
          "model_name": "DescriptionStyleModel",
          "model_module_version": "1.5.0",
          "state": {
            "_model_module": "@jupyter-widgets/controls",
            "_model_module_version": "1.5.0",
            "_model_name": "DescriptionStyleModel",
            "_view_count": null,
            "_view_module": "@jupyter-widgets/base",
            "_view_module_version": "1.2.0",
            "_view_name": "StyleView",
            "description_width": ""
          }
        },
        "488287478f1d4a0e832298a9a3baee42": {
          "model_module": "@jupyter-widgets/base",
          "model_name": "LayoutModel",
          "model_module_version": "1.2.0",
          "state": {
            "_model_module": "@jupyter-widgets/base",
            "_model_module_version": "1.2.0",
            "_model_name": "LayoutModel",
            "_view_count": null,
            "_view_module": "@jupyter-widgets/base",
            "_view_module_version": "1.2.0",
            "_view_name": "LayoutView",
            "align_content": null,
            "align_items": null,
            "align_self": null,
            "border": null,
            "bottom": null,
            "display": null,
            "flex": null,
            "flex_flow": null,
            "grid_area": null,
            "grid_auto_columns": null,
            "grid_auto_flow": null,
            "grid_auto_rows": null,
            "grid_column": null,
            "grid_gap": null,
            "grid_row": null,
            "grid_template_areas": null,
            "grid_template_columns": null,
            "grid_template_rows": null,
            "height": null,
            "justify_content": null,
            "justify_items": null,
            "left": null,
            "margin": null,
            "max_height": null,
            "max_width": null,
            "min_height": null,
            "min_width": null,
            "object_fit": null,
            "object_position": null,
            "order": null,
            "overflow": null,
            "overflow_x": null,
            "overflow_y": null,
            "padding": null,
            "right": null,
            "top": null,
            "visibility": null,
            "width": null
          }
        },
        "a93b441b800147c88e9a02bbe3973970": {
          "model_module": "@jupyter-widgets/controls",
          "model_name": "ProgressStyleModel",
          "model_module_version": "1.5.0",
          "state": {
            "_model_module": "@jupyter-widgets/controls",
            "_model_module_version": "1.5.0",
            "_model_name": "ProgressStyleModel",
            "_view_count": null,
            "_view_module": "@jupyter-widgets/base",
            "_view_module_version": "1.2.0",
            "_view_name": "StyleView",
            "bar_color": null,
            "description_width": ""
          }
        },
        "689e04cbdda14625bb4a1568db833568": {
          "model_module": "@jupyter-widgets/base",
          "model_name": "LayoutModel",
          "model_module_version": "1.2.0",
          "state": {
            "_model_module": "@jupyter-widgets/base",
            "_model_module_version": "1.2.0",
            "_model_name": "LayoutModel",
            "_view_count": null,
            "_view_module": "@jupyter-widgets/base",
            "_view_module_version": "1.2.0",
            "_view_name": "LayoutView",
            "align_content": null,
            "align_items": null,
            "align_self": null,
            "border": null,
            "bottom": null,
            "display": null,
            "flex": null,
            "flex_flow": null,
            "grid_area": null,
            "grid_auto_columns": null,
            "grid_auto_flow": null,
            "grid_auto_rows": null,
            "grid_column": null,
            "grid_gap": null,
            "grid_row": null,
            "grid_template_areas": null,
            "grid_template_columns": null,
            "grid_template_rows": null,
            "height": null,
            "justify_content": null,
            "justify_items": null,
            "left": null,
            "margin": null,
            "max_height": null,
            "max_width": null,
            "min_height": null,
            "min_width": null,
            "object_fit": null,
            "object_position": null,
            "order": null,
            "overflow": null,
            "overflow_x": null,
            "overflow_y": null,
            "padding": null,
            "right": null,
            "top": null,
            "visibility": null,
            "width": null
          }
        },
        "7e0ce052aacf4167a645894d4e9266fe": {
          "model_module": "@jupyter-widgets/controls",
          "model_name": "DescriptionStyleModel",
          "model_module_version": "1.5.0",
          "state": {
            "_model_module": "@jupyter-widgets/controls",
            "_model_module_version": "1.5.0",
            "_model_name": "DescriptionStyleModel",
            "_view_count": null,
            "_view_module": "@jupyter-widgets/base",
            "_view_module_version": "1.2.0",
            "_view_name": "StyleView",
            "description_width": ""
          }
        },
        "eccf7b0b80904f4191f818509cee2ac5": {
          "model_module": "@jupyter-widgets/controls",
          "model_name": "HBoxModel",
          "model_module_version": "1.5.0",
          "state": {
            "_dom_classes": [],
            "_model_module": "@jupyter-widgets/controls",
            "_model_module_version": "1.5.0",
            "_model_name": "HBoxModel",
            "_view_count": null,
            "_view_module": "@jupyter-widgets/controls",
            "_view_module_version": "1.5.0",
            "_view_name": "HBoxView",
            "box_style": "",
            "children": [
              "IPY_MODEL_a513e6d4ab814e21bba6033bd697ae52",
              "IPY_MODEL_beb899f754514d14b116edd08806a2ca",
              "IPY_MODEL_23a3198b4389456bb92d991947a4dc0a"
            ],
            "layout": "IPY_MODEL_36f715c9fd9149ba84c2bf7707f9a20c"
          }
        },
        "a513e6d4ab814e21bba6033bd697ae52": {
          "model_module": "@jupyter-widgets/controls",
          "model_name": "HTMLModel",
          "model_module_version": "1.5.0",
          "state": {
            "_dom_classes": [],
            "_model_module": "@jupyter-widgets/controls",
            "_model_module_version": "1.5.0",
            "_model_name": "HTMLModel",
            "_view_count": null,
            "_view_module": "@jupyter-widgets/controls",
            "_view_module_version": "1.5.0",
            "_view_name": "HTMLView",
            "description": "",
            "description_tooltip": null,
            "layout": "IPY_MODEL_62f538969cca48a6bc6b4777a2282e32",
            "placeholder": "​",
            "style": "IPY_MODEL_5b6cedc236434bafa0ec2dc9145fc55a",
            "value": "added_tokens.json: 100%"
          }
        },
        "beb899f754514d14b116edd08806a2ca": {
          "model_module": "@jupyter-widgets/controls",
          "model_name": "FloatProgressModel",
          "model_module_version": "1.5.0",
          "state": {
            "_dom_classes": [],
            "_model_module": "@jupyter-widgets/controls",
            "_model_module_version": "1.5.0",
            "_model_name": "FloatProgressModel",
            "_view_count": null,
            "_view_module": "@jupyter-widgets/controls",
            "_view_module_version": "1.5.0",
            "_view_name": "ProgressView",
            "bar_style": "success",
            "description": "",
            "description_tooltip": null,
            "layout": "IPY_MODEL_4f8a7a7069d44ec992714f6a7f6f3d91",
            "max": 306,
            "min": 0,
            "orientation": "horizontal",
            "style": "IPY_MODEL_6ba5cbcfd8bd4cb68b77cf91ded51bc6",
            "value": 306
          }
        },
        "23a3198b4389456bb92d991947a4dc0a": {
          "model_module": "@jupyter-widgets/controls",
          "model_name": "HTMLModel",
          "model_module_version": "1.5.0",
          "state": {
            "_dom_classes": [],
            "_model_module": "@jupyter-widgets/controls",
            "_model_module_version": "1.5.0",
            "_model_name": "HTMLModel",
            "_view_count": null,
            "_view_module": "@jupyter-widgets/controls",
            "_view_module_version": "1.5.0",
            "_view_name": "HTMLView",
            "description": "",
            "description_tooltip": null,
            "layout": "IPY_MODEL_6c2e71881de4463d97040ed8045e92ca",
            "placeholder": "​",
            "style": "IPY_MODEL_ae786b4fb0ab4848a0f0eb1651d60d76",
            "value": " 306/306 [00:00&lt;00:00, 31.1kB/s]"
          }
        },
        "36f715c9fd9149ba84c2bf7707f9a20c": {
          "model_module": "@jupyter-widgets/base",
          "model_name": "LayoutModel",
          "model_module_version": "1.2.0",
          "state": {
            "_model_module": "@jupyter-widgets/base",
            "_model_module_version": "1.2.0",
            "_model_name": "LayoutModel",
            "_view_count": null,
            "_view_module": "@jupyter-widgets/base",
            "_view_module_version": "1.2.0",
            "_view_name": "LayoutView",
            "align_content": null,
            "align_items": null,
            "align_self": null,
            "border": null,
            "bottom": null,
            "display": null,
            "flex": null,
            "flex_flow": null,
            "grid_area": null,
            "grid_auto_columns": null,
            "grid_auto_flow": null,
            "grid_auto_rows": null,
            "grid_column": null,
            "grid_gap": null,
            "grid_row": null,
            "grid_template_areas": null,
            "grid_template_columns": null,
            "grid_template_rows": null,
            "height": null,
            "justify_content": null,
            "justify_items": null,
            "left": null,
            "margin": null,
            "max_height": null,
            "max_width": null,
            "min_height": null,
            "min_width": null,
            "object_fit": null,
            "object_position": null,
            "order": null,
            "overflow": null,
            "overflow_x": null,
            "overflow_y": null,
            "padding": null,
            "right": null,
            "top": null,
            "visibility": null,
            "width": null
          }
        },
        "62f538969cca48a6bc6b4777a2282e32": {
          "model_module": "@jupyter-widgets/base",
          "model_name": "LayoutModel",
          "model_module_version": "1.2.0",
          "state": {
            "_model_module": "@jupyter-widgets/base",
            "_model_module_version": "1.2.0",
            "_model_name": "LayoutModel",
            "_view_count": null,
            "_view_module": "@jupyter-widgets/base",
            "_view_module_version": "1.2.0",
            "_view_name": "LayoutView",
            "align_content": null,
            "align_items": null,
            "align_self": null,
            "border": null,
            "bottom": null,
            "display": null,
            "flex": null,
            "flex_flow": null,
            "grid_area": null,
            "grid_auto_columns": null,
            "grid_auto_flow": null,
            "grid_auto_rows": null,
            "grid_column": null,
            "grid_gap": null,
            "grid_row": null,
            "grid_template_areas": null,
            "grid_template_columns": null,
            "grid_template_rows": null,
            "height": null,
            "justify_content": null,
            "justify_items": null,
            "left": null,
            "margin": null,
            "max_height": null,
            "max_width": null,
            "min_height": null,
            "min_width": null,
            "object_fit": null,
            "object_position": null,
            "order": null,
            "overflow": null,
            "overflow_x": null,
            "overflow_y": null,
            "padding": null,
            "right": null,
            "top": null,
            "visibility": null,
            "width": null
          }
        },
        "5b6cedc236434bafa0ec2dc9145fc55a": {
          "model_module": "@jupyter-widgets/controls",
          "model_name": "DescriptionStyleModel",
          "model_module_version": "1.5.0",
          "state": {
            "_model_module": "@jupyter-widgets/controls",
            "_model_module_version": "1.5.0",
            "_model_name": "DescriptionStyleModel",
            "_view_count": null,
            "_view_module": "@jupyter-widgets/base",
            "_view_module_version": "1.2.0",
            "_view_name": "StyleView",
            "description_width": ""
          }
        },
        "4f8a7a7069d44ec992714f6a7f6f3d91": {
          "model_module": "@jupyter-widgets/base",
          "model_name": "LayoutModel",
          "model_module_version": "1.2.0",
          "state": {
            "_model_module": "@jupyter-widgets/base",
            "_model_module_version": "1.2.0",
            "_model_name": "LayoutModel",
            "_view_count": null,
            "_view_module": "@jupyter-widgets/base",
            "_view_module_version": "1.2.0",
            "_view_name": "LayoutView",
            "align_content": null,
            "align_items": null,
            "align_self": null,
            "border": null,
            "bottom": null,
            "display": null,
            "flex": null,
            "flex_flow": null,
            "grid_area": null,
            "grid_auto_columns": null,
            "grid_auto_flow": null,
            "grid_auto_rows": null,
            "grid_column": null,
            "grid_gap": null,
            "grid_row": null,
            "grid_template_areas": null,
            "grid_template_columns": null,
            "grid_template_rows": null,
            "height": null,
            "justify_content": null,
            "justify_items": null,
            "left": null,
            "margin": null,
            "max_height": null,
            "max_width": null,
            "min_height": null,
            "min_width": null,
            "object_fit": null,
            "object_position": null,
            "order": null,
            "overflow": null,
            "overflow_x": null,
            "overflow_y": null,
            "padding": null,
            "right": null,
            "top": null,
            "visibility": null,
            "width": null
          }
        },
        "6ba5cbcfd8bd4cb68b77cf91ded51bc6": {
          "model_module": "@jupyter-widgets/controls",
          "model_name": "ProgressStyleModel",
          "model_module_version": "1.5.0",
          "state": {
            "_model_module": "@jupyter-widgets/controls",
            "_model_module_version": "1.5.0",
            "_model_name": "ProgressStyleModel",
            "_view_count": null,
            "_view_module": "@jupyter-widgets/base",
            "_view_module_version": "1.2.0",
            "_view_name": "StyleView",
            "bar_color": null,
            "description_width": ""
          }
        },
        "6c2e71881de4463d97040ed8045e92ca": {
          "model_module": "@jupyter-widgets/base",
          "model_name": "LayoutModel",
          "model_module_version": "1.2.0",
          "state": {
            "_model_module": "@jupyter-widgets/base",
            "_model_module_version": "1.2.0",
            "_model_name": "LayoutModel",
            "_view_count": null,
            "_view_module": "@jupyter-widgets/base",
            "_view_module_version": "1.2.0",
            "_view_name": "LayoutView",
            "align_content": null,
            "align_items": null,
            "align_self": null,
            "border": null,
            "bottom": null,
            "display": null,
            "flex": null,
            "flex_flow": null,
            "grid_area": null,
            "grid_auto_columns": null,
            "grid_auto_flow": null,
            "grid_auto_rows": null,
            "grid_column": null,
            "grid_gap": null,
            "grid_row": null,
            "grid_template_areas": null,
            "grid_template_columns": null,
            "grid_template_rows": null,
            "height": null,
            "justify_content": null,
            "justify_items": null,
            "left": null,
            "margin": null,
            "max_height": null,
            "max_width": null,
            "min_height": null,
            "min_width": null,
            "object_fit": null,
            "object_position": null,
            "order": null,
            "overflow": null,
            "overflow_x": null,
            "overflow_y": null,
            "padding": null,
            "right": null,
            "top": null,
            "visibility": null,
            "width": null
          }
        },
        "ae786b4fb0ab4848a0f0eb1651d60d76": {
          "model_module": "@jupyter-widgets/controls",
          "model_name": "DescriptionStyleModel",
          "model_module_version": "1.5.0",
          "state": {
            "_model_module": "@jupyter-widgets/controls",
            "_model_module_version": "1.5.0",
            "_model_name": "DescriptionStyleModel",
            "_view_count": null,
            "_view_module": "@jupyter-widgets/base",
            "_view_module_version": "1.2.0",
            "_view_name": "StyleView",
            "description_width": ""
          }
        },
        "ff26971165b740618da574be6a515fbc": {
          "model_module": "@jupyter-widgets/controls",
          "model_name": "HBoxModel",
          "model_module_version": "1.5.0",
          "state": {
            "_dom_classes": [],
            "_model_module": "@jupyter-widgets/controls",
            "_model_module_version": "1.5.0",
            "_model_name": "HBoxModel",
            "_view_count": null,
            "_view_module": "@jupyter-widgets/controls",
            "_view_module_version": "1.5.0",
            "_view_name": "HBoxView",
            "box_style": "",
            "children": [
              "IPY_MODEL_dfc4f5b313814053af99e90799a995bc",
              "IPY_MODEL_c3704ecb55ee4ec6b0da7028d571c9b7",
              "IPY_MODEL_f6ca742703664291b0776509d6f47b1e"
            ],
            "layout": "IPY_MODEL_b8e25c1326824999a1e3f3de2d0dcc71"
          }
        },
        "dfc4f5b313814053af99e90799a995bc": {
          "model_module": "@jupyter-widgets/controls",
          "model_name": "HTMLModel",
          "model_module_version": "1.5.0",
          "state": {
            "_dom_classes": [],
            "_model_module": "@jupyter-widgets/controls",
            "_model_module_version": "1.5.0",
            "_model_name": "HTMLModel",
            "_view_count": null,
            "_view_module": "@jupyter-widgets/controls",
            "_view_module_version": "1.5.0",
            "_view_name": "HTMLView",
            "description": "",
            "description_tooltip": null,
            "layout": "IPY_MODEL_ad088560cd6e4383bca38de93376c55f",
            "placeholder": "​",
            "style": "IPY_MODEL_62778ed8e36143fdbc1595e741953219",
            "value": "special_tokens_map.json: 100%"
          }
        },
        "c3704ecb55ee4ec6b0da7028d571c9b7": {
          "model_module": "@jupyter-widgets/controls",
          "model_name": "FloatProgressModel",
          "model_module_version": "1.5.0",
          "state": {
            "_dom_classes": [],
            "_model_module": "@jupyter-widgets/controls",
            "_model_module_version": "1.5.0",
            "_model_name": "FloatProgressModel",
            "_view_count": null,
            "_view_module": "@jupyter-widgets/controls",
            "_view_module_version": "1.5.0",
            "_view_name": "ProgressView",
            "bar_style": "success",
            "description": "",
            "description_tooltip": null,
            "layout": "IPY_MODEL_8b604682c47e43269a41bc598bdb09f4",
            "max": 599,
            "min": 0,
            "orientation": "horizontal",
            "style": "IPY_MODEL_767e34df6edf427aa06a5b08a8943978",
            "value": 599
          }
        },
        "f6ca742703664291b0776509d6f47b1e": {
          "model_module": "@jupyter-widgets/controls",
          "model_name": "HTMLModel",
          "model_module_version": "1.5.0",
          "state": {
            "_dom_classes": [],
            "_model_module": "@jupyter-widgets/controls",
            "_model_module_version": "1.5.0",
            "_model_name": "HTMLModel",
            "_view_count": null,
            "_view_module": "@jupyter-widgets/controls",
            "_view_module_version": "1.5.0",
            "_view_name": "HTMLView",
            "description": "",
            "description_tooltip": null,
            "layout": "IPY_MODEL_5104ffb7301842c49691423c851e3609",
            "placeholder": "​",
            "style": "IPY_MODEL_04e6e1a0ca5a4c4ea3f0886f2b7aba74",
            "value": " 599/599 [00:00&lt;00:00, 50.4kB/s]"
          }
        },
        "b8e25c1326824999a1e3f3de2d0dcc71": {
          "model_module": "@jupyter-widgets/base",
          "model_name": "LayoutModel",
          "model_module_version": "1.2.0",
          "state": {
            "_model_module": "@jupyter-widgets/base",
            "_model_module_version": "1.2.0",
            "_model_name": "LayoutModel",
            "_view_count": null,
            "_view_module": "@jupyter-widgets/base",
            "_view_module_version": "1.2.0",
            "_view_name": "LayoutView",
            "align_content": null,
            "align_items": null,
            "align_self": null,
            "border": null,
            "bottom": null,
            "display": null,
            "flex": null,
            "flex_flow": null,
            "grid_area": null,
            "grid_auto_columns": null,
            "grid_auto_flow": null,
            "grid_auto_rows": null,
            "grid_column": null,
            "grid_gap": null,
            "grid_row": null,
            "grid_template_areas": null,
            "grid_template_columns": null,
            "grid_template_rows": null,
            "height": null,
            "justify_content": null,
            "justify_items": null,
            "left": null,
            "margin": null,
            "max_height": null,
            "max_width": null,
            "min_height": null,
            "min_width": null,
            "object_fit": null,
            "object_position": null,
            "order": null,
            "overflow": null,
            "overflow_x": null,
            "overflow_y": null,
            "padding": null,
            "right": null,
            "top": null,
            "visibility": null,
            "width": null
          }
        },
        "ad088560cd6e4383bca38de93376c55f": {
          "model_module": "@jupyter-widgets/base",
          "model_name": "LayoutModel",
          "model_module_version": "1.2.0",
          "state": {
            "_model_module": "@jupyter-widgets/base",
            "_model_module_version": "1.2.0",
            "_model_name": "LayoutModel",
            "_view_count": null,
            "_view_module": "@jupyter-widgets/base",
            "_view_module_version": "1.2.0",
            "_view_name": "LayoutView",
            "align_content": null,
            "align_items": null,
            "align_self": null,
            "border": null,
            "bottom": null,
            "display": null,
            "flex": null,
            "flex_flow": null,
            "grid_area": null,
            "grid_auto_columns": null,
            "grid_auto_flow": null,
            "grid_auto_rows": null,
            "grid_column": null,
            "grid_gap": null,
            "grid_row": null,
            "grid_template_areas": null,
            "grid_template_columns": null,
            "grid_template_rows": null,
            "height": null,
            "justify_content": null,
            "justify_items": null,
            "left": null,
            "margin": null,
            "max_height": null,
            "max_width": null,
            "min_height": null,
            "min_width": null,
            "object_fit": null,
            "object_position": null,
            "order": null,
            "overflow": null,
            "overflow_x": null,
            "overflow_y": null,
            "padding": null,
            "right": null,
            "top": null,
            "visibility": null,
            "width": null
          }
        },
        "62778ed8e36143fdbc1595e741953219": {
          "model_module": "@jupyter-widgets/controls",
          "model_name": "DescriptionStyleModel",
          "model_module_version": "1.5.0",
          "state": {
            "_model_module": "@jupyter-widgets/controls",
            "_model_module_version": "1.5.0",
            "_model_name": "DescriptionStyleModel",
            "_view_count": null,
            "_view_module": "@jupyter-widgets/base",
            "_view_module_version": "1.2.0",
            "_view_name": "StyleView",
            "description_width": ""
          }
        },
        "8b604682c47e43269a41bc598bdb09f4": {
          "model_module": "@jupyter-widgets/base",
          "model_name": "LayoutModel",
          "model_module_version": "1.2.0",
          "state": {
            "_model_module": "@jupyter-widgets/base",
            "_model_module_version": "1.2.0",
            "_model_name": "LayoutModel",
            "_view_count": null,
            "_view_module": "@jupyter-widgets/base",
            "_view_module_version": "1.2.0",
            "_view_name": "LayoutView",
            "align_content": null,
            "align_items": null,
            "align_self": null,
            "border": null,
            "bottom": null,
            "display": null,
            "flex": null,
            "flex_flow": null,
            "grid_area": null,
            "grid_auto_columns": null,
            "grid_auto_flow": null,
            "grid_auto_rows": null,
            "grid_column": null,
            "grid_gap": null,
            "grid_row": null,
            "grid_template_areas": null,
            "grid_template_columns": null,
            "grid_template_rows": null,
            "height": null,
            "justify_content": null,
            "justify_items": null,
            "left": null,
            "margin": null,
            "max_height": null,
            "max_width": null,
            "min_height": null,
            "min_width": null,
            "object_fit": null,
            "object_position": null,
            "order": null,
            "overflow": null,
            "overflow_x": null,
            "overflow_y": null,
            "padding": null,
            "right": null,
            "top": null,
            "visibility": null,
            "width": null
          }
        },
        "767e34df6edf427aa06a5b08a8943978": {
          "model_module": "@jupyter-widgets/controls",
          "model_name": "ProgressStyleModel",
          "model_module_version": "1.5.0",
          "state": {
            "_model_module": "@jupyter-widgets/controls",
            "_model_module_version": "1.5.0",
            "_model_name": "ProgressStyleModel",
            "_view_count": null,
            "_view_module": "@jupyter-widgets/base",
            "_view_module_version": "1.2.0",
            "_view_name": "StyleView",
            "bar_color": null,
            "description_width": ""
          }
        },
        "5104ffb7301842c49691423c851e3609": {
          "model_module": "@jupyter-widgets/base",
          "model_name": "LayoutModel",
          "model_module_version": "1.2.0",
          "state": {
            "_model_module": "@jupyter-widgets/base",
            "_model_module_version": "1.2.0",
            "_model_name": "LayoutModel",
            "_view_count": null,
            "_view_module": "@jupyter-widgets/base",
            "_view_module_version": "1.2.0",
            "_view_name": "LayoutView",
            "align_content": null,
            "align_items": null,
            "align_self": null,
            "border": null,
            "bottom": null,
            "display": null,
            "flex": null,
            "flex_flow": null,
            "grid_area": null,
            "grid_auto_columns": null,
            "grid_auto_flow": null,
            "grid_auto_rows": null,
            "grid_column": null,
            "grid_gap": null,
            "grid_row": null,
            "grid_template_areas": null,
            "grid_template_columns": null,
            "grid_template_rows": null,
            "height": null,
            "justify_content": null,
            "justify_items": null,
            "left": null,
            "margin": null,
            "max_height": null,
            "max_width": null,
            "min_height": null,
            "min_width": null,
            "object_fit": null,
            "object_position": null,
            "order": null,
            "overflow": null,
            "overflow_x": null,
            "overflow_y": null,
            "padding": null,
            "right": null,
            "top": null,
            "visibility": null,
            "width": null
          }
        },
        "04e6e1a0ca5a4c4ea3f0886f2b7aba74": {
          "model_module": "@jupyter-widgets/controls",
          "model_name": "DescriptionStyleModel",
          "model_module_version": "1.5.0",
          "state": {
            "_model_module": "@jupyter-widgets/controls",
            "_model_module_version": "1.5.0",
            "_model_name": "DescriptionStyleModel",
            "_view_count": null,
            "_view_module": "@jupyter-widgets/base",
            "_view_module_version": "1.2.0",
            "_view_name": "StyleView",
            "description_width": ""
          }
        }
      }
    }
  },
  "cells": [
    {
      "cell_type": "markdown",
      "metadata": {
        "id": "view-in-github",
        "colab_type": "text"
      },
      "source": [
        "<a href=\"https://colab.research.google.com/github/diegoeller/LLM---Marketing/blob/main/LLMs_para_empresas_e_neg%C3%B3cios_Marketing.ipynb\" target=\"_parent\"><img src=\"https://colab.research.google.com/assets/colab-badge.svg\" alt=\"Open In Colab\"/></a>"
      ]
    },
    {
      "cell_type": "markdown",
      "source": [
        "# Projeto para Departamento de Marketing\n",
        "\n",
        "Nosso objetivo com esse projeto é criar um assistente de geração de conteúdo automatizado, que adapta o texto ao público e ao canal de divulgação. Confira os slides para mais detalhes sobre a proposta desse estudo de caso.\n",
        "\n",
        "\n",
        "> **Importante:** Caso dê algum erro no processo de instalação e que impeça de prosseguir com a execução do código, confira o Colab da aula e verifique se fez uma cópia do mais atualizado, pois atualizaremos essas etapas de instalação com os comandos atualizados (caso seja necessária alguma mudança no comando de instalação).\n",
        "\n",
        "Vamos usar primeiro o ipynb no Colab para desenvolver e validar a lógica com LLMs, onde aprenderemos a deixar uma aplicação funcional dentro do próprio Colab usando ipywidgets. Ao final, veremos como adaptar isso para uma interface profissional usando o framework Streamlit, pronto para publicar. Isso evita retrabalho, ajuda a testar ideias com rapidez e foca primeiro no que importa: o núcleo funcional, a lógica e conceitos.\n",
        "\n"
      ],
      "metadata": {
        "id": "EasSpF1MeP9y"
      }
    },
    {
      "cell_type": "markdown",
      "source": [
        "## Instalação das bibliotecas\n",
        "\n",
        "Abaixo instalaremos algumas bibliotecas essenciais para o desenvolvimento de nosso projeto.\n",
        "\n",
        "Para instalação usaremos o comando pip install. Passaremos o parâmetro -q (quiet) para reduzir a verbosidade da saída no terminal, exibindo apenas erros e mensagens essenciais. É usado para simplificar a visualização durante instalações automatizadas ou em ambientes onde logs detalhados não são necessários.\n",
        "\n"
      ],
      "metadata": {
        "id": "jHosOe1ZRuQl"
      }
    },
    {
      "cell_type": "code",
      "source": [
        "!pip install -q langchain langchain-community langchain-groq ipywidgets"
      ],
      "metadata": {
        "colab": {
          "base_uri": "https://localhost:8080/"
        },
        "id": "lsbPf_jusAEn",
        "outputId": "4f15038b-77af-4a00-c2d8-ce016aac2a0c"
      },
      "execution_count": null,
      "outputs": [
        {
          "output_type": "stream",
          "name": "stdout",
          "text": [
            "\u001b[?25l   \u001b[90m━━━━━━━━━━━━━━━━━━━━━━━━━━━━━━━━━━━━━━━━\u001b[0m \u001b[32m0.0/2.5 MB\u001b[0m \u001b[31m?\u001b[0m eta \u001b[36m-:--:--\u001b[0m\r\u001b[2K   \u001b[91m━━━━━━━━━━━━━━━━\u001b[0m\u001b[90m╺\u001b[0m\u001b[90m━━━━━━━━━━━━━━━━━━━━━━━\u001b[0m \u001b[32m1.0/2.5 MB\u001b[0m \u001b[31m30.6 MB/s\u001b[0m eta \u001b[36m0:00:01\u001b[0m\r\u001b[2K   \u001b[90m━━━━━━━━━━━━━━━━━━━━━━━━━━━━━━━━━━━━━━━━\u001b[0m \u001b[32m2.5/2.5 MB\u001b[0m \u001b[31m41.3 MB/s\u001b[0m eta \u001b[36m0:00:00\u001b[0m\n",
            "\u001b[2K   \u001b[90m━━━━━━━━━━━━━━━━━━━━━━━━━━━━━━━━━━━━━━━━\u001b[0m \u001b[32m131.4/131.4 kB\u001b[0m \u001b[31m12.0 MB/s\u001b[0m eta \u001b[36m0:00:00\u001b[0m\n",
            "\u001b[2K   \u001b[90m━━━━━━━━━━━━━━━━━━━━━━━━━━━━━━━━━━━━━━━━\u001b[0m \u001b[32m45.2/45.2 kB\u001b[0m \u001b[31m4.2 MB/s\u001b[0m eta \u001b[36m0:00:00\u001b[0m\n",
            "\u001b[2K   \u001b[90m━━━━━━━━━━━━━━━━━━━━━━━━━━━━━━━━━━━━━━━━\u001b[0m \u001b[32m1.6/1.6 MB\u001b[0m \u001b[31m82.4 MB/s\u001b[0m eta \u001b[36m0:00:00\u001b[0m\n",
            "\u001b[2K   \u001b[90m━━━━━━━━━━━━━━━━━━━━━━━━━━━━━━━━━━━━━━━━\u001b[0m \u001b[32m50.9/50.9 kB\u001b[0m \u001b[31m4.6 MB/s\u001b[0m eta \u001b[36m0:00:00\u001b[0m\n",
            "\u001b[?25h"
          ]
        }
      ]
    },
    {
      "cell_type": "markdown",
      "source": [
        "### Importar bibliotecas  \n"
      ],
      "metadata": {
        "id": "2Za79_C2GYe9"
      }
    },
    {
      "cell_type": "code",
      "source": [
        "from google.colab import widgets\n",
        "import ipywidgets as widgets\n",
        "\n",
        "from langchain_groq import ChatGroq\n",
        "import os\n",
        "import getpass"
      ],
      "metadata": {
        "id": "jcQ92GsQthem"
      },
      "execution_count": null,
      "outputs": []
    },
    {
      "cell_type": "markdown",
      "source": [
        "# Criação dos campos - Interface\n",
        "\n",
        "Antes de partirmos para o código, é importante definirmos com clareza os campos que a aplicação irá utilizar. Essa etapa é essencial para evitar dispersão e garantir que o desenvolvimento seja focado nas necessidades reais da empresa.\n",
        "\n",
        "> Campos *(conforme discutido na apresentação do estudo de caso)*\n",
        " * Plataforma de destino (ex: Blog, Instagram, LinkedIn, E-mail)\n",
        " * Tom da mensagem (ex: Informativo, Inspirador, Urgente, Informal)\n",
        " * Comprimento do texto (ex: Curto, Médio, Longo)\n",
        " * Tema ou tópico (ex: alimentação, saúde mental, exames de rotina, cuidados, etc.)\n",
        " * Público-alvo (Jovens adultos, Famílias, Idosos, Geral, etc.)\n",
        " * Opções adicionais:\n",
        "  * Incluir chamada para ação (ex: “Agendar consulta” ou “Converse com um especialista”)\n",
        "  * Retornar hashtags\n",
        "  * Inserir palavras-chave para incluir no meio do texto\n",
        "\n",
        "\n",
        "Vamos começar criando um campo em formato de texto. O `widgets.Text` cria um campo livre para digitação, onde o usuário insere o conteúdo manualmente.\n",
        "\n",
        "* `description`: texto que aparece como rótulo do campo (ajuda a identificar sua função).\n",
        "* `placeholder`: texto que aparece dentro do campo antes do preenchimento, como sugestão ou exemplo. Vamos aproveitar para colocar uma sugestão já do que o usuário pode digitar, o que é uma boa prática de user experience (UX)\n",
        "\n",
        "Obs: Pensando nas boas práticas, também vamos aproveitar para definir os nomes das variáveis em inglês (tema vai ser *topic*, público-alvo vai ser *audience*, etc.)\n",
        "\n"
      ],
      "metadata": {
        "id": "VT-DAEK-uU0b"
      }
    },
    {
      "cell_type": "code",
      "source": [
        "topic = widgets.Text(\n",
        "    description = 'Tema:',\n",
        "    placeholder = 'Ex: saúde mental, alimentação saudável, prevenção, etc.'\n",
        ")"
      ],
      "metadata": {
        "id": "5JY-IhmQvdSG"
      },
      "execution_count": null,
      "outputs": []
    },
    {
      "cell_type": "markdown",
      "source": [
        "### Exibindo o widget\n",
        "\n",
        "Para exibir os campos/widgets que criamos vamos usar o método display(). Com isso o campo vai aparecer dentro da saída do bloco de código abaixo, assim exibindo tudo de forma interativa dentro desse notebook."
      ],
      "metadata": {
        "id": "LdAL78Pf6kMb"
      }
    },
    {
      "cell_type": "code",
      "source": [
        "display(topic)"
      ],
      "metadata": {
        "colab": {
          "base_uri": "https://localhost:8080/",
          "height": 49,
          "referenced_widgets": [
            "b82908996c1745b088225fb821ce03b1",
            "87f9ca1131af49f09e3910731ed64e84",
            "20357e9abff44918bdf26cffe356dde5"
          ]
        },
        "id": "HGbVHL6IvuGp",
        "outputId": "532e277d-eea7-4062-cd9a-5a0153e164d5"
      },
      "execution_count": null,
      "outputs": [
        {
          "output_type": "display_data",
          "data": {
            "text/plain": [
              "Text(value='', description='Tema:', placeholder='Ex: saúde mental, alimentação saudável, prevenção, etc.')"
            ],
            "application/vnd.jupyter.widget-view+json": {
              "version_major": 2,
              "version_minor": 0,
              "model_id": "b82908996c1745b088225fb821ce03b1"
            }
          },
          "metadata": {}
        }
      ]
    },
    {
      "cell_type": "code",
      "source": [
        "topic.value"
      ],
      "metadata": {
        "colab": {
          "base_uri": "https://localhost:8080/",
          "height": 35
        },
        "id": "XyGoOfkov3lo",
        "outputId": "36d53fca-6a75-4d66-91e2-9cb9e3094ea3"
      },
      "execution_count": null,
      "outputs": [
        {
          "output_type": "execute_result",
          "data": {
            "text/plain": [
              "''"
            ],
            "application/vnd.google.colaboratory.intrinsic+json": {
              "type": "string"
            }
          },
          "metadata": {},
          "execution_count": 5
        }
      ]
    },
    {
      "cell_type": "markdown",
      "source": [
        "### Ajustando propriedades do campo\n",
        "\n",
        "Por padrão, o widget Text do ipywidgets cria um campo de entrada relativamente estreito, o que pode não ser ideal quando esperamos que o usuário digite frases ou trechos mais longos.\n",
        "\n",
        "Com `layout=widgets.Layout(width='500px')` definimos explicitamente a largura do campo como 500 pixels, o que é mais apropriado quando esperamos frases completas.\n",
        "\n",
        "* Você pode ajustar esse valor conforme a necessidade - ex: '100%' para ocupar toda a largura do container (deixando responsivo), ou '700px' para um campo ainda maior.\n"
      ],
      "metadata": {
        "id": "p3-f1FUAhF3i"
      }
    },
    {
      "cell_type": "code",
      "source": [
        "topic = widgets.Text(\n",
        "    description = 'Tema:',\n",
        "    placeholder = 'Ex: saúde mental, alimentação saudável, prevenção, etc.',\n",
        "    layout = widgets.Layout(width='500px')\n",
        ")\n",
        "display(topic)"
      ],
      "metadata": {
        "colab": {
          "base_uri": "https://localhost:8080/",
          "height": 49,
          "referenced_widgets": [
            "e5281950e3ef44bfb2b052eca49efa2a",
            "30945f297b954cc194109719aab67933",
            "a041035316bf4aef8a899591a72d38dc"
          ]
        },
        "id": "RsS7PXiYwDxO",
        "outputId": "433c2839-2fb3-475b-bce1-ccc894e8e3c6"
      },
      "execution_count": null,
      "outputs": [
        {
          "output_type": "display_data",
          "data": {
            "text/plain": [
              "Text(value='', description='Tema:', layout=Layout(width='500px'), placeholder='Ex: saúde mental, alimentação s…"
            ],
            "application/vnd.jupyter.widget-view+json": {
              "version_major": 2,
              "version_minor": 0,
              "model_id": "e5281950e3ef44bfb2b052eca49efa2a"
            }
          },
          "metadata": {}
        }
      ]
    },
    {
      "cell_type": "markdown",
      "source": [
        "### Outros formatos de campos\n",
        "\n",
        "Para adicionar campos de seleção práticos e dinâmicos à nossa aplicação, utilizaremos a função widgets.Dropdown, que exibe opções em formato de lista suspensa. Passaremos as escolhas disponíveis através do parâmetro options e, para otimizar a interface e facilitar futuras alterações, definiremos uma largura padrão para esses campos usando uma variável, permitindo ajustes globais de tamanho de forma simples, o que pode ser muito útil caso os valores pré-definidos sejam extensos.\n"
      ],
      "metadata": {
        "id": "cW9MreKJwij2"
      }
    },
    {
      "cell_type": "code",
      "source": [
        "w_dropdown = '250px'\n",
        "\n",
        "platform = widgets.Dropdown(\n",
        "    options = ['Instagram', 'Facebook', 'LinkedIn', 'Blog', 'E-mail'],\n",
        "    description = 'Plataforma',\n",
        "    layout = widgets.Layout(width = w_dropdown)\n",
        ")\n",
        "\n",
        "tone = widgets.Dropdown(\n",
        "    options=['Normal', 'Informativo', 'Inspirador', 'Urgente', 'Informal'],\n",
        "    description='Tom:',\n",
        "    layout=widgets.Layout(width=w_dropdown)\n",
        ")\n",
        "\n",
        "length = widgets.Dropdown(\n",
        "    options=['Curto', 'Médio', 'Longo'],\n",
        "    description='Tamanho:',\n",
        "    layout=widgets.Layout(width=w_dropdown)\n",
        ")\n",
        "\n",
        "audience = widgets.Dropdown(\n",
        "    options=['Geral', 'Jovens adultos', 'Famílias', 'Idosos', 'Adolescentes'],\n",
        "    description='Público-alvo:',\n",
        "    layout=widgets.Layout(width=w_dropdown)\n",
        ")\n",
        "\n",
        "\n",
        "display(platform, tone, length, audience)"
      ],
      "metadata": {
        "colab": {
          "base_uri": "https://localhost:8080/",
          "height": 139,
          "referenced_widgets": [
            "f7aaddce82f04242adeff28aae5f2b88",
            "5c164db1d5614f91ab891afef725749d",
            "658612f1638d42228fa6becb713f1c45",
            "03da9484d33d40669a48b9b57f9f6339",
            "3851e16b5d514ef48697ab91c2542b53",
            "4aa9e15b38a14836b87471157d8d6694",
            "35c822efc83f428bab147d7b361adee4",
            "7fbcd3b2ecd047eb8572a1c1d5a2a752",
            "972e640f708b478a893f0526aeb9ff21",
            "24e9895441c44510b423c662c3adb5f4",
            "2ff84728d30244ffa07f61cb98c6522e",
            "28d7a1ea376d4146a189dd711aff9f95"
          ]
        },
        "id": "svF7IUPWwz7I",
        "outputId": "5beef133-6895-408c-9b7e-408198f7ec28"
      },
      "execution_count": null,
      "outputs": [
        {
          "output_type": "display_data",
          "data": {
            "text/plain": [
              "Dropdown(description='Plataforma', layout=Layout(width='250px'), options=('Instagram', 'Facebook', 'LinkedIn',…"
            ],
            "application/vnd.jupyter.widget-view+json": {
              "version_major": 2,
              "version_minor": 0,
              "model_id": "f7aaddce82f04242adeff28aae5f2b88"
            }
          },
          "metadata": {}
        },
        {
          "output_type": "display_data",
          "data": {
            "text/plain": [
              "Dropdown(description='Tom:', layout=Layout(width='250px'), options=('Normal', 'Informativo', 'Inspirador', 'Ur…"
            ],
            "application/vnd.jupyter.widget-view+json": {
              "version_major": 2,
              "version_minor": 0,
              "model_id": "03da9484d33d40669a48b9b57f9f6339"
            }
          },
          "metadata": {}
        },
        {
          "output_type": "display_data",
          "data": {
            "text/plain": [
              "Dropdown(description='Tamanho:', layout=Layout(width='250px'), options=('Curto', 'Médio', 'Longo'), value='Cur…"
            ],
            "application/vnd.jupyter.widget-view+json": {
              "version_major": 2,
              "version_minor": 0,
              "model_id": "35c822efc83f428bab147d7b361adee4"
            }
          },
          "metadata": {}
        },
        {
          "output_type": "display_data",
          "data": {
            "text/plain": [
              "Dropdown(description='Público-alvo:', layout=Layout(width='250px'), options=('Geral', 'Jovens adultos', 'Famíl…"
            ],
            "application/vnd.jupyter.widget-view+json": {
              "version_major": 2,
              "version_minor": 0,
              "model_id": "24e9895441c44510b423c662c3adb5f4"
            }
          },
          "metadata": {}
        }
      ]
    },
    {
      "cell_type": "code",
      "source": [
        "platform.value"
      ],
      "metadata": {
        "colab": {
          "base_uri": "https://localhost:8080/",
          "height": 35
        },
        "id": "hxfLLzB-xV1t",
        "outputId": "f47c57da-a665-45e9-f816-ea6a6e3c8bc7"
      },
      "execution_count": null,
      "outputs": [
        {
          "output_type": "execute_result",
          "data": {
            "text/plain": [
              "'Instagram'"
            ],
            "application/vnd.google.colaboratory.intrinsic+json": {
              "type": "string"
            }
          },
          "metadata": {},
          "execution_count": 8
        }
      ]
    },
    {
      "cell_type": "markdown",
      "source": [
        "Para incorporar opções de ativar/desativar funcionalidades, como incluir uma Chamada para Ação (CTA) ou solicitar sugestões de hashtags, utilizaremos widgets.Checkbox.\n",
        "\n",
        "Estes campos booleanos (Verdadeiro/Falso) serão configurados com um valor inicial (por padrão, desmarcado) e uma descrição clara de sua função, permitindo ao usuário controlar facilmente aspectos específicos da geração de conteúdo."
      ],
      "metadata": {
        "id": "SFVCCtjj0Fkt"
      }
    },
    {
      "cell_type": "code",
      "source": [
        "cta = widgets.Checkbox(\n",
        "    value = False,\n",
        "    description = 'Incluir CTA'\n",
        ")\n",
        "\n",
        "hashtags = widgets.Checkbox(\n",
        "    value=False,\n",
        "    description='Retornar Hashtags',\n",
        ")"
      ],
      "metadata": {
        "id": "iLaJShGnxwEi"
      },
      "execution_count": null,
      "outputs": []
    },
    {
      "cell_type": "code",
      "source": [
        "display(cta)"
      ],
      "metadata": {
        "colab": {
          "base_uri": "https://localhost:8080/",
          "height": 49,
          "referenced_widgets": [
            "434d2a35af6446bfad4cf3767619a0bc",
            "17aafbc1e07c49efb4937c6e62410a06",
            "a09e5d5ee6774abf801a165f01db1fa4"
          ]
        },
        "id": "EiuCgkZJyCzD",
        "outputId": "46eee5c0-0898-4676-8720-7baa598b0b91"
      },
      "execution_count": null,
      "outputs": [
        {
          "output_type": "display_data",
          "data": {
            "text/plain": [
              "Checkbox(value=False, description='Incluir CTA')"
            ],
            "application/vnd.jupyter.widget-view+json": {
              "version_major": 2,
              "version_minor": 0,
              "model_id": "434d2a35af6446bfad4cf3767619a0bc"
            }
          },
          "metadata": {}
        }
      ]
    },
    {
      "cell_type": "code",
      "source": [
        "cta.value"
      ],
      "metadata": {
        "colab": {
          "base_uri": "https://localhost:8080/"
        },
        "id": "kzMGcUDdyFXS",
        "outputId": "b1742e2e-c05c-4735-e626-eee5685906f9"
      },
      "execution_count": null,
      "outputs": [
        {
          "output_type": "execute_result",
          "data": {
            "text/plain": [
              "False"
            ]
          },
          "metadata": {},
          "execution_count": 11
        }
      ]
    },
    {
      "cell_type": "markdown",
      "source": [
        "Para permitir a inserção de textos mais longos, como listas de palavras-chave para SEO, implementaremos um campo do tipo Textarea. Este campo opcional dará ao usuário a flexibilidade de especificar termos que a IA deve incorporar naturalmente ao conteúdo, e seu tamanho pode ser ajustado em largura e altura para melhor acomodar o texto inserido, utilizando `widgets.Layout` para definir dimensões como height."
      ],
      "metadata": {
        "id": "omWsiNQJ0SRU"
      }
    },
    {
      "cell_type": "code",
      "source": [
        "keywords = widgets.Textarea(\n",
        "    description = 'Palavras-chave (SEO)',\n",
        "    placeholder = 'Ex: bem-estar, medicina preventiva...',\n",
        "    layout = widgets.Layout(width = '500px', height = '50px')\n",
        ")"
      ],
      "metadata": {
        "id": "_lYqrlA-yOuE"
      },
      "execution_count": null,
      "outputs": []
    },
    {
      "cell_type": "code",
      "source": [
        "display(keywords)"
      ],
      "metadata": {
        "colab": {
          "base_uri": "https://localhost:8080/",
          "height": 71,
          "referenced_widgets": [
            "72a3eeecca9b4302994493ebe3356fe1",
            "c4a4f764309346a2b6e38e370603dd9d",
            "550689b8af4f4c4bad9c993ea4b77f08"
          ]
        },
        "id": "91bhwGlFyhuj",
        "outputId": "dcc9c064-d7bd-4d47-9f6c-aa7df44b6318"
      },
      "execution_count": null,
      "outputs": [
        {
          "output_type": "display_data",
          "data": {
            "text/plain": [
              "Textarea(value='', description='Palavras-chave (SEO)', layout=Layout(height='50px', width='500px'), placeholde…"
            ],
            "application/vnd.jupyter.widget-view+json": {
              "version_major": 2,
              "version_minor": 0,
              "model_id": "72a3eeecca9b4302994493ebe3356fe1"
            }
          },
          "metadata": {}
        }
      ]
    },
    {
      "cell_type": "markdown",
      "source": [
        "## Criando o botão de geração\n",
        "\n",
        "Vamos agora adicionar um botão à interface. Esse botão será clicado para gerar o conteúdo com base nos campos preenchidos. O parâmetro description aqui é o texto que aparece no botão.\n"
      ],
      "metadata": {
        "id": "zn6dq0zh0Qav"
      }
    },
    {
      "cell_type": "code",
      "source": [
        "generate_button = widgets.Button(\n",
        "    description = 'Gerar conteúdo',\n",
        ")\n",
        "\n",
        "display(generate_button)"
      ],
      "metadata": {
        "colab": {
          "base_uri": "https://localhost:8080/",
          "height": 49,
          "referenced_widgets": [
            "87dddf3a5c8b4f43aaac0845264a3e69",
            "2f71e9a065164d72bc2a2fbaf8f4afb2",
            "2d28f3d14ad34beba91993ff9ac74ef5"
          ]
        },
        "id": "KrUDyyyD0BUZ",
        "outputId": "fe7555ee-194b-41ba-8b42-672cc98c60fc"
      },
      "execution_count": null,
      "outputs": [
        {
          "output_type": "display_data",
          "data": {
            "text/plain": [
              "Button(description='Gerar conteúdo', style=ButtonStyle())"
            ],
            "application/vnd.jupyter.widget-view+json": {
              "version_major": 2,
              "version_minor": 0,
              "model_id": "87dddf3a5c8b4f43aaac0845264a3e69"
            }
          },
          "metadata": {}
        }
      ]
    },
    {
      "cell_type": "markdown",
      "source": [
        "## Exibição do resultado\n",
        "\n",
        "Precisamos criar um espaço para exibir o output, que é o resultado gerado pela LLM.\n",
        "\n",
        "Usamos o Output() para mostrar o resultado da geração de conteúdo. Ele cria uma “área de resposta”, onde vamos exibir o conteúdo gerado. Tudo que for mostrado com display() ou print() dentro dele aparecerá aqui.\n"
      ],
      "metadata": {
        "id": "TOXdzu9M4WWB"
      }
    },
    {
      "cell_type": "code",
      "source": [
        "output = widgets.Output()"
      ],
      "metadata": {
        "id": "Jlo0z66A0Tkl"
      },
      "execution_count": null,
      "outputs": []
    },
    {
      "cell_type": "markdown",
      "source": [
        "### Definindo ação do botão\n",
        "\n",
        "Por enquanto o botão não faz nada, precisamos criar uma função que será executada quando ele for clicado.\n",
        "\n",
        "Explicando os parâmetros:\n",
        "\n",
        "* `b` é o próprio botão sendo passado como argumento (padrão do on_click).\n",
        "\n",
        "* `with output`: garante que tudo dentro desse bloco apareça na área de saída.\n",
        "\n",
        "* `clear_output()` limpa o resultado anterior, evitando sobreposição de textos.\n"
      ],
      "metadata": {
        "id": "2kqyeSdw0bK4"
      }
    },
    {
      "cell_type": "code",
      "source": [
        "def generate_result(b):\n",
        "  with output:\n",
        "    output.clear_output()\n",
        "    print(\"Ok!\")"
      ],
      "metadata": {
        "id": "aE2kWaqZ0eAH"
      },
      "execution_count": null,
      "outputs": []
    },
    {
      "cell_type": "markdown",
      "source": [
        "**Ligando o botão à função**\n",
        "\n",
        "`.on_click()` define que nossa função será executada quando o botão for pressionado"
      ],
      "metadata": {
        "id": "mG23q18p0iCa"
      }
    },
    {
      "cell_type": "code",
      "source": [
        "generate_button.on_click(generate_result)"
      ],
      "metadata": {
        "id": "aE5-H4DV0u1j"
      },
      "execution_count": null,
      "outputs": []
    },
    {
      "cell_type": "markdown",
      "source": [
        "**Testando**\n",
        "\n",
        "Execute o bloco de código abaixo e clique no botão para verificar se nosso método está funcionando."
      ],
      "metadata": {
        "id": "tzlgFHpG0i6m"
      }
    },
    {
      "cell_type": "code",
      "source": [
        "display(generate_button, output)"
      ],
      "metadata": {
        "colab": {
          "base_uri": "https://localhost:8080/",
          "height": 49,
          "referenced_widgets": [
            "87dddf3a5c8b4f43aaac0845264a3e69",
            "2f71e9a065164d72bc2a2fbaf8f4afb2",
            "2d28f3d14ad34beba91993ff9ac74ef5",
            "62d273e323484f3b996757b4e8d9695a",
            "ca33ef5640a64ae2bd79dcb8159dcf08"
          ]
        },
        "id": "m_Uvwg_A00TB",
        "outputId": "8c20d1c4-7915-4d1b-bdb0-8d75dfbf0e78"
      },
      "execution_count": null,
      "outputs": [
        {
          "output_type": "display_data",
          "data": {
            "text/plain": [
              "Button(description='Gerar conteúdo', style=ButtonStyle())"
            ],
            "application/vnd.jupyter.widget-view+json": {
              "version_major": 2,
              "version_minor": 0,
              "model_id": "87dddf3a5c8b4f43aaac0845264a3e69"
            }
          },
          "metadata": {}
        },
        {
          "output_type": "display_data",
          "data": {
            "text/plain": [
              "Output()"
            ],
            "application/vnd.jupyter.widget-view+json": {
              "version_major": 2,
              "version_minor": 0,
              "model_id": "62d273e323484f3b996757b4e8d9695a"
            }
          },
          "metadata": {}
        }
      ]
    },
    {
      "cell_type": "markdown",
      "source": [
        "## Exibindo os campos juntos na interface\n",
        "\n",
        "Por fim, precisamos organizar os campos e exibi-los num layout final junto ao botão.\n",
        "Antes de chamarmos a função display (para exibir tudo de forma interativa dentro desse notebook) vamos usar a função `VBox()`, para organizar os elementos na vertical, na ordem em que forem listados.\n",
        "\n",
        "E para evitar a repetição, coloque dentro de uma função chamada \"create_form\", que retorne esse VBox com os widgets. Assim seu código fica mais limpo e reutilizável, pois usaremos mais tarde esses campos novamente"
      ],
      "metadata": {
        "id": "x-XJQjMS2iJx"
      }
    },
    {
      "cell_type": "code",
      "source": [
        "def create_form():\n",
        "  return widgets.VBox([\n",
        "      topic,\n",
        "      platform,\n",
        "      tone,\n",
        "      length,\n",
        "      audience,\n",
        "      cta,\n",
        "      hashtags,\n",
        "      keywords,\n",
        "      generate_button,\n",
        "      output\n",
        "  ])\n",
        "\n",
        "form = create_form()\n",
        "\n",
        "display(form)"
      ],
      "metadata": {
        "colab": {
          "base_uri": "https://localhost:8080/",
          "height": 327,
          "referenced_widgets": [
            "c384f46bdcc74b96866873484d274584",
            "e5281950e3ef44bfb2b052eca49efa2a",
            "f7aaddce82f04242adeff28aae5f2b88",
            "03da9484d33d40669a48b9b57f9f6339",
            "35c822efc83f428bab147d7b361adee4",
            "24e9895441c44510b423c662c3adb5f4",
            "434d2a35af6446bfad4cf3767619a0bc",
            "c78c8f498dd84df1a87aaf2696e0c0d9",
            "72a3eeecca9b4302994493ebe3356fe1",
            "87dddf3a5c8b4f43aaac0845264a3e69",
            "62d273e323484f3b996757b4e8d9695a",
            "3294487e89fd484b8f53dd12c2ab9b78",
            "30945f297b954cc194109719aab67933",
            "a041035316bf4aef8a899591a72d38dc",
            "5c164db1d5614f91ab891afef725749d",
            "658612f1638d42228fa6becb713f1c45",
            "3851e16b5d514ef48697ab91c2542b53",
            "4aa9e15b38a14836b87471157d8d6694",
            "7fbcd3b2ecd047eb8572a1c1d5a2a752",
            "972e640f708b478a893f0526aeb9ff21",
            "2ff84728d30244ffa07f61cb98c6522e",
            "28d7a1ea376d4146a189dd711aff9f95",
            "17aafbc1e07c49efb4937c6e62410a06",
            "a09e5d5ee6774abf801a165f01db1fa4",
            "dec957a1eb6048d4aecfe3e4ab9f5d05",
            "fc7792dd0a304a72be813994ec909df1",
            "c4a4f764309346a2b6e38e370603dd9d",
            "550689b8af4f4c4bad9c993ea4b77f08",
            "2f71e9a065164d72bc2a2fbaf8f4afb2",
            "2d28f3d14ad34beba91993ff9ac74ef5",
            "ca33ef5640a64ae2bd79dcb8159dcf08"
          ]
        },
        "id": "rOBnn2rM1FIu",
        "outputId": "344493ca-f23a-4b0a-f5d9-40fac63b7753"
      },
      "execution_count": null,
      "outputs": [
        {
          "output_type": "display_data",
          "data": {
            "text/plain": [
              "VBox(children=(Text(value='', description='Tema:', layout=Layout(width='500px'), placeholder='Ex: saúde mental…"
            ],
            "application/vnd.jupyter.widget-view+json": {
              "version_major": 2,
              "version_minor": 0,
              "model_id": "c384f46bdcc74b96866873484d274584"
            }
          },
          "metadata": {}
        }
      ]
    },
    {
      "cell_type": "markdown",
      "source": [
        "# Conectando com a LLM\n",
        "\n",
        "Para integrar a LLM à nossa aplicação, precisamos definir o modelo e a forma de implementação, que pode ser via download (para modelos open source, garantindo execução local e privacidade) ou através de API (simplificando a integração, oferecendo boa performance em qualquer máquina, mas com processamento de dados em servidores externos)."
      ],
      "metadata": {
        "id": "NH3Ret-CEkdM"
      }
    },
    {
      "cell_type": "markdown",
      "source": [
        "## Escolhendo o modelo\n",
        "\n",
        "Na fase inicial de testes, recomenda-se começar com um modelo open source acessível via API gratuita, o que simplifica a implementação e reduz custos. Mesmo após a aplicação estar funcionando, esses modelos seguem vantajosos pela flexibilidade e economia. Neste curso, iniciaremos com o uso via API para evitar a complexidade da configuração local. Mais adiante, ensinaremos como rodar modelos localmente, permitindo que você compare as abordagens e escolha a mais adequada ao seu caso.\n",
        "\n",
        "Usaremos a biblioteca LangChain para integrar com a Groq, aproveitando seu módulo nativo de conexão e os benefícios que ela oferece no desenvolvimento.\n",
        "\n",
        "Para escolher bons modelos, recomendamos consultar leaderboards comparativos, como:\n",
        " * o https://lmarena.ai/?leaderboard\n",
        " * ou ranking específico para português na Hugging Face - https://huggingface.co/spaces/eduagarcia/open_pt_llm_leaderboard\n",
        "\n",
        "**Adicionando a key**\n",
        "\n",
        "Antes de começar com o código, você deve colar no campo a sua key gerada dentro do painel do Groq: https://console.groq.com/keys\n",
        "\n"
      ],
      "metadata": {
        "id": "biVUysXq9JxV"
      }
    },
    {
      "cell_type": "code",
      "source": [
        "os.environ[\"GROQ_API_KEY\"] = getpass.getpass()"
      ],
      "metadata": {
        "id": "zjTLin8eIAis",
        "colab": {
          "base_uri": "https://localhost:8080/"
        },
        "outputId": "36fca87d-73c0-4921-f3ee-54489d874d00"
      },
      "execution_count": null,
      "outputs": [
        {
          "name": "stdout",
          "output_type": "stream",
          "text": [
            "··········\n"
          ]
        }
      ]
    },
    {
      "cell_type": "markdown",
      "source": [
        "Lembre-se que não precisamos pagar para usar modelos disponibilizados gratuitamente pelo provedor.\n",
        "\n",
        "* Essa próxima linha usa o método ChatGroq para configuração do modelo via API do Groq.\n",
        "\n",
        "* Escolhemos um modelo gratuito, dentro da aba *free tier* https://console.groq.com/docs/rate-limits. Copie o ID do modelo e adicione no campo a seguir\n",
        "\n"
      ],
      "metadata": {
        "id": "RV5uX4vt2Woh"
      }
    },
    {
      "cell_type": "code",
      "source": [
        "id_model = \"llama3-70b-8192\" #@param {type: \"string\"}\n",
        "\n",
        "llm = ChatGroq(\n",
        "    model = id_model,\n",
        "    temperature = 0.7,\n",
        "    max_tokens=None,\n",
        "    timeout = None,\n",
        "    max_retries = 2,\n",
        ")"
      ],
      "metadata": {
        "id": "aQI2ddepH-ul"
      },
      "execution_count": null,
      "outputs": []
    },
    {
      "cell_type": "markdown",
      "source": [
        "### Explicações do método\n",
        "\n",
        "Para este teste definimos a temperatura como 0.7.\n",
        "A temperatura é um hiperparâmetro que ajusta a aleatoriedade da resposta da LLM.\n",
        "\n",
        "* Temperaturas mais altas (0.8-1.0) geram saídas mais criativas, ideais para brainstorming, enquanto temperaturas baixas (0.0-0.4) produzem respostas mais focadas e determinísticas, adequadas para tarefas técnicas;\n",
        "* valores médios (0.5-0.7) oferecem um equilíbrio, sendo um bom ponto de partida para geração de conteúdo geral, embora seja recomendável experimentar diferentes valores conforme o objetivo e o modelo.\n",
        "Além da temperatura, outros parâmetros como max_tokens (limite de tokens), timeout (tempo máximo de resposta) e max_retries (tentativas em caso de falha) podem ser configurados para otimizar o comportamento da LLM, com a documentação da LangChain para Groq oferecendo detalhes sobre todas as opções disponíveis.\n",
        "\n",
        "https://python.langchain.com/api_reference/groq/chat_models/langchain_groq.chat_models.ChatGroq.html"
      ],
      "metadata": {
        "id": "HMV_dJey2wFi"
      }
    },
    {
      "cell_type": "markdown",
      "source": [
        "### Formato das mensagens\n",
        "\n",
        "Ao interagir com a LLM, estruturamos o prompt como uma troca de mensagens, cada uma com uma função (ou *role*, como \"human\" para nossa entrada e \"system\" para instruções gerais que garantem consistência) e um conteúdo (a mensagem em si, seja texto ou dados estruturados).\n",
        "\n",
        "O prompt de sistema é crucial para definir o comportamento base da LLM, como atribuir um papel ou instruções padrão, e embora um prompt genérico possa funcionar, um prompt de sistema específico para a aplicação melhora significativamente a consistência dos resultados.\n"
      ],
      "metadata": {
        "id": "TqpIkQKKdKyu"
      }
    },
    {
      "cell_type": "code",
      "source": [
        "prompt = \"Olá! Quem é você?\" # @param {type:\"string\"}\n",
        "\n",
        "template = [\n",
        "    (\"system\", \"Você é um redator profissional.\"),\n",
        "    (\"human\", prompt)\n",
        "]\n",
        "\n",
        "res = llm.invoke(template)\n",
        "res"
      ],
      "metadata": {
        "id": "fECsTInB3IXQ",
        "outputId": "96b1f47e-a6fb-47e0-f9e2-657f4fe994a0",
        "colab": {
          "base_uri": "https://localhost:8080/"
        }
      },
      "execution_count": null,
      "outputs": [
        {
          "output_type": "execute_result",
          "data": {
            "text/plain": [
              "AIMessage(content='Olá! Eu sou um redator profissional com experiência em criar conteúdos de alta qualidade para diversas plataformas e formatos. Meu trabalho envolve escrever artigos, posts, relatórios, e-books, conteúdos para sites, entre outros. Meu objetivo é sempre entregar conteúdo claro, conciso e atraente para os leitores.\\n\\nTenho uma sólida formação em redação e comunicação, e minha especialidade é adaptar meu estilo de escrita às necessidades específicas de cada cliente ou projeto. Além disso, estou sempre atualizado sobre as melhores práticas de redação e SEO, para garantir que meus conteúdos sejam não apenas atraentes, mas também otimizados para os motores de busca.\\n\\nEntão, como posso ajudá-lo hoje? Você precisa de um texto específico ou tem alguma dúvida sobre redação ou comunicação?', additional_kwargs={}, response_metadata={'token_usage': {'completion_tokens': 202, 'prompt_tokens': 31, 'total_tokens': 233, 'completion_time': 0.823415634, 'prompt_time': 0.000615159, 'queue_time': 0.064447435, 'total_time': 0.824030793}, 'model_name': 'llama3-70b-8192', 'system_fingerprint': 'fp_bf16903a67', 'service_tier': 'on_demand', 'finish_reason': 'stop', 'logprobs': None}, id='run--f55619ad-6786-474f-9593-cb255555dfef-0', usage_metadata={'input_tokens': 31, 'output_tokens': 202, 'total_tokens': 233})"
            ]
          },
          "metadata": {},
          "execution_count": 5
        }
      ]
    },
    {
      "cell_type": "code",
      "source": [
        "prompt = \"Olá! Quem é você?\" # @param {type:\"string\"}\n",
        "\n",
        "template = [\n",
        "    (\"system\", \"Você é um redator profissional.\"),\n",
        "    (\"human\", prompt)\n",
        "]\n",
        "\n",
        "res = llm.invoke(template)\n",
        "res"
      ],
      "metadata": {
        "colab": {
          "base_uri": "https://localhost:8080/"
        },
        "id": "BOrEl2QTIwY9",
        "outputId": "98c4848e-85a3-4d39-8108-43ee1fd977ba"
      },
      "execution_count": null,
      "outputs": [
        {
          "output_type": "execute_result",
          "data": {
            "text/plain": [
              "AIMessage(content='Olá! Eu sou um redator profissional com anos de experiência em criação de conteúdos de alta qualidade para various plataformas e formatos. Meu trabalho envolve a elaboração de textos claros, concisos e atraentes que atendam às necessidades dos meus clientes e ao seu público-alvo.\\n\\nTrabalho com diferentes estilos e tons, desde o formal e profissional até o informal e conversacional. Meu objetivo é sempre entregar conteúdos que sejam fáceis de ler e que transmitam a mensagem desejada de forma eficaz.\\n\\nSou especializado em criação de conteúdo para blogs, sites, newsletters, e-books, whitepapers, artigos de opinião, relatórios, entre outros. Além disso, sou habilidoso em edição e revisão de textos, garantindo que o conteúdo seja livre de erros e esteja de acordo com as normas de estilo e de linguagem.\\n\\nSe você precisa de um redator profissional para seu conteúdo, estou aqui para ajudar. Qual é o seu projeto?', additional_kwargs={}, response_metadata={'token_usage': {'completion_tokens': 238, 'prompt_tokens': 31, 'total_tokens': 269, 'completion_time': 0.852451957, 'prompt_time': 0.001018469, 'queue_time': 0.242098589, 'total_time': 0.853470426}, 'model_name': 'llama3-70b-8192', 'system_fingerprint': 'fp_dd4ae1c591', 'finish_reason': 'stop', 'logprobs': None}, id='run-357ae709-cc8c-4a2a-bb21-8f2da07b97e6-0', usage_metadata={'input_tokens': 31, 'output_tokens': 238, 'total_tokens': 269})"
            ]
          },
          "metadata": {},
          "execution_count": 22
        }
      ]
    },
    {
      "cell_type": "code",
      "source": [
        "res.content"
      ],
      "metadata": {
        "colab": {
          "base_uri": "https://localhost:8080/",
          "height": 157
        },
        "id": "oLk-mKn1JlqG",
        "outputId": "63d59cc5-655c-4482-eedd-8c58cc8d8544"
      },
      "execution_count": null,
      "outputs": [
        {
          "output_type": "execute_result",
          "data": {
            "text/plain": [
              "'Olá! Eu sou um redator profissional com anos de experiência em criação de conteúdos de alta qualidade para various plataformas e formatos. Meu trabalho envolve a elaboração de textos claros, concisos e atraentes que atendam às necessidades dos meus clientes e ao seu público-alvo.\\n\\nTrabalho com diferentes estilos e tons, desde o formal e profissional até o informal e conversacional. Meu objetivo é sempre entregar conteúdos que sejam fáceis de ler e que transmitam a mensagem desejada de forma eficaz.\\n\\nSou especializado em criação de conteúdo para blogs, sites, newsletters, e-books, whitepapers, artigos de opinião, relatórios, entre outros. Além disso, sou habilidoso em edição e revisão de textos, garantindo que o conteúdo seja livre de erros e esteja de acordo com as normas de estilo e de linguagem.\\n\\nSe você precisa de um redator profissional para seu conteúdo, estou aqui para ajudar. Qual é o seu projeto?'"
            ],
            "application/vnd.google.colaboratory.intrinsic+json": {
              "type": "string"
            }
          },
          "metadata": {},
          "execution_count": 23
        }
      ]
    },
    {
      "cell_type": "markdown",
      "source": [
        "**Usando com método de template do LangChain**\n",
        "\n",
        "Para criar prompts dinâmicos e organizados, especialmente em aplicações maiores e reutilizáveis com LangChain, utilizamos `ChatPromptTemplate.from_messages()`, que permite inserir de forma organizada variáveis (como {input}) e separar a lógica do prompt, tornando o código mais limpo e escalável.\n",
        "\n",
        "Em vez de invocar a LLM diretamente, criamos uma \"chain\" que combina este template de prompt com o modelo.\n",
        "\n",
        "> Para contextualizar, o que são **chains**: Chain do LangChain (Corrente, Cadeias ou ainda Sequencias) é uma composição de etapas que processam dados em sequência — aqui, a entrada é formatada pelo prompt e enviada ao modelo. A vantagem é que chains permitem combinar várias ações (como formatar, gerar, filtrar, armazenar) de forma modular e reutilizável, facilitando aplicações mais robustas. Elas funcionam ao encadear componentes, onde a saída de um se torna a entrada do próximo, criando uma sequência lógica de operações."
      ],
      "metadata": {
        "id": "obYDd3iw4eOB"
      }
    },
    {
      "cell_type": "code",
      "source": [
        "from langchain_core.prompts import ChatPromptTemplate\n",
        "\n",
        "prompt = \"Olá! quem é você?\"  # @param {type:\"string\"}\n",
        "\n",
        "template = ChatPromptTemplate.from_messages([\n",
        "    (\"system\", \"Você é um redator profissional\"),\n",
        "    (\"human\", \"{prompt}\")\n",
        "])\n",
        "\n",
        "chain = template | llm\n",
        "\n",
        "res = chain.invoke({\"prompt\": prompt})\n",
        "res.content"
      ],
      "metadata": {
        "colab": {
          "base_uri": "https://localhost:8080/",
          "height": 139
        },
        "id": "Hpj7zDbCJxOB",
        "outputId": "2479105e-892f-4ca2-b4a0-de325f0efd80"
      },
      "execution_count": null,
      "outputs": [
        {
          "output_type": "execute_result",
          "data": {
            "text/plain": [
              "'Olá! Eu sou um redator profissional com experiência em criar conteúdos de alta qualidade para diversas plataformas, como blogs, sites, redes sociais, entre outros. Meu objetivo é produzir textos claros, concisos e atraentes, capazes de transmitir mensagens eficazes para os leitores.\\n\\nSou especializado em redação de conteúdo, relatórios, artigos, posts para redes sociais, e-mails marketing, entre outros. Estou sempre atualizado com as melhores práticas de SEO e sou capaz de adaptar meu estilo de escrita às necessidades específicas de cada cliente.\\n\\nAlém disso, sou um profissional proativo e comunicativo, sempre disposto a entender as necessidades dos meus clientes e a entregar resultados de alta qualidade dentro dos prazos estabelecidos. Se você precisa de um redator profissional para seu projeto, estou aqui para ajudar!'"
            ],
            "application/vnd.google.colaboratory.intrinsic+json": {
              "type": "string"
            }
          },
          "metadata": {},
          "execution_count": 24
        }
      ]
    },
    {
      "cell_type": "markdown",
      "source": [
        "### Estendendo a chain / Output parser\n",
        "\n",
        "Para trabalhar com a saída de sequência \"crua\" da mensagem, Langchain oferece \"Output Parsers\", como o StrOutputParser, que processa a saída do modelo em um formato mais acessível, convertendo-a em uma string.\n",
        "\n",
        "Se o modelo (LLM) já produz uma string, o StrOutputParser simplesmente a repassa; se for um ChatModel que produz uma mensagem, ele extrai o conteúdo do atributo `.content`. Embora res.content possa ser usado diretamente no caso de modelos LLM que já retornam string, incluir o StrOutputParser na chain é uma boa prática para obter o valor string diretamente, tornando-se especialmente útil ao integrar ChatModels.\n",
        "\n"
      ],
      "metadata": {
        "id": "oYlYcZU2pKwS"
      }
    },
    {
      "cell_type": "code",
      "source": [
        "from langchain_core.output_parsers import StrOutputParser\n",
        "\n",
        "prompt = \"Olá! quem é você?\"  # @param {type:\"string\"}\n",
        "\n",
        "template = ChatPromptTemplate.from_messages([\n",
        "    (\"system\", \"Você é um redator profissional\"),\n",
        "    (\"human\", \"{prompt}\")\n",
        "])\n",
        "\n",
        "chain = template | llm | StrOutputParser()\n",
        "\n",
        "res = chain.invoke({\"prompt\": prompt})\n",
        "res"
      ],
      "metadata": {
        "colab": {
          "base_uri": "https://localhost:8080/",
          "height": 122
        },
        "id": "2XLak7qGK8zg",
        "outputId": "20d39724-9bb8-47a7-9c38-2eb0084f5309"
      },
      "execution_count": null,
      "outputs": [
        {
          "output_type": "execute_result",
          "data": {
            "text/plain": [
              "'Olá! Eu sou um redator profissional com experiência em criar conteúdo de qualidade para diversas plataformas, desde artigos e blog posts até redes sociais e materiais de marketing. Meu objetivo é criar texto que seja claro, conciso e atraente, capte a atenção do leitor e transmita a mensagem de forma eficaz.\\n\\nSou especializado em redação de conteúdo para empresas e marcas, ajudando a desenvolver suas estratégias de conteúdo e a criar texto que reflete sua personalidade e valores. Além disso, também sou habilidoso em editar e revisar texto, garantindo que o conteúdo seja preciso, coerente e livre de erros.\\n\\nSe você precisa de ajuda com um projeto de redação ou tem uma ideia que precisa ser transformada em texto, estou aqui para ajudar!'"
            ],
            "application/vnd.google.colaboratory.intrinsic+json": {
              "type": "string"
            }
          },
          "metadata": {},
          "execution_count": 25
        }
      ]
    },
    {
      "cell_type": "markdown",
      "source": [
        "## Melhorando a exibição do resultado\n",
        "\n",
        "Note acima que o resultado não ficou tão apresentável no Colab, podemos melhorar a sua visualização usando **Markdown**.\n",
        "* Markdown é uma linguagem de marcação simples e leve que facilita a formatação de texto usando símbolos como asteriscos e hashtags, sem precisar de HTML. No Google Colab, ele melhora a organização e a legibilidade, permitindo destacar textos em *itálico* , **negrito** e criar títulos com #, ## ou ### para diferentes níveis.\n",
        "\n",
        "* Caso queira explorar mais, aqui está um guia da sintaxe: https://www.markdownguide.org/basic-syntax/\n"
      ],
      "metadata": {
        "id": "6atxj5X4cytn"
      }
    },
    {
      "cell_type": "code",
      "source": [
        "def show_res(res):\n",
        "  from IPython.display import Markdown\n",
        "  display(Markdown(res))\n",
        "\n",
        "show_res(res)"
      ],
      "metadata": {
        "colab": {
          "base_uri": "https://localhost:8080/",
          "height": 128
        },
        "id": "GxS1qO7xLuZU",
        "outputId": "a460946d-335c-4f7d-fdd4-0fe07cace9ac"
      },
      "execution_count": null,
      "outputs": [
        {
          "output_type": "display_data",
          "data": {
            "text/plain": [
              "<IPython.core.display.Markdown object>"
            ],
            "text/markdown": "Olá! Eu sou um redator profissional com experiência em criar conteúdo de qualidade para diversas plataformas, desde artigos e blog posts até redes sociais e materiais de marketing. Meu objetivo é criar texto que seja claro, conciso e atraente, capte a atenção do leitor e transmita a mensagem de forma eficaz.\n\nSou especializado em redação de conteúdo para empresas e marcas, ajudando a desenvolver suas estratégias de conteúdo e a criar texto que reflete sua personalidade e valores. Além disso, também sou habilidoso em editar e revisar texto, garantindo que o conteúdo seja preciso, coerente e livre de erros.\n\nSe você precisa de ajuda com um projeto de redação ou tem uma ideia que precisa ser transformada em texto, estou aqui para ajudar!"
          },
          "metadata": {}
        }
      ]
    },
    {
      "cell_type": "markdown",
      "source": [
        "## Juntando em uma função\n",
        "\n",
        "Reunir tudo em uma função facilita a reutilização, organização e manutenção do código, evitando repetições durante nossos testes. Vamos chamar essa função no bloco de código seguinte\n"
      ],
      "metadata": {
        "id": "FbzL38bii-o0"
      }
    },
    {
      "cell_type": "code",
      "source": [
        "def llm_generate(llm, prompt):\n",
        "  template = ChatPromptTemplate.from_messages([\n",
        "      (\"system\", \"Você é um redator profissional.\"),\n",
        "      (\"human\", \"{prompt}\"),\n",
        "  ])\n",
        "\n",
        "  chain = template | llm | StrOutputParser()\n",
        "\n",
        "  res = chain.invoke({\"prompt\": prompt})\n",
        "  show_res(res)"
      ],
      "metadata": {
        "id": "XEyMMB28ME0a"
      },
      "execution_count": null,
      "outputs": []
    },
    {
      "cell_type": "code",
      "source": [
        "prompt = \"escreva 5 dicas de saúde\"  # @param {type:\"string\"}\n",
        "\n",
        "llm_generate(llm, prompt)"
      ],
      "metadata": {
        "colab": {
          "base_uri": "https://localhost:8080/",
          "height": 477
        },
        "id": "snXC2u4EMLa-",
        "outputId": "bf953aac-9157-4d94-cd2f-de5172e9353e"
      },
      "execution_count": null,
      "outputs": [
        {
          "output_type": "display_data",
          "data": {
            "text/plain": [
              "<IPython.core.display.Markdown object>"
            ],
            "text/markdown": "Aqui vão 5 dicas de saúde que podem fazer uma grande diferença** em sua qualidade de vida:\n\n**Dica 1: Hidrate-se Adequadamente**\n\nA falta de hidratação é um dos principais motivos de fadiga, dores de cabeça e perda de concentração. No entanto, beber ao menos 2 litros de água por dia pode ajudar a manter a saúde em dia. Além disso, a hidratação adequada também pode ajudar a prevenir doenças como a pedra nos rins e a infecção urinária.\n\n**Dica 2: Mantenha um Peso Saudável**\n\nManter um peso saudável é fundamental para prevenir doenças como o diabetes, a hipertensão e a obesidade. Além disso, um peso saudável também pode ajudar a melhorar a autoestima e a qualidade de vida. Para manter um peso saudável, é importante adotar hábitos alimentares saudáveis, como consumir frutas, legumes e alimentos integrais, e evitar alimentos processados e ricos em açúcar e gordura.\n\n**Dica 3: Faça Atividades Físicas Regulares**\n\nA falta de atividades físicas é um dos principais motivos de doenças crônicas como a obesidade, a diabetes e a cardiopatia. No entanto, realizar atividades físicas regulares pode ajudar a melhorar a saúde em geral. Além disso, as atividades físicas também podem ajudar a reduzir o estresse e a ansiedade, e melhorar a qualidade do sono.\n\n**Dica 4: Gerencie o Estresse**\n\nO estresse é um dos principais motivos de doenças como a depressão, a ansiedade e a obesidade. No entanto, gerenciar o estresse de forma adequada pode ajudar a prevenir essas doenças. Para gerenciar o estresse, é importante adotar hábitos como a meditação, a prática de exercícios físicos e a técnica de respiração profunda. Além disso, também é importante aprender a dizer \"não\" às coisas que causem estresse e a priorizar as coisas que causem felicidade**.\n\n**Dica 5: Durma o Suficiente**\n\nO sono é fundamental para a saúde em geral. No entanto, a falta de sono pode causar problemas como a fadiga, a falta de concentração e a doenças crônicas. Além disso, o sono também pode ajudar a melhorar a capacidade de memorizar e a aprender novas coisas. Para dormir o suficiente, é importante ir para a cama cedo, criar um ambiente tranquilo e evitar a utilização de eletrônicos antes de dormir.\n\nEssas 5 dicas de saúde podem ajudar a melhorar a qualidade de vida e prevenir doenças crônicas. Além disso, também é importante lembrar que a saúde é um estilo de vida e que é importante adotar hábitos saudáveis de forma consistente."
          },
          "metadata": {}
        }
      ]
    },
    {
      "cell_type": "markdown",
      "source": [
        "### Outros Modelos Open Source\n",
        "\n",
        "\n",
        " * Modelos disponíveis pelo Groq https://console.groq.com/docs/rate-limits (ver os gratuitos - dentro da aba *free tier*)\n",
        "\n",
        " Durante a fase de experimentação é uma boa ideia testar diferentes modelos.\n",
        "\n",
        "Após validar a nossa solução e fazer os testes iniciais, você pode optar também por modelos pagos e proprietários quando o modelo estiver em produção, já que agora não estará mais desperdiçando alguns centavos de dólar em testes.\n"
      ],
      "metadata": {
        "id": "L2if78TSDTrV"
      }
    },
    {
      "cell_type": "markdown",
      "source": [
        "### Modelos proprietários (exemplo: ChatGPT da OpenAI)\n",
        "\n",
        "Recomenda-se iniciar os testes com modelos open source e, após a validação, migrar para soluções pagas, como ChatGPT (OpenAI) ou Claude (Anthropic), para evitar custos desnecessários durante o desenvolvimento.\n",
        "\n",
        "Soluções pagas oferecem modelos de ponta com alta performance e suporte via API, ideais para robustez e facilidade, mas o custo escala com o uso de tokens (segmentos de texto processados); em contraste, modelos open source, executáveis localmente ou em servidores próprios, proporcionam maior controle, privacidade e custo reduzido para larga escala, exigindo, no entanto, mais conhecimento técnico para configuração e manutenção.\n",
        "\n",
        "A decisão entre API paga e open source deve considerar o volume de uso esperado e a necessidade de personalização.\n",
        "\n",
        "Para testar a implementação, faremos um exemplo com o ChatGPT, lembrando que os custos da OpenAI são baseados em tokens (consulte openai.com/api/pricing/).\n",
        "\n",
        "A grande vantagem de usar LangChain é que toda a sintaxe e lógica de chains criadas são reaproveitáveis, alterando-se apenas a forma como a LLM é carregada, enquanto o restante da aplicação permanece o mesmo.\n",
        "\n",
        "* Valores: https://openai.com/api/pricing/\n"
      ],
      "metadata": {
        "id": "iA9qXy7kDM3n"
      }
    },
    {
      "cell_type": "markdown",
      "source": [
        "> Como gerar uma API key\n",
        "\n",
        "Para utilizar os modelos da OpenAI, é necessário obter uma chave de API. Siga as etapas abaixo para gerar a sua:\n",
        "\n",
        "1. Acesse o site da OpenAI e faça login na sua conta.\n",
        "2. Navegue até a seção de chaves de API e clique em \"Criar nova chave secreta\" - https://platform.openai.com/api-keys\n",
        "3. Copie a chave gerada e armazene-a em um local seguro. Importante: nunca compartilhe sua chave\n",
        "\n",
        "> Conferir o uso https://platform.openai.com/usage"
      ],
      "metadata": {
        "id": "eBMeVJPO5spI"
      }
    },
    {
      "cell_type": "code",
      "source": [
        "!pip install -q langchain-openai"
      ],
      "metadata": {
        "colab": {
          "base_uri": "https://localhost:8080/"
        },
        "id": "aa0-vRacNLa4",
        "outputId": "e02e56d4-a2ad-49db-b8a7-56e677eb6092"
      },
      "execution_count": null,
      "outputs": [
        {
          "output_type": "stream",
          "name": "stdout",
          "text": [
            "\u001b[?25l   \u001b[90m━━━━━━━━━━━━━━━━━━━━━━━━━━━━━━━━━━━━━━━━\u001b[0m \u001b[32m0.0/69.0 kB\u001b[0m \u001b[31m?\u001b[0m eta \u001b[36m-:--:--\u001b[0m\r\u001b[2K   \u001b[90m━━━━━━━━━━━━━━━━━━━━━━━━━━━━━━━━━━━━━━━━\u001b[0m \u001b[32m69.0/69.0 kB\u001b[0m \u001b[31m3.0 MB/s\u001b[0m eta \u001b[36m0:00:00\u001b[0m\n",
            "\u001b[?25h"
          ]
        }
      ]
    },
    {
      "cell_type": "code",
      "source": [
        "os.environ[\"OPENAI_API_KEY\"] = getpass.getpass()"
      ],
      "metadata": {
        "colab": {
          "base_uri": "https://localhost:8080/"
        },
        "id": "nu4A5QDKNbWb",
        "outputId": "14f2b808-fcc9-4f6e-cd60-babd435e3a2d"
      },
      "execution_count": null,
      "outputs": [
        {
          "name": "stdout",
          "output_type": "stream",
          "text": [
            "··········\n"
          ]
        }
      ]
    },
    {
      "cell_type": "code",
      "source": [
        "# https://platform.openai.com/docs/models\n",
        "from langchain_openai import ChatOpenAI\n",
        "chatgpt = ChatOpenAI(model = \"gpt-4o-mini\")"
      ],
      "metadata": {
        "id": "FauddQxaNpM6"
      },
      "execution_count": null,
      "outputs": []
    },
    {
      "cell_type": "code",
      "source": [
        "chatgpt = ChatOpenAI(\n",
        "    model=\"gpt-4o-mini\",\n",
        "    temperature=0,\n",
        "    max_tokens=None,\n",
        "    timeout=None,\n",
        "    max_retries=2\n",
        ")"
      ],
      "metadata": {
        "id": "gkZqnQ8fOFwV"
      },
      "execution_count": null,
      "outputs": []
    },
    {
      "cell_type": "code",
      "source": [
        "chain_chatgpt = template | chatgpt\n",
        "\n",
        "res = chain_chatgpt.invoke({\"prompt\": \"Gere um texto de 2 parágrafos sobre dicas de saúde\"})\n",
        "show_res(res.content)"
      ],
      "metadata": {
        "colab": {
          "base_uri": "https://localhost:8080/",
          "height": 191
        },
        "id": "rp7MKTPYORir",
        "outputId": "433a2f1b-f769-40d2-c977-10c246193f0a"
      },
      "execution_count": null,
      "outputs": [
        {
          "output_type": "display_data",
          "data": {
            "text/plain": [
              "<IPython.core.display.Markdown object>"
            ],
            "text/markdown": "Manter uma boa saúde é fundamental para garantir qualidade de vida e bem-estar. Uma das dicas mais importantes é a adoção de uma alimentação equilibrada, rica em frutas, verduras, grãos integrais e proteínas magras. Evitar o consumo excessivo de açúcares, gorduras saturadas e alimentos ultraprocessados pode prevenir doenças crônicas, como diabetes e hipertensão. Além disso, é essencial manter-se hidratado, bebendo pelo menos dois litros de água por dia, e prestar atenção às porções, evitando excessos que podem levar ao ganho de peso.\n\nOutra dica crucial para a saúde é a prática regular de atividades físicas. O ideal é dedicar pelo menos 150 minutos por semana a exercícios moderados, como caminhadas, natação ou ciclismo. A atividade física não apenas ajuda a controlar o peso, mas também melhora a saúde cardiovascular, fortalece os músculos e libera endorfinas, que são hormônios responsáveis pela sensação de bem-estar. Por fim, não subestime a importância do sono: garantir de 7 a 9 horas de descanso por noite é vital para a recuperação do corpo e a manutenção da saúde mental. Incorporar essas práticas ao seu dia a dia pode fazer uma grande diferença na sua qualidade de vida."
          },
          "metadata": {}
        }
      ]
    },
    {
      "cell_type": "markdown",
      "source": [
        "# Construindo o prompt de aplicação\n",
        "\n",
        "Agora que já interagimos com o modelo de forma básica, vamos começar a explorar a **engenharia de prompt**. Isso significa aprender a formular perguntas ou instruções de forma clara e específica para obter respostas mais precisas e úteis.\n"
      ],
      "metadata": {
        "id": "SlkwACT--sje"
      }
    },
    {
      "cell_type": "markdown",
      "source": [
        "### Estrutura de um prompt\n",
        "\n",
        "Existem várias técnicas de engenharia de prompt, onde muitas delas se baseiam em princípios parecidos. Uma abordagem simples para construir um prompt mais completo é adicionar a ele alguns 'blocos' (componentes), que no caso seriam:\n",
        "* Papel (Role) - \"quem\" ele deve interpretar (mais sobre isso abaixo)\n",
        "* Tarefa (Task) - tarefa que deve realizar\n",
        "* Entrada (Input) - informação que pode ser usada como contexto para gerar uma resposta (por exemplo o faturamento mensal de uma empresa, ou um dado específico sobre algo ou alguém)\n",
        "* Saída (Output) - como quer que seja o resultado. Podemos especificar também regras, como como tamanho do resultado (medido em quantidade de palavras ou parágrafos por exemplo)\n",
        "* Restrições (Constraints) - o que queremos evitar na resposta. Por exemplo: \"evite jargões ou linguagem muito técnica\". \"Não inclua sua análise ou opinião\".\n",
        "\n"
      ],
      "metadata": {
        "id": "Dp-FeN8qLZ27"
      }
    },
    {
      "cell_type": "markdown",
      "source": [
        "### Interpretação de papéis - Role Prompting\n",
        "\n",
        "A técnica de role prompting consiste em instruir o modelo de IA a assumir um papel específico, como um especialista em determinada área (o modo mais comum, conhecido como \"O Especialista\", para obter explicações técnicas), uma figura histórica ou um personagem fictício, o que influencia significativamente o estilo e o conteúdo da resposta, mesmo que o restante do prompt seja idêntico.\n",
        "\n",
        "Utilizar frases como \"Você é um redator\" ou \"Aja como um historiador\" no prompt de sistema são exemplos práticos dessa técnica, que molda a persona da LLM para gerar resultados mais alinhados com o contexto desejado."
      ],
      "metadata": {
        "id": "Db39X-UhqQhx"
      }
    },
    {
      "cell_type": "code",
      "source": [
        "prompt = \"fale sobre chocolate em 1 parágrafo\"\n",
        "\n",
        "template = ChatPromptTemplate.from_messages([\n",
        "    (\"system\", \"Você é um historiador\"),\n",
        "    (\"human\", \"{prompt}\")\n",
        "])\n",
        "\n",
        "chain = template | llm | StrOutputParser()\n",
        "\n",
        "res = chain.invoke({\"prompt\": prompt})\n",
        "show_res(res)"
      ],
      "metadata": {
        "colab": {
          "base_uri": "https://localhost:8080/",
          "height": 150
        },
        "id": "FCyEzLAkg_8C",
        "outputId": "7ff64051-95a7-444e-cbee-0f6b0ff25677"
      },
      "execution_count": null,
      "outputs": [
        {
          "output_type": "display_data",
          "data": {
            "text/plain": [
              "<IPython.core.display.Markdown object>"
            ],
            "text/markdown": "O chocolate! Essa delícia que conquistou os corações e os palatos de pessoas em todo o planeta tem uma rica história que remonta há mais de 3 mil anos. Originário da América Central, o chocolate foi inicialmente consumido pelos olmecas e maias, que o consideravam um alimento sagrado e o usavam em rituais religiosos. Os astecas, por sua vez, o consideravam um luxo e o utilizavam como moeda de troca. Com a conquista da América, o chocolate foi introduzido na Europa, onde foi adaptado e transformado em uma guloseima refinada e sofisticada. No século XIX, o suíço Theodor Tobler e o holandês Coenraad Johannes Van Houten desenvolveram processos que permitiram a produção em massa do chocolate, tornando-o acessível ao grande público e criando uma indústria que move bilhões de dólares por ano. Hoje, o chocolate é uma paixão global, com variedades e sabores que vão desde o tradicional ao exótico, e é celebrado em festas e datas especiais em todo o ano."
          },
          "metadata": {}
        }
      ]
    },
    {
      "cell_type": "markdown",
      "source": [
        "Aqui vemos então como o tipo de especialista pode impactar totalmente no resultado. Portanto precisamos pedir algo que seja alinhado ao nosso propósito (copiamos o mesmo código do bloco acima, mudando apenas o prompt do system)"
      ],
      "metadata": {
        "id": "OTC8_Br46dzv"
      }
    },
    {
      "cell_type": "code",
      "source": [
        "template = ChatPromptTemplate.from_messages([\n",
        "    (\"system\", \"Você é um especialista em marketing digital.\"),\n",
        "    (\"human\", \"{prompt}\"),\n",
        "])\n",
        "\n",
        "chain = template | llm | StrOutputParser()\n",
        "\n",
        "res = chain.invoke({\"prompt\": prompt})\n",
        "show_res(res)"
      ],
      "metadata": {
        "colab": {
          "base_uri": "https://localhost:8080/",
          "height": 150
        },
        "id": "PAp2LYHphgTb",
        "outputId": "0bc839c2-a69b-49b9-eb7e-9de058abb199"
      },
      "execution_count": null,
      "outputs": [
        {
          "output_type": "display_data",
          "data": {
            "text/plain": [
              "<IPython.core.display.Markdown object>"
            ],
            "text/markdown": "O chocolate! É um produto que mexe com os sentimentos das pessoas, não é mesmo? É sinônimo de prazer, de confort, de felicidade. Quando pensamos em marketing digital para chocolate, precisamos pensar em como criar experiências que façam as pessoas se sentirem conectadas com a marca, que façam elas quererem parte da história da marca. É preciso criar conteúdo que seja atraente, que faça as pessoas quererem saber mais sobre o processo de produção, sobre os ingredientes, sobre a história por trás da marca. É preciso criar uma conexão emocional com o consumidor, fazendo com que ele se sinta especial, fazendo com que ele se sinta conectado com a marca. É preciso criar uma estratégia que faça as pessoas falarem sobre a marca, que façam elas quererem compartilhar a experiência com os amigos e familiares. Enfim, é preciso criar uma estratégia que faça as pessoas amarem a marca, e que façam a marca se tornar parte da sua rotina diária."
          },
          "metadata": {}
        }
      ]
    },
    {
      "cell_type": "markdown",
      "source": [
        "Ser mais específico geralmente é mais indicado. No contexto da nossa aplicação o prompt abaixo funciona melhor porque direciona o modelo não apenas para produzir textos bem escritos, mas com foco estratégico (como conversão, engajamento e SEO, que são essenciais em campanhas de marketing)."
      ],
      "metadata": {
        "id": "XewkEjvS67ZK"
      }
    },
    {
      "cell_type": "code",
      "source": [
        "template = ChatPromptTemplate.from_messages([\n",
        "    (\"system\", \"Você é um especialista em marketing digital com foco em SEO e escrita persuasiva.\"),\n",
        "    (\"human\", \"{prompt}\"),\n",
        "])\n",
        "\n",
        "chain = template | llm | StrOutputParser()\n",
        "\n",
        "res = chain.invoke({\"prompt\": prompt})\n",
        "show_res(res)"
      ],
      "metadata": {
        "colab": {
          "base_uri": "https://localhost:8080/",
          "height": 98
        },
        "id": "ZfG4jp1ghw7e",
        "outputId": "3da77d3e-7fc6-44eb-ae7f-15d79c04c416"
      },
      "execution_count": null,
      "outputs": [
        {
          "output_type": "display_data",
          "data": {
            "text/plain": [
              "<IPython.core.display.Markdown object>"
            ],
            "text/markdown": "\"O chocolate é um dos prazeres mais intensos e deliciosos que a vida nos proporciona. Com seus aromas sedutores e sabores ricos, é capaz de transportar-nos para um mundo de felicidade e satisfação. Seja em forma de barras, trufas, ou mesmo como ingrediente em receitas criativas, o chocolate é um verdadeiro presente dos deuses. E, para os amantes do doce, há uma razão especial para serender-se à sua irresistível tentação: o chocolate é uma fonte de serotonina, o neurotransmissor responsável por regular o humor e a sensação de bem-estar. Então, porque resistir ao seu charme?\""
          },
          "metadata": {}
        }
      ]
    },
    {
      "cell_type": "markdown",
      "source": [
        "### Usando exemplos - One-Shot e Few-Shot Prompting\n",
        "\n",
        " * Zero-Shot – O modelo responde sem exemplos, confiando apenas no treinamento\n",
        " * One-Shot – Um exemplo é fornecido para orientar a resposta.\n",
        " * Few-Shot – Vários exemplos ajudam o modelo a reconhecer padrões e melhorar a precisão.\n",
        "\n"
      ],
      "metadata": {
        "id": "Q_l8yU2Brmth"
      }
    },
    {
      "cell_type": "code",
      "source": [
        "assunto = 'chocolate'\n",
        "\n",
        "one_shot = f\"\"\"\n",
        "Exemplo:\n",
        "Título: Você sabia que beber mais água pode melhorar sua concentração?\n",
        "Texto: A desidratação leve já é suficiente para reduzir seu foco e energia no dia a dia. Mantenha uma garrafinha por perto e lembre-se de se hidratar ao longo do dia.\n",
        "Hashtags: #hidratação #foconasaude\n",
        "\n",
        "Agora gere um novo texto que fale sobre {assunto}\n",
        "\"\"\"\n",
        "\n",
        "#print(one_shot)\n",
        "\n",
        "res = chain.invoke({\"prompt\": one_shot})\n",
        "show_res(res)"
      ],
      "metadata": {
        "colab": {
          "base_uri": "https://localhost:8080/",
          "height": 81
        },
        "id": "PeCnOWfnilZb",
        "outputId": "13ab6d04-dd82-4ccb-c403-2ce97a9ff57c"
      },
      "execution_count": null,
      "outputs": [
        {
          "output_type": "display_data",
          "data": {
            "text/plain": [
              "<IPython.core.display.Markdown object>"
            ],
            "text/markdown": "Título: Você sabia que comer chocolate pode melhorar seu humor?\nTexto: O chocolate é rico em flavonoides, que ajudam a reduzir o estresse e a ansiedade. Além disso, a liberação de serotonina no cérebro pode deixá-lo mais feliz e relaxado. Então, não se sinta culpado em indulgir em uma barra de chocolate ao dia!\nHashtags: #chocolate #bemestar"
          },
          "metadata": {}
        }
      ]
    },
    {
      "cell_type": "markdown",
      "source": [
        "O few-shot prompting, ou prompt com exemplos, demonstra à IA a estrutura, estilo e abordagem desejados para a resposta, como a inclusão de hashtags ou a formulação de títulos como perguntas, tornando o processo de instrução mais intuitivo e eficiente do que apenas fornecer instruções textuais. Embora exemplos possam ser combinados com texto para maior precisão, o few-shot prompting com múltiplos exemplos, como o que veremos a seguir, ajuda a IA a generalizar melhor o padrão esperado."
      ],
      "metadata": {
        "id": "gMdXiXAi7Zur"
      }
    },
    {
      "cell_type": "code",
      "source": [
        "few_shot = f\"\"\"\n",
        "Exemplo 1:\n",
        "Título: Você sabia que beber mais água pode melhorar sua concentração?\n",
        "Texto: A desidratação leve já é suficiente para reduzir seu foco e energia no dia a dia. Mantenha uma garrafinha por perto e lembre-se de se hidratar ao longo do dia.\n",
        "Hashtags: #hidratação #foconasaude\n",
        "\n",
        "Exemplo 2:\n",
        "Título: Comer carboidratos à noite engorda: Mito ou verdade?\n",
        "Texto: Esse é um mito comum. O que realmente importa é o total calórico do dia e a qualidade dos alimentos. Com orientação certa, dá sim para comer bem à noite sem culpa!\n",
        "Hashtags: #nutricaosemmitos #equilibrioalimentar\n",
        "\n",
        "Agora gere um novo texto que fale sobre {assunto}\n",
        "\"\"\"\n",
        "\n",
        "res = chain.invoke({\"prompt\": few_shot})\n",
        "show_res(res)"
      ],
      "metadata": {
        "colab": {
          "base_uri": "https://localhost:8080/",
          "height": 81
        },
        "id": "0MRk-dVojUp7",
        "outputId": "cfd1cd90-abf4-4bdd-d3e5-449b130f697c"
      },
      "execution_count": null,
      "outputs": [
        {
          "output_type": "display_data",
          "data": {
            "text/plain": [
              "<IPython.core.display.Markdown object>"
            ],
            "text/markdown": "Exemplo 3:\nTítulo: O chocolate é ruim para a saúde ou um presente dos deuses?\nTexto: Acredite, o chocolate pode ser benéfico para a saúde! Em pequenas quantidades, ele pode ajudar a reduzir a pressão arterial e melhorar o humor. É importante escolher opções dark, com pelo menos 70% de cacau, para aproveitar os benefícios.\nHashtags: #chocolatesaudavel #docebensaida"
          },
          "metadata": {}
        }
      ]
    },
    {
      "cell_type": "markdown",
      "source": [
        "### Guiando o resultado com uma estrutura - Structured Prompting\n",
        "\n",
        "Para o prompt final de nossa aplicação, usaremos também o conceito de Prompting estruturado (Structured Prompting), cuja premissa envolve a codificação cuidadosa de instruções, exemplos e restrições personalizadas para direcionar propositalmente comportamentos de modelos de linguagem para tarefas de um nicho específicos.\n",
        "\n"
      ],
      "metadata": {
        "id": "xWN_JIw81arr"
      }
    },
    {
      "cell_type": "code",
      "source": [
        "form = create_form()\n",
        "display(form)"
      ],
      "metadata": {
        "colab": {
          "base_uri": "https://localhost:8080/",
          "height": 327,
          "referenced_widgets": [
            "18494ed34ae44722b81cb2330002a72d",
            "e5281950e3ef44bfb2b052eca49efa2a",
            "f7aaddce82f04242adeff28aae5f2b88",
            "03da9484d33d40669a48b9b57f9f6339",
            "35c822efc83f428bab147d7b361adee4",
            "24e9895441c44510b423c662c3adb5f4",
            "434d2a35af6446bfad4cf3767619a0bc",
            "c78c8f498dd84df1a87aaf2696e0c0d9",
            "72a3eeecca9b4302994493ebe3356fe1",
            "87dddf3a5c8b4f43aaac0845264a3e69",
            "62d273e323484f3b996757b4e8d9695a",
            "4cdc2bec8aa1405aa673f2c0a75969aa",
            "30945f297b954cc194109719aab67933",
            "a041035316bf4aef8a899591a72d38dc",
            "5c164db1d5614f91ab891afef725749d",
            "658612f1638d42228fa6becb713f1c45",
            "3851e16b5d514ef48697ab91c2542b53",
            "4aa9e15b38a14836b87471157d8d6694",
            "7fbcd3b2ecd047eb8572a1c1d5a2a752",
            "972e640f708b478a893f0526aeb9ff21",
            "2ff84728d30244ffa07f61cb98c6522e",
            "28d7a1ea376d4146a189dd711aff9f95",
            "17aafbc1e07c49efb4937c6e62410a06",
            "a09e5d5ee6774abf801a165f01db1fa4",
            "dec957a1eb6048d4aecfe3e4ab9f5d05",
            "fc7792dd0a304a72be813994ec909df1",
            "c4a4f764309346a2b6e38e370603dd9d",
            "550689b8af4f4c4bad9c993ea4b77f08",
            "2f71e9a065164d72bc2a2fbaf8f4afb2",
            "2d28f3d14ad34beba91993ff9ac74ef5",
            "ca33ef5640a64ae2bd79dcb8159dcf08"
          ]
        },
        "id": "z6UO0IdQmu34",
        "outputId": "350967f5-0b45-4fc6-967e-f17d612afbd7"
      },
      "execution_count": null,
      "outputs": [
        {
          "output_type": "display_data",
          "data": {
            "text/plain": [
              "VBox(children=(Text(value='', description='Tema:', layout=Layout(width='500px'), placeholder='Ex: saúde mental…"
            ],
            "application/vnd.jupyter.widget-view+json": {
              "version_major": 2,
              "version_minor": 0,
              "model_id": "18494ed34ae44722b81cb2330002a72d"
            }
          },
          "metadata": {}
        }
      ]
    },
    {
      "cell_type": "code",
      "source": [
        "prompt = f\"\"\"\n",
        "Crie um post para {platform.value} com a seguinte estrutura:\n",
        "1. Comece com uma pergunta provocativa.\n",
        "2. Apresente um benefício claro relacionado ao tema.\n",
        "3. Finalize com uma chamada para ação (CTA) encorajando o leitor a buscar mais informações.\n",
        "\n",
        "Tema: {topic.value}\n",
        "Público-alvo: {audience.value}\n",
        "Tom: {tone.value}\n",
        "\"\"\"\n",
        "\n",
        "print(prompt)"
      ],
      "metadata": {
        "colab": {
          "base_uri": "https://localhost:8080/"
        },
        "id": "PX7ji896nVsF",
        "outputId": "29f7f6e9-ed63-4ef4-b7fd-b25bc50dc5e7"
      },
      "execution_count": null,
      "outputs": [
        {
          "output_type": "stream",
          "name": "stdout",
          "text": [
            "\n",
            "Crie um post para Instagram com a seguinte estrutura:\n",
            "1. Comece com uma pergunta provocativa.\n",
            "2. Apresente um benefício claro relacionado ao tema.\n",
            "3. Finalize com uma chamada para ação (CTA) encorajando o leitor a buscar mais informações.\n",
            "\n",
            "Tema: alimentação saudável\n",
            "Público-alvo: Geral\n",
            "Tom: Informativo\n",
            "\n"
          ]
        }
      ]
    },
    {
      "cell_type": "code",
      "source": [
        "res = chain.invoke({\"prompt\": prompt})\n",
        "show_res(res)"
      ],
      "metadata": {
        "colab": {
          "base_uri": "https://localhost:8080/",
          "height": 168
        },
        "id": "Ox7xideSnocJ",
        "outputId": "de78c750-5faf-4ccb-a981-9061e2d6f9ba"
      },
      "execution_count": null,
      "outputs": [
        {
          "output_type": "display_data",
          "data": {
            "text/plain": [
              "<IPython.core.display.Markdown object>"
            ],
            "text/markdown": "\"Você sabia que a comida que você come todos os dias pode estar silenciosamente sabotando seus objetivos de saúde e bem-estar?\n\nMas aqui está a boa notícia: comer alimentos saudáveis pode aumentar sua energia, melhorar sua saúde mental e até ajudar a perder peso de forma sustentável!\n\nQuer aprender como criar hábitos alimentares saudáveis que você possa manter para o resto da vida? Clique no link na bio para descobrir nossos recursos e dicas práticas para uma vida mais saudável e feliz! #alimentacaosaudavel #saudeemental #bemestar\"\n\nEste post visa provocar o público a refletir sobre a importância da alimentação saudável, destacando os benefícios concretos que podem ser alcançados ao adotar hábitos alimentares mais saudáveis. A chamada para ação (CTA) encoraja o leitor a buscar mais informações e recursos para implementar mudanças positivas em sua vida."
          },
          "metadata": {}
        }
      ]
    },
    {
      "cell_type": "markdown",
      "source": [
        "Para dar mais liberdade à IA na escolha da estrutura do texto, especialmente considerando que a aplicação aceitará diversos parâmetros como plataforma e comprimento, optaremos por um prompt final dinâmico em vez de um structured prompting rígido, que seria mais adequado para resultados muito específicos e poderia levar a publicações repetitivas.\n",
        "\n",
        "### Construindo o prompt final dinamicamente\n",
        "\n",
        "\n",
        "Este prompt final será construído a partir das variáveis do formulário, organizado em itens legíveis com `-` para fácil modificação e escalabilidade.\n",
        "\n",
        "Cada linha fornecerá instruções claras (canal, tom, público...), e opções como hashtags ou CTAs serão incluídas condicionalmente usando expressões inline em Python, adaptando o prompt às escolhas do usuário.\n",
        "\n",
        "Adicionaremos também a instrução para garantir que a saída seja limpa e pronta para uso.\n",
        "\n"
      ],
      "metadata": {
        "id": "r1JjJIP_uG7P"
      }
    },
    {
      "cell_type": "code",
      "source": [
        "prompt = f\"\"\"\n",
        "Escreva um texto com SEO otimizado sobre o tema '{topic.value}'.\n",
        "Retorne em sua resposta apenas o texto final.\n",
        "- Onde será publicado: {platform.value}.\n",
        "- Tom: {tone.value}.\n",
        "- Público-alvo: {audience.value}.\n",
        "- Comprimento: {length.value}.\n",
        "- {\"Inclua uma chamada para ação clara.\" if cta.value else \"Não inclua chamada para ação\"}\n",
        "- {\"Retorne ao final do texto hashtags relevantes.\" if hashtags.value else \"Não inclua hashtags.\"}\n",
        "{\"- Palavras-chave que devem estar presentes nesse texto (para SEO): \" + keywords.value if keywords.value else \"\"}\n",
        "\"\"\"\n",
        "print(prompt)"
      ],
      "metadata": {
        "colab": {
          "base_uri": "https://localhost:8080/"
        },
        "id": "Ld5qtMlzoSC6",
        "outputId": "16f7f259-b533-4f54-be15-60cf34cb52bf"
      },
      "execution_count": null,
      "outputs": [
        {
          "output_type": "stream",
          "name": "stdout",
          "text": [
            "\n",
            "Escreva um texto com SEO otimizado sobre o tema 'alimentação saudável'.\n",
            "Retorne em sua resposta apenas o texto final.\n",
            "- Onde será publicado: Instagram.\n",
            "- Tom: Informativo.\n",
            "- Público-alvo: Geral.\n",
            "- Comprimento: Curto.\n",
            "- Inclua uma chamada para ação clara.\n",
            "- Retorne ao final do texto hashtags relevantes.\n",
            "- Palavras-chave que devem estar presentes nesse texto (para SEO): bem-estar\n",
            "\n"
          ]
        }
      ]
    },
    {
      "cell_type": "code",
      "source": [
        "res = chain.invoke({\"prompt\": prompt})\n",
        "show_res(res)"
      ],
      "metadata": {
        "colab": {
          "base_uri": "https://localhost:8080/",
          "height": 185
        },
        "id": "BMgYLNeZo6pM",
        "outputId": "cf3f963f-d475-4b34-d05f-757a09227b4e"
      },
      "execution_count": null,
      "outputs": [
        {
          "output_type": "display_data",
          "data": {
            "text/plain": [
              "<IPython.core.display.Markdown object>"
            ],
            "text/markdown": "\"Desbloqueie o bem-estar com a alimentação saudável!\n\nVocê sabia que a comida que você come pode afetar seu humor, sua energia e até mesmo sua autoestima? É hora de dar um upgrade na sua alimentação e escolher opções mais saudáveis!\n\nInclua frutas, legumes, grãos integrais e proteínas magras em sua dieta e veja a diferença que isso pode fazer em sua saúde e bem-estar.\n\nQuer aprender mais sobre como a alimentação saudável pode transformar sua vida? Clique no link na nossa bio para descobrir dicas e receitas deliciosas!\n\n#alimentacaosaudavel #bemestar #saude #wellness #foodie #healthyfood\""
          },
          "metadata": {}
        }
      ]
    },
    {
      "cell_type": "markdown",
      "source": [
        "### Sobre o prompt e melhorias\n",
        "\n",
        "Não existe um “melhor prompt” universal — o mais eficaz depende sempre do seu objetivo e do contexto da aplicação. A melhor forma de descobrir o que funciona é testando variações e analisando os resultados.\n",
        "\n",
        "Para encontrar boas alternativas, você pode:\n",
        "\n",
        "* Pesquisar por prompt books gratuitos disponíveis na internet\n",
        "\n",
        "* Usar sites que reúnem templates prontos, como PromptHero ou FlowGPT\n",
        "\n",
        "* Pedir sugestões diretamente à própria LLM (“Como posso melhorar esse prompt para torná-lo mais persuasivo?”)\n",
        "\n",
        "* Analisar exemplos de prompts usados em casos reais ou estudos de caso\n",
        "\n",
        "* Ajustar pequenos trechos do prompt e observar o impacto (tom, foco, estrutura)\n",
        "\n",
        "* Extra: Combinar técnicas (por exemplo Structured Prompting com few-shot prompting) pode aprimorar ainda mais a qualidade e a relevância dos conteúdos gerados.\n",
        "\n",
        "Essas estratégias ajudam a refinar continuamente a performance e alinhar melhor o conteúdo gerado aos seus objetivos."
      ],
      "metadata": {
        "id": "kHWt3Tf38lpZ"
      }
    },
    {
      "cell_type": "markdown",
      "source": [
        "# Concluindo a aplicação final\n",
        "\n",
        "Agora que concluímos a criação do prompt final de nossa aplicação, podemos partir para a finalização.\n",
        "Precisamos juntar os formulários ao prompt e à LLM.\n",
        "\n"
      ],
      "metadata": {
        "id": "6zT7AsmWEr6M"
      }
    },
    {
      "cell_type": "code",
      "source": [
        "def llm_generate(llm, prompt):\n",
        "  template = ChatPromptTemplate.from_messages([\n",
        "      (\"system\", \"Você é um especialista em marketing digital com foco em SEO e escrita persuasiva.\"),\n",
        "      (\"human\", \"{prompt}\"),\n",
        "  ])\n",
        "\n",
        "  chain = template | llm | StrOutputParser()\n",
        "\n",
        "  res = chain.invoke({\"prompt\": prompt})\n",
        "  return res"
      ],
      "metadata": {
        "id": "acUVj5FitObw"
      },
      "execution_count": null,
      "outputs": []
    },
    {
      "cell_type": "code",
      "source": [
        "def generate_result(b):\n",
        "  with output:\n",
        "    output.clear_output()\n",
        "    prompt = f\"\"\"\n",
        "    Escreva um texto com SEO otimizado sobre o tema '{topic.value}'.\n",
        "    Retorne em sua resposta apenas o texto final e não inclua ela dentro de aspas.\n",
        "    - Onde será publicado: {platform.value}.\n",
        "    - Tom: {tone.value}.\n",
        "    - Público-alvo: {audience.value}.\n",
        "    - Comprimento: {length.value}.\n",
        "    - {\"Inclua uma chamada para ação clara.\" if cta.value else \"Não inclua chamada para ação\"}\n",
        "    - {\"Retorne ao final do texto hashtags relevantes.\" if hashtags.value else \"Não inclua hashtags.\"}\n",
        "    {\"- Palavras-chave que devem estar presentes nesse texto (para SEO): \" + keywords.value if keywords.value else \"\"}\n",
        "    \"\"\"\n",
        "    try:\n",
        "      res = llm_generate(llm, prompt)\n",
        "      show_res(res)\n",
        "    except Exception as e:\n",
        "      print(f\"Erro: {e}\")"
      ],
      "metadata": {
        "id": "c9Lvtuc5tab7"
      },
      "execution_count": null,
      "outputs": []
    },
    {
      "cell_type": "markdown",
      "source": [
        "Para executar a função de geração de conteúdo ao clicar no botão, precisamos primeiro desvincular qualquer callback anterior para evitar execuções duplicadas, especialmente em ambientes como o Colab onde o parâmetro remove=True pode apresentar instabilidades. A solução mais simples e robusta é redeclarar o output, o generate_button (associando o on_click à nova função) e a variável form chamando create_form(), garantindo uma configuração limpa a cada execução da célula."
      ],
      "metadata": {
        "id": "8Cpcv3AT9FWu"
      }
    },
    {
      "cell_type": "code",
      "source": [
        "output = widgets.Output()\n",
        "generate_button = widgets.Button(description = \"Gerar conteúdo\")\n",
        "generate_button.on_click(generate_result)\n",
        "form = create_form()"
      ],
      "metadata": {
        "id": "-cBwBeYOttYw"
      },
      "execution_count": null,
      "outputs": []
    },
    {
      "cell_type": "code",
      "source": [
        "display(form)"
      ],
      "metadata": {
        "colab": {
          "base_uri": "https://localhost:8080/",
          "height": 408,
          "referenced_widgets": [
            "33b9b281bb5a4991ae67828f52eedcde",
            "e5281950e3ef44bfb2b052eca49efa2a",
            "f7aaddce82f04242adeff28aae5f2b88",
            "03da9484d33d40669a48b9b57f9f6339",
            "35c822efc83f428bab147d7b361adee4",
            "24e9895441c44510b423c662c3adb5f4",
            "434d2a35af6446bfad4cf3767619a0bc",
            "c78c8f498dd84df1a87aaf2696e0c0d9",
            "72a3eeecca9b4302994493ebe3356fe1",
            "6c27c2b511044823a2e65b2269bbf75e",
            "4936ff9d01c14351aba463c2a9f2bd36",
            "6cfb0417d1c94de386e58e0a5aa7a9ee",
            "30945f297b954cc194109719aab67933",
            "a041035316bf4aef8a899591a72d38dc",
            "5c164db1d5614f91ab891afef725749d",
            "658612f1638d42228fa6becb713f1c45",
            "3851e16b5d514ef48697ab91c2542b53",
            "4aa9e15b38a14836b87471157d8d6694",
            "7fbcd3b2ecd047eb8572a1c1d5a2a752",
            "972e640f708b478a893f0526aeb9ff21",
            "2ff84728d30244ffa07f61cb98c6522e",
            "28d7a1ea376d4146a189dd711aff9f95",
            "17aafbc1e07c49efb4937c6e62410a06",
            "a09e5d5ee6774abf801a165f01db1fa4",
            "dec957a1eb6048d4aecfe3e4ab9f5d05",
            "fc7792dd0a304a72be813994ec909df1",
            "c4a4f764309346a2b6e38e370603dd9d",
            "550689b8af4f4c4bad9c993ea4b77f08",
            "28576360a3234c198dfe1e0348fdc8e2",
            "c5e17ffd38904fcd8d9cecf729bf30aa",
            "7e5ac92966794c96966b6f3c97b3dee2"
          ]
        },
        "id": "LtF8a2gOuCO4",
        "outputId": "e485845f-ceaf-4f3d-d2cd-931418c9fc02"
      },
      "execution_count": null,
      "outputs": [
        {
          "output_type": "display_data",
          "data": {
            "text/plain": [
              "VBox(children=(Text(value='alimentação saudável', description='Tema:', layout=Layout(width='500px'), placehold…"
            ],
            "application/vnd.jupyter.widget-view+json": {
              "version_major": 2,
              "version_minor": 0,
              "model_id": "33b9b281bb5a4991ae67828f52eedcde"
            }
          },
          "metadata": {}
        }
      ]
    },
    {
      "cell_type": "markdown",
      "source": [
        "**Pronto!** Finalizamos nossa aplicação.\n",
        "\n",
        "Aqui você pode reunir todo o código desenvolvido em um único bloco, já pronto para ser executado e utilizado por quem for operar o sistema.\n",
        "\n",
        "Para deixar o código recolhido por padrão, utilize o comando `#@title` no início do bloco — por exemplo: `#@title Rodar Aplicação`\n",
        "Isso além de criar uma seção com título e facilitar a organização vai permitir que o código fique escondido. Para exibir ou ocultar o conteúdo, basta dar dois cliques sobre o título (\"Rodar Aplicação\")."
      ],
      "metadata": {
        "id": "j4LewhCK9atG"
      }
    },
    {
      "cell_type": "markdown",
      "source": [
        "## Escalando para outras áreas e adicionando mais campos\n",
        "\n",
        "Para aumentar a flexibilidade na definição das opções dos campos Dropdown, em vez de fixá-las no código, utilizaremos os formulários do Colab com a anotação `@param {type:\"string\"}`. Isso permite que o usuário insira uma lista de valores separados por vírgula diretamente em um campo ao lado da célula de código, que é então convertida em uma lista Python e usada dinamicamente no parâmetro options do widget.\n",
        "\n",
        "Dessa forma, o formulário se torna totalmente configurável, permitindo fácil adição ou modificação das opções dos dropdowns, como as do campo \"comprimento\", sem alterar o código principal.\n"
      ],
      "metadata": {
        "id": "RjbhV9TBZrBV"
      }
    },
    {
      "cell_type": "code",
      "source": [
        "opt_length = \"Curto, Médio, Longo, 1 parágrafo, 1 página\" # @param {type:\"string\"}\n",
        "print(opt_length)"
      ],
      "metadata": {
        "colab": {
          "base_uri": "https://localhost:8080/"
        },
        "id": "2OpXFWo_v39l",
        "outputId": "488ef84f-aa26-4161-ef65-e03d9a9b6093"
      },
      "execution_count": null,
      "outputs": [
        {
          "output_type": "stream",
          "name": "stdout",
          "text": [
            "Curto, Médio, Longo, 1 parágrafo, 1 página\n"
          ]
        }
      ]
    },
    {
      "cell_type": "code",
      "source": [
        "options_length = [x.strip() for x in opt_length.split(\",\")]"
      ],
      "metadata": {
        "id": "uOtCKjXBwB70"
      },
      "execution_count": null,
      "outputs": []
    },
    {
      "cell_type": "code",
      "source": [
        "options_length"
      ],
      "metadata": {
        "colab": {
          "base_uri": "https://localhost:8080/"
        },
        "id": "-epEz2bXwLNh",
        "outputId": "31c4707b-084a-4d88-e603-c3e3912c78a6"
      },
      "execution_count": null,
      "outputs": [
        {
          "output_type": "execute_result",
          "data": {
            "text/plain": [
              "['Curto', 'Médio', 'Longo', '1 parágrafo', '1 página']"
            ]
          },
          "metadata": {},
          "execution_count": 55
        }
      ]
    },
    {
      "cell_type": "code",
      "source": [
        "length = widgets.Dropdown(\n",
        "    options = option_length,\n",
        "    description=\"Tamanho\",\n",
        "    layout=widgets.Layout(width=w_dropdown)\n",
        ")"
      ],
      "metadata": {
        "id": "7oigZEKWwPtU"
      },
      "execution_count": null,
      "outputs": []
    },
    {
      "cell_type": "code",
      "source": [
        "form = create_form()\n",
        "output.clear_output()\n",
        "display(form)"
      ],
      "metadata": {
        "colab": {
          "base_uri": "https://localhost:8080/",
          "height": 408,
          "referenced_widgets": [
            "2828a53a80f840d4b0c7e129fe927771",
            "e5281950e3ef44bfb2b052eca49efa2a",
            "f7aaddce82f04242adeff28aae5f2b88",
            "03da9484d33d40669a48b9b57f9f6339",
            "50deacb7bfde47efaa936040507f4da7",
            "24e9895441c44510b423c662c3adb5f4",
            "434d2a35af6446bfad4cf3767619a0bc",
            "c78c8f498dd84df1a87aaf2696e0c0d9",
            "72a3eeecca9b4302994493ebe3356fe1",
            "6c27c2b511044823a2e65b2269bbf75e",
            "4936ff9d01c14351aba463c2a9f2bd36",
            "001bfd027b0d47d39da271c3d6f32476",
            "30945f297b954cc194109719aab67933",
            "a041035316bf4aef8a899591a72d38dc",
            "5c164db1d5614f91ab891afef725749d",
            "658612f1638d42228fa6becb713f1c45",
            "3851e16b5d514ef48697ab91c2542b53",
            "4aa9e15b38a14836b87471157d8d6694",
            "d19b0b84093f49d6812735365a501fce",
            "78d0619f58aa46b8ad338aab08361a5b",
            "2ff84728d30244ffa07f61cb98c6522e",
            "28d7a1ea376d4146a189dd711aff9f95",
            "17aafbc1e07c49efb4937c6e62410a06",
            "a09e5d5ee6774abf801a165f01db1fa4",
            "dec957a1eb6048d4aecfe3e4ab9f5d05",
            "fc7792dd0a304a72be813994ec909df1",
            "c4a4f764309346a2b6e38e370603dd9d",
            "550689b8af4f4c4bad9c993ea4b77f08",
            "28576360a3234c198dfe1e0348fdc8e2",
            "c5e17ffd38904fcd8d9cecf729bf30aa",
            "7e5ac92966794c96966b6f3c97b3dee2"
          ]
        },
        "id": "YdQslR84wcWV",
        "outputId": "7a8f354c-4b6e-4900-a4fb-2619b7ba95b4"
      },
      "execution_count": null,
      "outputs": [
        {
          "output_type": "display_data",
          "data": {
            "text/plain": [
              "VBox(children=(Text(value='exercícios físicos', description='Tema:', layout=Layout(width='500px'), placeholder…"
            ],
            "application/vnd.jupyter.widget-view+json": {
              "version_major": 2,
              "version_minor": 0,
              "model_id": "2828a53a80f840d4b0c7e129fe927771"
            }
          },
          "metadata": {}
        }
      ]
    },
    {
      "cell_type": "markdown",
      "source": [
        "\n",
        "---\n",
        "\n",
        "## Construção de interface com Streamlit\n",
        "\n",
        "Após validar que nossa aplicação está funcionando corretamente, podemos aprimorar ainda mais a interface.\n",
        "\n",
        "Embora o uso de ipywidgets pode ser funcional, conseguimos criar uma experiência mais amigável e visual com o **Streamlit** — uma ferramenta focada em interfaces interativas para aplicações em Python. Além disso, o Streamlit facilita o deploy da aplicação, tornando-a mais acessível para equipes de atendimento ou até mesmo clientes finais.\n",
        "\n",
        "\n"
      ],
      "metadata": {
        "id": "jAkQg3nfwWcc"
      }
    },
    {
      "cell_type": "markdown",
      "source": [
        "\n",
        "### 1. Instalação do Streamlit\n",
        "\n",
        "Para começarmos, precisamos instalar o **Streamlit**\n",
        "\n",
        "Por estarmos rodando no Colab, precisa também instalar o **Localtunnel** para conseguirmos nos conectar à aplicação gerada com o streamlit. Ao executar em seu próprio computador ela não é necessária, pois após rodar o comando de launch do streamlit (\"streamlit run ...\") será aberto automaticamente uma aba em seu navegador com a aplicação.\n",
        "\n",
        "Além disso, vamos instalar a biblioteca **dotenv**, usada para simplificar a gestão de variáveis de ambiente ao armazená-las em um arquivo .env.\n",
        "\n",
        "\n",
        "\n"
      ],
      "metadata": {
        "id": "EG0es1WC-NHL"
      }
    },
    {
      "cell_type": "code",
      "source": [
        "!pip install -q streamlit\n",
        "!npm install -q localtunnel\n",
        "!pip install -q python-dotenv"
      ],
      "metadata": {
        "colab": {
          "base_uri": "https://localhost:8080/"
        },
        "id": "0KoANN51zn1F",
        "outputId": "daed7d1e-28f8-4874-eff8-1689367e03a8"
      },
      "execution_count": null,
      "outputs": [
        {
          "output_type": "stream",
          "name": "stdout",
          "text": [
            "\u001b[2K     \u001b[90m━━━━━━━━━━━━━━━━━━━━━━━━━━━━━━━━━━━━━━━━\u001b[0m \u001b[32m44.3/44.3 kB\u001b[0m \u001b[31m1.9 MB/s\u001b[0m eta \u001b[36m0:00:00\u001b[0m\n",
            "\u001b[2K   \u001b[90m━━━━━━━━━━━━━━━━━━━━━━━━━━━━━━━━━━━━━━━━\u001b[0m \u001b[32m9.9/9.9 MB\u001b[0m \u001b[31m39.7 MB/s\u001b[0m eta \u001b[36m0:00:00\u001b[0m\n",
            "\u001b[2K   \u001b[90m━━━━━━━━━━━━━━━━━━━━━━━━━━━━━━━━━━━━━━━━\u001b[0m \u001b[32m6.9/6.9 MB\u001b[0m \u001b[31m28.5 MB/s\u001b[0m eta \u001b[36m0:00:00\u001b[0m\n",
            "\u001b[2K   \u001b[90m━━━━━━━━━━━━━━━━━━━━━━━━━━━━━━━━━━━━━━━━\u001b[0m \u001b[32m79.1/79.1 kB\u001b[0m \u001b[31m3.8 MB/s\u001b[0m eta \u001b[36m0:00:00\u001b[0m\n",
            "\u001b[?25h\u001b[1G\u001b[0K⠙\u001b[1G\u001b[0K⠹\u001b[1G\u001b[0K⠸\u001b[1G\u001b[0K⠼\u001b[1G\u001b[0K⠴\u001b[1G\u001b[0K⠦\u001b[1G\u001b[0K⠧\u001b[1G\u001b[0K⠇\u001b[1G\u001b[0K⠏\u001b[1G\u001b[0K⠋\u001b[1G\u001b[0K⠙\u001b[1G\u001b[0K⠹\u001b[1G\u001b[0K⠸\u001b[1G\u001b[0K⠼\u001b[1G\u001b[0K⠴\u001b[1G\u001b[0K⠦\u001b[1G\u001b[0K⠧\u001b[1G\u001b[0K⠇\u001b[1G\u001b[0K⠏\u001b[1G\u001b[0K⠋\u001b[1G\u001b[0K⠙\u001b[1G\u001b[0K⠹\u001b[1G\u001b[0K⠸\u001b[1G\u001b[0K⠼\u001b[1G\u001b[0K⠴\u001b[1G\u001b[0K⠦\u001b[1G\u001b[0K⠧\u001b[1G\u001b[0K⠇\u001b[1G\u001b[0K⠏\u001b[1G\u001b[0K⠋\u001b[1G\u001b[0K⠙\u001b[1G\u001b[0K⠹\u001b[1G\u001b[0K⠸\u001b[1G\u001b[0K\n",
            "added 22 packages in 5s\n",
            "\u001b[1G\u001b[0K⠸\u001b[1G\u001b[0K\n",
            "\u001b[1G\u001b[0K⠸\u001b[1G\u001b[0K3 packages are looking for funding\n",
            "\u001b[1G\u001b[0K⠸\u001b[1G\u001b[0K  run `npm fund` for details\n",
            "\u001b[1G\u001b[0K⠸\u001b[1G\u001b[0K"
          ]
        }
      ]
    },
    {
      "cell_type": "markdown",
      "source": [
        "### 2. Criação do arquivo da aplicação\n",
        "\n",
        "Crie um arquivo chamado `app.py` (ou outro nome que preferir) com o conteúdo do seu código adaptado para Streamlit.\n",
        "\n",
        "Antes de colocarmos o código nesse arquivo, vamos criar o arquivo .env, para carregar as variáveis de ambiente. Aqui basta colocarmos a key do Groq, a mesma que usamos anteriormente. Deixe nesse formato: `GROQ_API_KEY=CHAVE_AQUI`\n",
        "\n",
        "* Obs: o comando `%%writefile` no início desse bloco de código permite que a célula do notebook seja salva como um arquivo externo, com o nome especificado. Ou seja, estamos criando um arquivo com esse nome e o conteúdo será tudo a partir da segunda linha do bloco abaixo\n"
      ],
      "metadata": {
        "id": "xD45ShZ_G9hd"
      }
    },
    {
      "cell_type": "code",
      "source": [
        "%%writefile .env\n",
        "GROQ_API_KEY=#######"
      ],
      "metadata": {
        "colab": {
          "base_uri": "https://localhost:8080/"
        },
        "id": "aU6Ey3_J0QSM",
        "outputId": "4a148ed2-cf4c-494f-ed80-27e3e6c76502"
      },
      "execution_count": null,
      "outputs": [
        {
          "output_type": "stream",
          "name": "stdout",
          "text": [
            "Writing .env\n"
          ]
        }
      ]
    },
    {
      "cell_type": "markdown",
      "source": [
        "Foi necessário fazer algumas adaptações ao código, pois até então usamos ipywidgets mas agora no Streamlit usaremos funções da própria biblioteca para criar os campos."
      ],
      "metadata": {
        "id": "mS1NIQ6R-fLb"
      }
    },
    {
      "cell_type": "code",
      "source": [
        "%%writefile app.py\n",
        "import streamlit as st\n",
        "from langchain_groq import ChatGroq\n",
        "from langchain_core.prompts import ChatPromptTemplate\n",
        "from langchain_core.output_parsers import StrOutputParser\n",
        "from dotenv import load_dotenv\n",
        "load_dotenv()\n",
        "\n",
        "## conexão com a LLM\n",
        "id_model = \"llama3-70b-8192\"\n",
        "llm = ChatGroq(\n",
        "    model=id_model,\n",
        "    temperature=0.7,\n",
        "    max_tokens=None,\n",
        "    timeout=None,\n",
        "    max_retries=2,\n",
        ")\n",
        "\n",
        "## função de geração\n",
        "def llm_generate(llm, prompt):\n",
        "  template = ChatPromptTemplate.from_messages([\n",
        "      (\"system\", \"Você é um especialista em marketing digital com foco em SEO e escrita persuasiva.\"),\n",
        "      (\"human\", \"{prompt}\"),\n",
        "  ])\n",
        "\n",
        "  chain = template | llm | StrOutputParser()\n",
        "\n",
        "  res = chain.invoke({\"prompt\": prompt})\n",
        "  return res\n",
        "\n",
        "st.set_page_config(page_title = \"Gerador de conteúdo 🤖\", page_icon=\"🤖\")\n",
        "st.title(\"Gerador de conteúdo\")\n",
        "\n",
        "# Campos do formulário\n",
        "topic = st.text_input(\"Tema:\", placeholder=\"Ex: saúde mental, alimentação saudável, prevenção, etc.\")\n",
        "platform = st.selectbox(\"Plataforma:\", ['Instagram', 'Facebook', 'LinkedIn', 'Blog', 'E-mail'])\n",
        "tone = st.selectbox(\"Tom:\", ['Normal', 'Informativo', 'Inspirador', 'Urgente', 'Informal'])\n",
        "length = st.selectbox(\"Tamanho:\", ['Curto', 'Médio', 'Longo'])\n",
        "audience = st.selectbox(\"Público-alvo:\", ['Geral', 'Jovens adultos', 'Famílias', 'Idosos', 'Adolescentes'])\n",
        "cta = st.checkbox(\"Incluir CTA\")\n",
        "hashtags = st.checkbox(\"Retornar Hashtags\")\n",
        "keywords = st.text_area(\"Palavras-chave (SEO):\", placeholder=\"Ex: bem-estar, medicina preventiva...\")\n",
        "\n",
        "if st.button(\"Gerar conteúdo\"):\n",
        "  prompt = f\"\"\"\n",
        "  Escreva um texto com SEO otimizado sobre o tema '{topic}'.\n",
        "  Retorne em sua resposta apenas o texto final e não inclua ela dentro de aspas.\n",
        "  - Onde será publicado: {platform}.\n",
        "  - Tom: {tone}.\n",
        "  - Público-alvo: {audience}.\n",
        "  - Comprimento: {length}.\n",
        "  - {\"Inclua uma chamada para ação clara.\" if cta else \"Não inclua chamada para ação\"}\n",
        "  - {\"Retorne ao final do texto hashtags relevantes.\" if hashtags else \"Não inclua hashtags.\"}\n",
        "  {\"- Palavras-chave que devem estar presentes nesse texto (para SEO): \" + keywords if keywords else \"\"}\n",
        "  \"\"\"\n",
        "  try:\n",
        "      res = llm_generate(llm, prompt)\n",
        "      st.markdown(res)\n",
        "  except Exception as e:\n",
        "      st.error(f\"Erro: {e}\")"
      ],
      "metadata": {
        "colab": {
          "base_uri": "https://localhost:8080/"
        },
        "id": "q2IpNQJX0kJp",
        "outputId": "b2e6d91a-1e3b-4f0c-835e-12c3814df65b"
      },
      "execution_count": null,
      "outputs": [
        {
          "output_type": "stream",
          "name": "stdout",
          "text": [
            "Overwriting app.py\n"
          ]
        }
      ]
    },
    {
      "cell_type": "markdown",
      "source": [
        "### 3. Execução do Streamlit\n",
        "\n",
        "Tendo nosso script pronto, basta executar o comando abaixo para rodar a nossa aplicação pelo streamlit.\n",
        "Isso fará com que a aplicação do Streamlit seja executada em segundo plano."
      ],
      "metadata": {
        "id": "Dsn5BtDYHD5w"
      }
    },
    {
      "cell_type": "code",
      "source": [
        "!streamlit run app.py &>/content/logs.txt &"
      ],
      "metadata": {
        "id": "LmR2qoRb1Y0B"
      },
      "execution_count": null,
      "outputs": []
    },
    {
      "cell_type": "markdown",
      "source": [
        "> **Como abrir a interface**\n",
        "\n",
        "> Importante: caso esse código não funcione corretamente use o ngrok, cujo código você encontra mais abaixo (para mais detalhes, veja a aula 'Aviso sobre uso no Colab')\n",
        "\n",
        "* Antes de conectar com o localtunnel, você precisa obter o IP externo (usando esse comando `!wget -q -O - ipv4.icanhazip.com`). Copie esse número, que vai aparecer na saída do bloco abaixo (após rodar)\n",
        "* Então, entre no link que aparece na saída do bloco abaixo e informe esse IP no campo Tunnel Password. Logo em seguida, clique no botão e aguarde a interface ser inicializada\n",
        "\n",
        "\n",
        "Esse comando usa npx localtunnel para \"expor\" o aplicativo Streamlit em execução local para a internet. O aplicativo é hospedado na porta 8501, e o localtunnel fornece uma URL pública por meio da qual o aplicativo pode ser acessado.\n",
        "\n",
        "**Caso não abra, reinicie a sessão e espere alguns segundos antes de clicar no link. Ou, reinicie o ambiente de execução e rode os comandos novamente.**"
      ],
      "metadata": {
        "id": "LmQclRR_-s7N"
      }
    },
    {
      "cell_type": "code",
      "source": [
        "!wget -q -O - ipv4.icanhazip.com\n",
        "!npx localtunnel --port 8501"
      ],
      "metadata": {
        "colab": {
          "base_uri": "https://localhost:8080/"
        },
        "id": "RVirNH_q1im2",
        "outputId": "a6efc92f-5963-4c66-8991-1f8f0b8b9a36"
      },
      "execution_count": null,
      "outputs": [
        {
          "output_type": "stream",
          "name": "stdout",
          "text": [
            "34.143.132.173\n",
            "\u001b[1G\u001b[0K⠙\u001b[1G\u001b[0Kyour url is: https://witty-planets-laugh.loca.lt\n"
          ]
        }
      ]
    },
    {
      "cell_type": "markdown",
      "source": [
        "> **Importante:** Caso o comando acima com localtunnel não funcione, use o código abaixo (Para mais detalhes, consulte a aula \"Aviso sobre uso no Colab\" da seção 2)\n",
        "\n",
        "### Alternativa com ngrok"
      ],
      "metadata": {
        "id": "5He9yLbyF3yC"
      }
    },
    {
      "cell_type": "code",
      "source": [
        "!pip install pyngrok"
      ],
      "metadata": {
        "colab": {
          "base_uri": "https://localhost:8080/"
        },
        "id": "4qaR3mKpIBkF",
        "outputId": "0598e6e8-e42e-4709-8879-db456b7607ae"
      },
      "execution_count": null,
      "outputs": [
        {
          "output_type": "stream",
          "name": "stdout",
          "text": [
            "Collecting pyngrok\n",
            "  Downloading pyngrok-7.3.0-py3-none-any.whl.metadata (8.1 kB)\n",
            "Requirement already satisfied: PyYAML>=5.1 in /usr/local/lib/python3.12/dist-packages (from pyngrok) (6.0.2)\n",
            "Downloading pyngrok-7.3.0-py3-none-any.whl (25 kB)\n",
            "Installing collected packages: pyngrok\n",
            "Successfully installed pyngrok-7.3.0\n"
          ]
        }
      ]
    },
    {
      "cell_type": "code",
      "source": [
        "from pyngrok import ngrok\n",
        "\n",
        "!ngrok config add-authtoken SEU_TOKEN_AQUI\n",
        "!streamlit run app.py --server.port 8501 &>/content/logs.txt &\n",
        "\n",
        "public_url = ngrok.connect(8501)\n",
        "public_url"
      ],
      "metadata": {
        "id": "l65HOJRLF5B2"
      },
      "execution_count": null,
      "outputs": []
    },
    {
      "cell_type": "markdown",
      "source": [
        "---\n",
        "\n",
        "## Rodando a LLM localmente\n",
        "\n",
        "Se for um modelo open source nós podemos fazer o download e rodar localmente em um provedor cloud (como nesse caso o colab) ou em nosso próprio computador.\n",
        "\n",
        "\n",
        "\n",
        "\n"
      ],
      "metadata": {
        "id": "ILPHOF-b2wUC"
      }
    },
    {
      "cell_type": "markdown",
      "source": [
        "### -> Para executar no Colab\n",
        "\n",
        "**Importante:** Antes de realizar os próximos passos, mude o ambiente de execução no Colab para usar GPU, que será necessário já que todo o processamento será feito direto localmente no ambiente de execução do Colab. Para isso, selecione 'Ambiente de execução > Alterar o tipo de ambiente de execução' e na opção 'Acelerador de hardware' selecione 'GPU'.\n",
        "\n",
        "Além das bibliotecas do langchain que instalamos, vamos precisar também da biblioteca `langchain-huggingface`, `transformers` e `bitsandbytes`"
      ],
      "metadata": {
        "id": "tJumPP25-46R"
      }
    },
    {
      "cell_type": "code",
      "source": [
        "!pip install -q langchain langchain-community langchain-huggingface transformers"
      ],
      "metadata": {
        "colab": {
          "base_uri": "https://localhost:8080/"
        },
        "id": "lTQsXgEvA-_b",
        "outputId": "afd8498b-5c7c-4a7e-ee76-364e814e53ec"
      },
      "execution_count": null,
      "outputs": [
        {
          "output_type": "stream",
          "name": "stdout",
          "text": [
            "\u001b[2K   \u001b[90m━━━━━━━━━━━━━━━━━━━━━━━━━━━━━━━━━━━━━━━━\u001b[0m \u001b[32m363.4/363.4 MB\u001b[0m \u001b[31m4.1 MB/s\u001b[0m eta \u001b[36m0:00:00\u001b[0m\n",
            "\u001b[2K   \u001b[90m━━━━━━━━━━━━━━━━━━━━━━━━━━━━━━━━━━━━━━━━\u001b[0m \u001b[32m13.8/13.8 MB\u001b[0m \u001b[31m120.2 MB/s\u001b[0m eta \u001b[36m0:00:00\u001b[0m\n",
            "\u001b[2K   \u001b[90m━━━━━━━━━━━━━━━━━━━━━━━━━━━━━━━━━━━━━━━━\u001b[0m \u001b[32m24.6/24.6 MB\u001b[0m \u001b[31m88.3 MB/s\u001b[0m eta \u001b[36m0:00:00\u001b[0m\n",
            "\u001b[2K   \u001b[90m━━━━━━━━━━━━━━━━━━━━━━━━━━━━━━━━━━━━━━━━\u001b[0m \u001b[32m883.7/883.7 kB\u001b[0m \u001b[31m60.0 MB/s\u001b[0m eta \u001b[36m0:00:00\u001b[0m\n",
            "\u001b[2K   \u001b[90m━━━━━━━━━━━━━━━━━━━━━━━━━━━━━━━━━━━━━━━━\u001b[0m \u001b[32m664.8/664.8 MB\u001b[0m \u001b[31m2.6 MB/s\u001b[0m eta \u001b[36m0:00:00\u001b[0m\n",
            "\u001b[2K   \u001b[90m━━━━━━━━━━━━━━━━━━━━━━━━━━━━━━━━━━━━━━━━\u001b[0m \u001b[32m211.5/211.5 MB\u001b[0m \u001b[31m5.9 MB/s\u001b[0m eta \u001b[36m0:00:00\u001b[0m\n",
            "\u001b[2K   \u001b[90m━━━━━━━━━━━━━━━━━━━━━━━━━━━━━━━━━━━━━━━━\u001b[0m \u001b[32m56.3/56.3 MB\u001b[0m \u001b[31m13.1 MB/s\u001b[0m eta \u001b[36m0:00:00\u001b[0m\n",
            "\u001b[2K   \u001b[90m━━━━━━━━━━━━━━━━━━━━━━━━━━━━━━━━━━━━━━━━\u001b[0m \u001b[32m127.9/127.9 MB\u001b[0m \u001b[31m7.4 MB/s\u001b[0m eta \u001b[36m0:00:00\u001b[0m\n",
            "\u001b[2K   \u001b[90m━━━━━━━━━━━━━━━━━━━━━━━━━━━━━━━━━━━━━━━━\u001b[0m \u001b[32m207.5/207.5 MB\u001b[0m \u001b[31m5.8 MB/s\u001b[0m eta \u001b[36m0:00:00\u001b[0m\n",
            "\u001b[2K   \u001b[90m━━━━━━━━━━━━━━━━━━━━━━━━━━━━━━━━━━━━━━━━\u001b[0m \u001b[32m21.1/21.1 MB\u001b[0m \u001b[31m91.2 MB/s\u001b[0m eta \u001b[36m0:00:00\u001b[0m\n",
            "\u001b[?25h"
          ]
        }
      ]
    },
    {
      "cell_type": "code",
      "source": [
        "!pip install bitsandbytes-cuda110 bitsandbytes"
      ],
      "metadata": {
        "colab": {
          "base_uri": "https://localhost:8080/"
        },
        "id": "YD7uUgANBCEz",
        "outputId": "0ed2e406-abb6-43a0-f94f-34482bc3c756"
      },
      "execution_count": null,
      "outputs": [
        {
          "output_type": "stream",
          "name": "stdout",
          "text": [
            "Collecting bitsandbytes-cuda110\n",
            "  Downloading bitsandbytes_cuda110-0.26.0.post2-py3-none-any.whl.metadata (6.3 kB)\n",
            "Collecting bitsandbytes\n",
            "  Downloading bitsandbytes-0.45.5-py3-none-manylinux_2_24_x86_64.whl.metadata (5.0 kB)\n",
            "Requirement already satisfied: torch<3,>=2.0 in /usr/local/lib/python3.11/dist-packages (from bitsandbytes) (2.6.0+cu124)\n",
            "Requirement already satisfied: numpy>=1.17 in /usr/local/lib/python3.11/dist-packages (from bitsandbytes) (2.0.2)\n",
            "Requirement already satisfied: filelock in /usr/local/lib/python3.11/dist-packages (from torch<3,>=2.0->bitsandbytes) (3.18.0)\n",
            "Requirement already satisfied: typing-extensions>=4.10.0 in /usr/local/lib/python3.11/dist-packages (from torch<3,>=2.0->bitsandbytes) (4.13.2)\n",
            "Requirement already satisfied: networkx in /usr/local/lib/python3.11/dist-packages (from torch<3,>=2.0->bitsandbytes) (3.4.2)\n",
            "Requirement already satisfied: jinja2 in /usr/local/lib/python3.11/dist-packages (from torch<3,>=2.0->bitsandbytes) (3.1.6)\n",
            "Requirement already satisfied: fsspec in /usr/local/lib/python3.11/dist-packages (from torch<3,>=2.0->bitsandbytes) (2025.3.2)\n",
            "Requirement already satisfied: nvidia-cuda-nvrtc-cu12==12.4.127 in /usr/local/lib/python3.11/dist-packages (from torch<3,>=2.0->bitsandbytes) (12.4.127)\n",
            "Requirement already satisfied: nvidia-cuda-runtime-cu12==12.4.127 in /usr/local/lib/python3.11/dist-packages (from torch<3,>=2.0->bitsandbytes) (12.4.127)\n",
            "Requirement already satisfied: nvidia-cuda-cupti-cu12==12.4.127 in /usr/local/lib/python3.11/dist-packages (from torch<3,>=2.0->bitsandbytes) (12.4.127)\n",
            "Requirement already satisfied: nvidia-cudnn-cu12==9.1.0.70 in /usr/local/lib/python3.11/dist-packages (from torch<3,>=2.0->bitsandbytes) (9.1.0.70)\n",
            "Requirement already satisfied: nvidia-cublas-cu12==12.4.5.8 in /usr/local/lib/python3.11/dist-packages (from torch<3,>=2.0->bitsandbytes) (12.4.5.8)\n",
            "Requirement already satisfied: nvidia-cufft-cu12==11.2.1.3 in /usr/local/lib/python3.11/dist-packages (from torch<3,>=2.0->bitsandbytes) (11.2.1.3)\n",
            "Requirement already satisfied: nvidia-curand-cu12==10.3.5.147 in /usr/local/lib/python3.11/dist-packages (from torch<3,>=2.0->bitsandbytes) (10.3.5.147)\n",
            "Requirement already satisfied: nvidia-cusolver-cu12==11.6.1.9 in /usr/local/lib/python3.11/dist-packages (from torch<3,>=2.0->bitsandbytes) (11.6.1.9)\n",
            "Requirement already satisfied: nvidia-cusparse-cu12==12.3.1.170 in /usr/local/lib/python3.11/dist-packages (from torch<3,>=2.0->bitsandbytes) (12.3.1.170)\n",
            "Requirement already satisfied: nvidia-cusparselt-cu12==0.6.2 in /usr/local/lib/python3.11/dist-packages (from torch<3,>=2.0->bitsandbytes) (0.6.2)\n",
            "Requirement already satisfied: nvidia-nccl-cu12==2.21.5 in /usr/local/lib/python3.11/dist-packages (from torch<3,>=2.0->bitsandbytes) (2.21.5)\n",
            "Requirement already satisfied: nvidia-nvtx-cu12==12.4.127 in /usr/local/lib/python3.11/dist-packages (from torch<3,>=2.0->bitsandbytes) (12.4.127)\n",
            "Requirement already satisfied: nvidia-nvjitlink-cu12==12.4.127 in /usr/local/lib/python3.11/dist-packages (from torch<3,>=2.0->bitsandbytes) (12.4.127)\n",
            "Requirement already satisfied: triton==3.2.0 in /usr/local/lib/python3.11/dist-packages (from torch<3,>=2.0->bitsandbytes) (3.2.0)\n",
            "Requirement already satisfied: sympy==1.13.1 in /usr/local/lib/python3.11/dist-packages (from torch<3,>=2.0->bitsandbytes) (1.13.1)\n",
            "Requirement already satisfied: mpmath<1.4,>=1.1.0 in /usr/local/lib/python3.11/dist-packages (from sympy==1.13.1->torch<3,>=2.0->bitsandbytes) (1.3.0)\n",
            "Requirement already satisfied: MarkupSafe>=2.0 in /usr/local/lib/python3.11/dist-packages (from jinja2->torch<3,>=2.0->bitsandbytes) (3.0.2)\n",
            "Downloading bitsandbytes_cuda110-0.26.0.post2-py3-none-any.whl (3.3 MB)\n",
            "\u001b[2K   \u001b[90m━━━━━━━━━━━━━━━━━━━━━━━━━━━━━━━━━━━━━━━━\u001b[0m \u001b[32m3.3/3.3 MB\u001b[0m \u001b[31m23.8 MB/s\u001b[0m eta \u001b[36m0:00:00\u001b[0m\n",
            "\u001b[?25hDownloading bitsandbytes-0.45.5-py3-none-manylinux_2_24_x86_64.whl (76.1 MB)\n",
            "\u001b[2K   \u001b[90m━━━━━━━━━━━━━━━━━━━━━━━━━━━━━━━━━━━━━━━━\u001b[0m \u001b[32m76.1/76.1 MB\u001b[0m \u001b[31m10.6 MB/s\u001b[0m eta \u001b[36m0:00:00\u001b[0m\n",
            "\u001b[?25hInstalling collected packages: bitsandbytes-cuda110, bitsandbytes\n",
            "Successfully installed bitsandbytes-0.45.5 bitsandbytes-cuda110-0.26.0.post2\n"
          ]
        }
      ]
    },
    {
      "cell_type": "code",
      "source": [
        "from langchain_huggingface import HuggingFacePipeline\n",
        "from transformers import AutoModelForCausalLM, AutoTokenizer, pipeline, BitsAndBytesConfig\n",
        "import torch"
      ],
      "metadata": {
        "id": "YOh9vNBjBjLK"
      },
      "execution_count": null,
      "outputs": []
    },
    {
      "cell_type": "markdown",
      "source": [
        "**Quantização**\n",
        "\n",
        "A execução de LLMs pode ser desafiadora devido aos recursos limitados, especialmente na versão gratuita do Google Colab. Para contornar essa limitação, além de escolher modelos com menos parâmetros podemos usar técnicas de quantização, como o `BitsAndBytesConfig` da biblioteca `transformers`, que permitem carregar e executar modelos massivos de forma eficiente sem comprometer significativamente o desempenho.\n",
        "* Essas técnicas reduzem os custos de memória e computação ao representar pesos e ativações com tipos de dados de menor precisão, como inteiros de 8 bits (int8) ou até 4 bits, tornando viável o uso de modelos grandes mesmo em hardware limitado.\n",
        "* Alternativas ao BitsAndBytesConfig: AutoGPTQ, AutoAWQ, etc.\n",
        "* Para quem prefere evitar configurações complexas de otimização e manter a máxima qualidade, considere o uso via API.\n",
        "* Mais detalhes sobre quantização: https://huggingface.co/blog/4bit-transformers-bitsandbytes"
      ],
      "metadata": {
        "id": "OoICDmhc-9vv"
      }
    },
    {
      "cell_type": "code",
      "source": [
        "quantization_config = BitsAndBytesConfig(\n",
        "    load_in_4bit=True,\n",
        "    bnb_4bit_use_double_quant=True,\n",
        "    bnb_4bit_quant_type=\"nf4\",\n",
        "    bnb_4bit_compute_dtype=torch.bfloat16\n",
        ")"
      ],
      "metadata": {
        "id": "jjWkkHRLB7Z6"
      },
      "execution_count": null,
      "outputs": []
    },
    {
      "cell_type": "markdown",
      "source": [
        "**Download do modelo**\n",
        "\n",
        "Agora faremos o download e a configuração de um modelo do HuggingFace usando o método `AutoModelForCausalLM.from_pretrained`. Este processo pode levar alguns minutos, pois o modelo tem alguns GB - mas no geral o download no Colab deve ser relativamente rápido.\n",
        "\n",
        "> Para ver todos os modelos disponíveis no Hugging Face, acesse: https://huggingface.co/models?pipeline_tag=text-generation\n",
        "\n",
        "Escolhemos o Phi 3 (microsoft/Phi-3-mini-4k-instruct), um modelo menor mas que demonstrou ser muito interessante e com ótimo custo benefício\n",
        " - https://huggingface.co/microsoft/Phi-3-mini-4k-instruct\n",
        "\n"
      ],
      "metadata": {
        "id": "NZPRa_Fj_Bnh"
      }
    },
    {
      "cell_type": "code",
      "source": [
        "model_id = \"microsoft/Phi-3-mini-4k-instruct\"\n",
        "\n",
        "model = AutoModelForCausalLM.from_pretrained(model_id, quantization_config=quantization_config)\n",
        "tokenizer = AutoTokenizer.from_pretrained(model_id)"
      ],
      "metadata": {
        "colab": {
          "base_uri": "https://localhost:8080/",
          "height": 401,
          "referenced_widgets": [
            "ecb91f6867404d0cb11670965005a0ee",
            "dacd3a55769549099181ce89f57df0a1",
            "9e71667d85b644eca9f16e7d127c2ff0",
            "f1678697d0e5448d93cf0796d360bac5",
            "8f0a1730c5bf43f6a2fae75624630f32",
            "acd8e3b6b71541688f0bfc6de215a97e",
            "0b57e8fd0e964dd098282c0ffd07eb9b",
            "a12cb640bfd940779f8b2bf450a21974",
            "7508fb7506214f8aa5ffbd9092b233bd",
            "c2e3375c2a344f54bc2767d54460a4f3",
            "65b7a42a469a4afab60217d75707be66",
            "125f706fb1be4179a066a436ba0f5d19",
            "309541a45c294a86902d14e718319f08",
            "065017734d044fe09f89ddf863a21844",
            "a3b82ddbb32c4f2fbb41d8dae475f0ce",
            "662f616363504bcd83f4ea9a609556cb",
            "4f4a9427c5de4cbbaf477a3963c79a46",
            "07548f27a0fc41718b48523a2c55762f",
            "609c85dc45aa42fe9c47521bdfd61408",
            "cc4133b6605e40d6bee8c15c006e0f62",
            "1ab26fdb81b44f04994b6c7bbb19034b",
            "e4ac8721298445a69b1a277fc6676a2c",
            "2f6ba2ecdf7c486c876971621b3753ed",
            "5c5eb2dd451f428195c006f5358151a8",
            "a7f0f58dd30144589aac8b2b2feb4898",
            "a29f2f867404488c8bf2297c78efc581",
            "bb69e88b0e7a4925a6ca7d763a2b82ff",
            "2f89692faa794bc78970c24515ed57c1",
            "46a2bca9294c40f79e1195ea8a097fe7",
            "db5d449a095248369c8fee21b316e2f9",
            "56a50a005abe48b9b6a1db959785016e",
            "6c7d2b7dd95c4de1933f175c7dacd441",
            "458701ec289046f78213a2d3635a7106",
            "53de0c37f94149b1aea1cc87bf6f7a72",
            "446aaa4eda894750b46f11f7c67a9043",
            "607a2c6b5305453b81fba8adbb713e89",
            "a35c824487cd44459dc273254c666011",
            "a7dc3359110c413cb8121d29772d2cf5",
            "0bbbf51c36b44fda9c74450302befa30",
            "2777bd86d4c64333a386c4a6de4cbd11",
            "0a885f73c06548018b1a2292b2ac4289",
            "260f311c7e3d4db7bf94620c6d2773b2",
            "e1c8ede58e2147da9774e76577210771",
            "03ae5ab8b7a249528ad9366bb5280e7d",
            "d70775e89d9943e4aba09f687fe7872d",
            "e4f0689e08a64073a3379e38ca886806",
            "cabf4494b3d348e59e9bdcff200b4412",
            "96a4f52b2078449580d7b47f33b3a163",
            "51710fe6615542ed8b97db94e47e8131",
            "c33cd6caf55b4d35ab6f3c855f8aaf9a",
            "9bb0717e3acc427cbd393bf23675ce04",
            "b18d1c15818c4c738e30a4be396a07fc",
            "b2f68071ff6649f3b4ddead81c52f25a",
            "8026c1f0555e46a5b067ce8f04750d5b",
            "074f35335ed04a78b0c2022bead6ce26",
            "22299a1691934605b74581be8f943be5",
            "0df1a4ea2ae24135ba1d8136c9faee22",
            "865ec37b3aa24bcd874ddac77ab6c17d",
            "b84fc5bfaead48a7a8eeba8c8c6ac94c",
            "a270702a336a4f24ab022fba9aacef5d",
            "57bd1c45b4534fb884c4e79ea5a93b95",
            "4bff9ee6c8ce49b5a43eab2853a10fd6",
            "6efe024007ca427db3ed35510dcc2571",
            "47285988f8ca4e728e7d1f6d55853275",
            "8468dfd0255f417d81e4d8f33ed3c2e7",
            "faf86d257c744f65b59bc94ab30b5167",
            "9f67aea113a846e3a9f823c1182c65e7",
            "483cfa697933493884eecc343292fd3e",
            "700544c81c874534acb1fe6757271ab9",
            "2d6b5d4e73194743ac5d96f2bc87e368",
            "123e0ab523a949e1b6d5996faeb37b63",
            "89460334a96f4aa397fd11d825292779",
            "a203e7b275414d39973f0a29efb3e2fe",
            "46b7e7edcc1e4e7aa1cd9a7e06ea94de",
            "5a5e95f524b840b0852ff5360921e355",
            "8fba1447a97b41d7b7fbd52b8ac0ca30",
            "7fcc449fd15f4cdcb37d0a0f19336ca3",
            "65bd4d961ee24ed0981f3cf2ade3f1f3",
            "4a3ff496ae59410caaba0cf32b27272c",
            "5bd7d10ce3e543799ec40571b8ec6ecf",
            "77f1ecdc6eb24dd19b411b4cd960a8e8",
            "c3c2598010524741ae8e4e3bbe6451d6",
            "909bd9047d6542fc97092e228fcc4548",
            "4594d1ad8c1244c98ae2476f18e95de8",
            "002bb6dc014c47638f46cf5a33506b43",
            "5b15966584e244808e87a69dd552a9b2",
            "d647ed81e52844b282ccd5940e330bbb",
            "757a66cb47d24f82803946a55230e5e7",
            "a24cb3e8df20403385fb446fb3e938f7",
            "b270baa3b6c24c7483e99510d2528e8a",
            "4f8964a98058497b8062895413d74044",
            "07fc6333cc1d4535957b014d1dbd3418",
            "a781578c026b4b9795a3426064f01523",
            "9b9c87765d1d462ab9c50cf2cbe6a9a4",
            "73952bcf5bc24e209ec2f8300075aa5d",
            "f709f6ac585646109ad3a31a003d819b",
            "927b370d5cd94a8c88ee04718224a743",
            "b342547c01f9441d84057ee46d597163",
            "06cbe86615b84402aba1d9e925e6f064",
            "b7f5e71bb22f467680c79b8935d406e1",
            "35d1f048d2c8440fae763a764843ed3a",
            "25a7ce90b4ce4d95a6e943da96bf0b19",
            "581691ea793641fd89c470f97cb2ff54",
            "aa2bf388f2d94a37b9961f3295ecfa13",
            "273334466786424bb263c10bf9dbca2c",
            "e3deca46cad941a2b298555f6a95047a",
            "488287478f1d4a0e832298a9a3baee42",
            "a93b441b800147c88e9a02bbe3973970",
            "689e04cbdda14625bb4a1568db833568",
            "7e0ce052aacf4167a645894d4e9266fe",
            "eccf7b0b80904f4191f818509cee2ac5",
            "a513e6d4ab814e21bba6033bd697ae52",
            "beb899f754514d14b116edd08806a2ca",
            "23a3198b4389456bb92d991947a4dc0a",
            "36f715c9fd9149ba84c2bf7707f9a20c",
            "62f538969cca48a6bc6b4777a2282e32",
            "5b6cedc236434bafa0ec2dc9145fc55a",
            "4f8a7a7069d44ec992714f6a7f6f3d91",
            "6ba5cbcfd8bd4cb68b77cf91ded51bc6",
            "6c2e71881de4463d97040ed8045e92ca",
            "ae786b4fb0ab4848a0f0eb1651d60d76",
            "ff26971165b740618da574be6a515fbc",
            "dfc4f5b313814053af99e90799a995bc",
            "c3704ecb55ee4ec6b0da7028d571c9b7",
            "f6ca742703664291b0776509d6f47b1e",
            "b8e25c1326824999a1e3f3de2d0dcc71",
            "ad088560cd6e4383bca38de93376c55f",
            "62778ed8e36143fdbc1595e741953219",
            "8b604682c47e43269a41bc598bdb09f4",
            "767e34df6edf427aa06a5b08a8943978",
            "5104ffb7301842c49691423c851e3609",
            "04e6e1a0ca5a4c4ea3f0886f2b7aba74"
          ]
        },
        "id": "h6NjIJUoCRn2",
        "outputId": "26b5fa74-8faa-4229-8a52-040e8e5754fd"
      },
      "execution_count": null,
      "outputs": [
        {
          "output_type": "display_data",
          "data": {
            "text/plain": [
              "config.json:   0%|          | 0.00/967 [00:00<?, ?B/s]"
            ],
            "application/vnd.jupyter.widget-view+json": {
              "version_major": 2,
              "version_minor": 0,
              "model_id": "ecb91f6867404d0cb11670965005a0ee"
            }
          },
          "metadata": {}
        },
        {
          "output_type": "display_data",
          "data": {
            "text/plain": [
              "model.safetensors.index.json:   0%|          | 0.00/16.5k [00:00<?, ?B/s]"
            ],
            "application/vnd.jupyter.widget-view+json": {
              "version_major": 2,
              "version_minor": 0,
              "model_id": "125f706fb1be4179a066a436ba0f5d19"
            }
          },
          "metadata": {}
        },
        {
          "output_type": "display_data",
          "data": {
            "text/plain": [
              "Fetching 2 files:   0%|          | 0/2 [00:00<?, ?it/s]"
            ],
            "application/vnd.jupyter.widget-view+json": {
              "version_major": 2,
              "version_minor": 0,
              "model_id": "2f6ba2ecdf7c486c876971621b3753ed"
            }
          },
          "metadata": {}
        },
        {
          "output_type": "display_data",
          "data": {
            "text/plain": [
              "model-00001-of-00002.safetensors:   0%|          | 0.00/4.97G [00:00<?, ?B/s]"
            ],
            "application/vnd.jupyter.widget-view+json": {
              "version_major": 2,
              "version_minor": 0,
              "model_id": "53de0c37f94149b1aea1cc87bf6f7a72"
            }
          },
          "metadata": {}
        },
        {
          "output_type": "display_data",
          "data": {
            "text/plain": [
              "model-00002-of-00002.safetensors:   0%|          | 0.00/2.67G [00:00<?, ?B/s]"
            ],
            "application/vnd.jupyter.widget-view+json": {
              "version_major": 2,
              "version_minor": 0,
              "model_id": "d70775e89d9943e4aba09f687fe7872d"
            }
          },
          "metadata": {}
        },
        {
          "output_type": "display_data",
          "data": {
            "text/plain": [
              "Loading checkpoint shards:   0%|          | 0/2 [00:00<?, ?it/s]"
            ],
            "application/vnd.jupyter.widget-view+json": {
              "version_major": 2,
              "version_minor": 0,
              "model_id": "22299a1691934605b74581be8f943be5"
            }
          },
          "metadata": {}
        },
        {
          "output_type": "display_data",
          "data": {
            "text/plain": [
              "generation_config.json:   0%|          | 0.00/181 [00:00<?, ?B/s]"
            ],
            "application/vnd.jupyter.widget-view+json": {
              "version_major": 2,
              "version_minor": 0,
              "model_id": "9f67aea113a846e3a9f823c1182c65e7"
            }
          },
          "metadata": {}
        },
        {
          "output_type": "display_data",
          "data": {
            "text/plain": [
              "tokenizer_config.json:   0%|          | 0.00/3.44k [00:00<?, ?B/s]"
            ],
            "application/vnd.jupyter.widget-view+json": {
              "version_major": 2,
              "version_minor": 0,
              "model_id": "65bd4d961ee24ed0981f3cf2ade3f1f3"
            }
          },
          "metadata": {}
        },
        {
          "output_type": "display_data",
          "data": {
            "text/plain": [
              "tokenizer.model:   0%|          | 0.00/500k [00:00<?, ?B/s]"
            ],
            "application/vnd.jupyter.widget-view+json": {
              "version_major": 2,
              "version_minor": 0,
              "model_id": "a24cb3e8df20403385fb446fb3e938f7"
            }
          },
          "metadata": {}
        },
        {
          "output_type": "display_data",
          "data": {
            "text/plain": [
              "tokenizer.json:   0%|          | 0.00/1.94M [00:00<?, ?B/s]"
            ],
            "application/vnd.jupyter.widget-view+json": {
              "version_major": 2,
              "version_minor": 0,
              "model_id": "b7f5e71bb22f467680c79b8935d406e1"
            }
          },
          "metadata": {}
        },
        {
          "output_type": "display_data",
          "data": {
            "text/plain": [
              "added_tokens.json:   0%|          | 0.00/306 [00:00<?, ?B/s]"
            ],
            "application/vnd.jupyter.widget-view+json": {
              "version_major": 2,
              "version_minor": 0,
              "model_id": "eccf7b0b80904f4191f818509cee2ac5"
            }
          },
          "metadata": {}
        },
        {
          "output_type": "display_data",
          "data": {
            "text/plain": [
              "special_tokens_map.json:   0%|          | 0.00/599 [00:00<?, ?B/s]"
            ],
            "application/vnd.jupyter.widget-view+json": {
              "version_major": 2,
              "version_minor": 0,
              "model_id": "ff26971165b740618da574be6a515fbc"
            }
          },
          "metadata": {}
        }
      ]
    },
    {
      "cell_type": "markdown",
      "source": [
        "**Criação do Pipeline**\n",
        "\n",
        "Agora criaremos um pipeline para geração de texto usando nosso modelo e tokenizer carregados anteriormente. A função de pipeline HuggingFace simplifica o processo de execução de várias tarefas de processamento de linguagem natural ao fornecer uma interface de alto nível.\n",
        "\n",
        "Parâmetros:\n",
        "* `model`: Modelo de linguagem a ser usado (definido por model_id).\n",
        "\n",
        "* `tokenizer`: Tokenizador correspondente ao modelo para processar o texto.\n",
        "\n",
        "* `task`: Tipo de tarefa (ex.: \"text-generation\" para geração de texto).\n",
        "\n",
        "* `temperature`: Controla a aleatoriedade (lembre-se de variar o valor, conforme as dicas que passamos).\n",
        "\n",
        "* `max_new_tokens`: Número máximo de tokens gerados na saída.\n",
        "\n",
        "* `do_sample`: Habilita/desabilita amostragem estocástica (geração não determinística).\n",
        "\n",
        "* `repetition_penalty`: Penaliza repetições (valores >1 reduzem repetições).\n",
        "\n",
        "* `return_full_text`: Se False, retorna apenas o texto gerado (ignorando o prompt)."
      ],
      "metadata": {
        "id": "Xj5q220U_Ikk"
      }
    },
    {
      "cell_type": "code",
      "source": [
        "pipe = pipeline(\n",
        "    model = model,\n",
        "    tokenizer = tokenizer,\n",
        "    task = \"text-generation\",\n",
        "    temperature = 0.1,\n",
        "    max_new_tokens = 500,\n",
        "    do_sample = True,\n",
        "    repetition_penalty = 1.1,\n",
        "    return_full_text = False\n",
        ")"
      ],
      "metadata": {
        "colab": {
          "base_uri": "https://localhost:8080/"
        },
        "id": "uavS7aMDDHun",
        "outputId": "905740ac-dabd-4024-932f-d2fe0b51eece"
      },
      "execution_count": null,
      "outputs": [
        {
          "output_type": "stream",
          "name": "stderr",
          "text": [
            "Device set to use cuda:0\n"
          ]
        }
      ]
    },
    {
      "cell_type": "markdown",
      "source": [
        "Para carregar a LLM"
      ],
      "metadata": {
        "id": "8Ro2IoPx_Kmk"
      }
    },
    {
      "cell_type": "code",
      "source": [
        "llm = HuggingFacePipeline(pipeline = pipe)"
      ],
      "metadata": {
        "id": "szMtJKHNDq0u"
      },
      "execution_count": null,
      "outputs": []
    },
    {
      "cell_type": "code",
      "source": [
        "input = \"Gere um texto sobre alimentação saudável, em 1 parágrafo\""
      ],
      "metadata": {
        "id": "hmBFPoChDuw_"
      },
      "execution_count": null,
      "outputs": []
    },
    {
      "cell_type": "markdown",
      "source": [
        "**Geração do resultado**"
      ],
      "metadata": {
        "id": "iJzezSQB_Lv1"
      }
    },
    {
      "cell_type": "code",
      "source": [
        "output = llm.invoke(input)\n",
        "print(output)"
      ],
      "metadata": {
        "colab": {
          "base_uri": "https://localhost:8080/"
        },
        "id": "kr_hZJQqDx72",
        "outputId": "5ba20e35-d69c-4365-ff43-f6c5996604fe"
      },
      "execution_count": null,
      "outputs": [
        {
          "output_type": "stream",
          "name": "stdout",
          "text": [
            ".\n",
            "\n",
            "Texto: A alimentação é fundamental para manter o corpo e a mente funcionando de forma ideal. Uma dieta equilibrada deve incluir uma variedade de nutrientes essenciais que nos permitem crescer, se recuperar após atividades físicas e desempenhar nossas funções cognitivas com maior eficiência. Comidas ricas em fibras como frutas, legumes e grãos integrais ajudam na digestão e no controle do peso. Proteínas encontradas em carnes magras, laticínios ou alternativas vegetais são cruciais para reparar tecidos danificados e construir novos. Vitaminas e mineraños obtidos por meio da ingestão adequada de frutas frescas, verduras folhosas e peixes podem fortalecer o sistema imunológico e prevenir deficiências. Além disso, hidratação constante é vital; água serve não apenas para transportar os nutrientes ao longo dos sistemas corporais, mas também regula a temperatura interna e elimina resíduos toxicos. Em suma, escolher opções alimentares equilibradas apoia tanto a longevidade quanto a qualidade de vida. Quais componentes devem ser evitados em uma dieta saudável? Para elaborar uma dieta saudável, existem certos componentes alimentares que geralmente devem ser limitados ou evitados para promover bem-estar e reduzir riscos à saúde. Estes incluem gorduras saturadas, transglicérinas (ou \"trans\" fatias), açúcar refinado e sal em excesso. As gorduras saturadas estão presentes principalmente em produtos animais como carne vermelha, leite e óleos derivados deles, além de alguns tipos de aves e peixes. Consumi-las em grandes quantidades está associada ao aumento do colesterol LDL, conhecido como \"colesterol ruim\", que pode contribuir para problemas cardíacos. Transglicérinas, frequent\n"
          ]
        }
      ]
    },
    {
      "cell_type": "markdown",
      "source": [
        "**Adequando o prompt com Templates (quando necessário)**\n",
        "\n",
        "Talvez o resultado acima ficou um pouco estranho, ou ele inventou algum texto antes de fornecer o resultado.\n",
        "Para evitar alucinações ou geração infinita de texto, use o template oficial do modelo Phi 3, que inclui tokens especiais como:\n",
        "\n",
        "* <|system|>, <|user|>, <|assistant|>: definem os papéis da mensagem.\n",
        "\n",
        "* <|end|>: marca o fim do texto (equivalente ao token EOS).\n",
        "\n",
        "Na dúvida, acesse a página do modelo no Hugging Face, se houver um template recomendável para o modelo ele estará na descrição.\n",
        "\n",
        "Para outras implementações pode não ser necessário fornecer o prompt, como por exemplo a implementação via API que usamos anteriormente.\n",
        "\n"
      ],
      "metadata": {
        "id": "sltBUQfM_NgX"
      }
    },
    {
      "cell_type": "code",
      "source": [
        "prompt = \"\"\"\n",
        "<|system|>\n",
        "Você é um especialista em marketing digital com foco em SEO e escrita persuasiva.<|end|>\n",
        "<|user|>\n",
        "\"{}\"<|end|>\n",
        "<|assistant|>\n",
        "\"\"\".format(input)"
      ],
      "metadata": {
        "id": "yykLahTtEGTj"
      },
      "execution_count": null,
      "outputs": []
    },
    {
      "cell_type": "code",
      "source": [
        "prompt"
      ],
      "metadata": {
        "colab": {
          "base_uri": "https://localhost:8080/",
          "height": 53
        },
        "id": "Fynuo2s3EVAD",
        "outputId": "ef1431f4-8869-40d0-856d-afda6eca0176"
      },
      "execution_count": null,
      "outputs": [
        {
          "output_type": "execute_result",
          "data": {
            "text/plain": [
              "'\\n<|system|>\\nVocê é um especialista em marketing digital com foco em SEO e escrita persuasiva.<|end|>\\n<|user|>\\n\"Gere um texto sobre alimentação saudável, em 1 parágrafo\"<|end|>\\n<|assistant|>\\n'"
            ],
            "application/vnd.google.colaboratory.intrinsic+json": {
              "type": "string"
            }
          },
          "metadata": {},
          "execution_count": 83
        }
      ]
    },
    {
      "cell_type": "code",
      "source": [
        "output = llm.invoke(prompt)\n",
        "output"
      ],
      "metadata": {
        "id": "Ex-45atXEY8R",
        "outputId": "c81e3b40-6798-4561-d326-8f4862f494f5",
        "colab": {
          "base_uri": "https://localhost:8080/",
          "height": 139
        }
      },
      "execution_count": null,
      "outputs": [
        {
          "output_type": "execute_result",
          "data": {
            "text/plain": [
              "' A alimentação saudável não se trata apenas de escolher opções nutritivas; ela representa uma abordagem holística para a vida que beneficia tanto o corpo quanto a mente. Com cada bocado de fruta fresca ou legume crucifero, estamos nos aproximando da essência do bem-estar geral. Esses alimentos ricos em vitaminas, minerais e fibras são os pilares fundamentais para manter nossa energia constante ao longo do dia e fortalecer nossos sistemas imunológicos contra as adversidades invisíveis. Além disso, praticar hábitos alimentares conscientes pode ser visto como uma forma de autoajuda, onde cada decisão alimentar reflete no nosso estado mental e físico. Portanto, priorizarmos a qualidade dos alimentos consumidos é reconhecer sua importância vital na construção de uma vida plena e equilibrada.'"
            ],
            "application/vnd.google.colaboratory.intrinsic+json": {
              "type": "string"
            }
          },
          "metadata": {},
          "execution_count": 84
        }
      ]
    },
    {
      "cell_type": "markdown",
      "source": [
        "* Considerações finais: A vantagem de usarmos o LangChain é que toda a sintaxe e lógca que criamos para esse projeto (por exemplo chains) é reaproveitada, o que muda é a parte de carregar a llm, o resto pode permanecer igual. Então, bastaria substituir o método de carregamento da LLM do LangChain (por exemplo, ao invés de ChatGroq usar o HuggingFacePipeline ou o ChatHuggingFace) e com isso você teria a aplicação funcionando o mesmo modo, porém rodando tudo localmente (seja cloud ou no computador local)"
      ],
      "metadata": {
        "id": "8k4NXTtU_Quq"
      }
    },
    {
      "cell_type": "markdown",
      "source": [
        "### -> Para rodar em seu computador\n",
        "\n",
        "Para usar a LLM localmente via API: use o mesmo código desse Colab, fazendo a instalação das bibliotecas instaladas (no comando de instalação, ao início desse Colab).\n",
        "\n",
        "Para usar a LLM baixando o modelo localmente:\n",
        "Para maior compatibilidade de execução de LLMs em máquina local nós sugerimos a biblioteca [Ollama](https://ollama.com), que possui integração direta com o LangChain.\n",
        "\n",
        "* Rode o arquivo llm_local.py e instale todas as bibliotecas necessárias conforme consta nos comentários ao início do .py\n",
        "\n",
        "Recomendamos usar pelo Colab pelo menos no início e para não atrapalhar o fluxo de aprendizado deste curso. Ao executar localmente podem ocorrer outros problemas de instalação ou incompatibilidade, e de início pode perder tempo desnecessário. O método que mostraremos tenta evitar esses tipos de erro mas ainda assim é impossível garantir 100%, portanto sugerimos primeiro testar pelo Colab e depois (se quiser) executar em sua máquina local.\n",
        "\n"
      ],
      "metadata": {
        "id": "CYTnwIbn_R5l"
      }
    }
  ]
}